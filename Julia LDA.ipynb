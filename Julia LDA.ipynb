{
 "cells": [
  {
   "cell_type": "code",
   "execution_count": null,
   "id": "660efb29",
   "metadata": {},
   "outputs": [],
   "source": [
    "using LinearAlgebra\n",
    "using Random\n",
    "using Plots\n",
    "\n",
    "rng = MersenneTwister(13);"
   ]
  },
  {
   "cell_type": "code",
   "execution_count": null,
   "id": "94db8ba7",
   "metadata": {},
   "outputs": [],
   "source": [
    "x_dim = 5;\n",
    "samples = Integer(1e5);\n",
    "scale = 2;\n",
    "freq = 0.1 # freq class 1 samples"
   ]
  },
  {
   "cell_type": "code",
   "execution_count": null,
   "id": "cf439c39",
   "metadata": {},
   "outputs": [],
   "source": [
    "mu_0 = rand(Float64, (x_dim));\n",
    "mu_1 = rand(Float64, (x_dim));\n",
    "sig = rand(Float64, (x_dim, x_dim))/sqrt(x_dim);\n",
    "Sigma = sig * sig';\n",
    "class_0 = scale * mu_0 .+ sig * rand(Float64, (x_dim, Integer(samples*(1-freq))));\n",
    "class_1 = scale * mu_1 .+ sig * rand(Float64, (x_dim, Integer(samples*(freq))));\n",
    "X = cat(class_0, class_1, dims=2);\n",
    "Y = zeros(samples); Y[Integer(samples*(1-freq)):end] .= 1;"
   ]
  },
  {
   "cell_type": "code",
   "execution_count": null,
   "id": "bdbd0d5c",
   "metadata": {},
   "outputs": [],
   "source": [
    "scatter(class_0[1,:], class_0[2,:], label = \"Class 0\" , color=\"blue\", title = \"Simulated Class 1 vs Class 2\")\n",
    "scatter!(class_1[1,:], class_1[2,:], label = \"Class 1\" , color=\"red\", title = \"Simulated Class 1 vs Class 2\")"
   ]
  },
  {
   "cell_type": "code",
   "execution_count": null,
   "id": "634314ed",
   "metadata": {},
   "outputs": [],
   "source": []
  }
 ],
 "metadata": {
  "kernelspec": {
   "display_name": "Julia 1.6.3",
   "language": "julia",
   "name": "julia-1.6"
  },
  "language_info": {
   "file_extension": ".jl",
   "mimetype": "application/julia",
   "name": "julia",
   "version": "1.6.3"
  }
 },
 "nbformat": 4,
 "nbformat_minor": 5
}
