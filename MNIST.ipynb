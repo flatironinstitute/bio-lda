{
 "cells": [
  {
   "cell_type": "code",
   "execution_count": 89,
   "metadata": {},
   "outputs": [],
   "source": [
    "import numpy as np\n",
    "from keras.datasets import mnist\n",
    "from tqdm import tqdm\n",
    "import numba\n",
    "import matplotlib.pyplot as plt"
   ]
  },
  {
   "cell_type": "code",
   "execution_count": 90,
   "metadata": {},
   "outputs": [],
   "source": [
    "from numba import njit, types, vectorize\n",
    "from numba.extending import overload, register_jitable\n",
    "from numba.core.errors import TypingError"
   ]
  },
  {
   "cell_type": "code",
   "execution_count": 91,
   "metadata": {},
   "outputs": [],
   "source": [
    "(train_X, train_y), (test_X, test_y) = mnist.load_data()"
   ]
  },
  {
   "cell_type": "code",
   "execution_count": 92,
   "metadata": {},
   "outputs": [],
   "source": [
    "train_X = train_X.reshape(-1,784).astype(np.float64)\n",
    "test_X = test_X.reshape(-1,784).astype(np.float64)"
   ]
  },
  {
   "cell_type": "code",
   "execution_count": 93,
   "metadata": {},
   "outputs": [],
   "source": [
    "train_X = (train_X >= 50)*1.0\n",
    "test_X = (test_X >= 50)*1.0"
   ]
  },
  {
   "cell_type": "code",
   "execution_count": 94,
   "metadata": {},
   "outputs": [],
   "source": [
    "NKCs = 500\n",
    "theta_KC = 32\n",
    "digits = train_X.shape[0]\n",
    "NAL = 784\n",
    "y = np.zeros((digits,NKCs))\n",
    "c = np.random.binomial(1, 0.1, NAL*NKCs).reshape(NKCs, NAL).astype(np.float64)\n",
    "        \n",
    "    "
   ]
  },
  {
   "cell_type": "code",
   "execution_count": 95,
   "metadata": {},
   "outputs": [],
   "source": [
    "@vectorize\n",
    "def _heaviside(x1, x2):\n",
    "    \"\"\" vectorized implementation of the heaviside function \"\"\"\n",
    "    if np.isnan(x1):\n",
    "        return np.nan\n",
    "    elif x1 == 0:\n",
    "        return x2\n",
    "    elif x1 < 0:\n",
    "        return 0.0\n",
    "    else:\n",
    "        return 1.0\n",
    "\n",
    "\n",
    "@overload(np.heaviside)\n",
    "def np_heaviside(x1, x2):\n",
    "\n",
    "    def heaviside_impl(x1, x2):\n",
    "        \"\"\" numba implementation of the heaviside function \"\"\"\n",
    "        return _heaviside(x1, x2)\n",
    "\n",
    "    return heaviside_impl"
   ]
  },
  {
   "cell_type": "code",
   "execution_count": 96,
   "metadata": {},
   "outputs": [],
   "source": [
    "@numba.jit(nopython=True)\n",
    "def get_y(c, X, k):\n",
    "    return np.heaviside(c.dot(X[k]) - theta_KC, 1)"
   ]
  },
  {
   "cell_type": "code",
   "execution_count": 97,
   "metadata": {},
   "outputs": [
    {
     "name": "stderr",
     "output_type": "stream",
     "text": [
      "100%|██████████| 60000/60000 [00:01<00:00, 38522.19it/s]\n"
     ]
    }
   ],
   "source": [
    "for k in tqdm(range(digits)):\n",
    "    y[k] = get_y(c, train_X, k)"
   ]
  },
  {
   "cell_type": "code",
   "execution_count": 98,
   "metadata": {},
   "outputs": [],
   "source": [
    "#np.save(\"y.npy\", y)\n",
    "#y = np.load(\"y.npy\")"
   ]
  },
  {
   "cell_type": "code",
   "execution_count": 99,
   "metadata": {},
   "outputs": [],
   "source": [
    "def calculate_covariance_matrix(X, Y=None):\n",
    "    \"\"\" Calculate the covariance matrix for the dataset X \"\"\"\n",
    "    if Y is None:\n",
    "        Y = X\n",
    "    n_samples = np.shape(X)[0]\n",
    "    covariance_matrix = (1 / (n_samples)) * (X - X.mean(axis=0)).T.dot(Y - Y.mean(axis=0))\n",
    "\n",
    "    return np.array(covariance_matrix, dtype=float)\n"
   ]
  },
  {
   "cell_type": "code",
   "execution_count": 100,
   "metadata": {},
   "outputs": [],
   "source": [
    "Y = np.zeros((9, digits))\n",
    "\n",
    "for i in range(1,10):\n",
    "    for k in range(digits):\n",
    "        Y[i-1, k] = 1 if train_y[k] == i else 0"
   ]
  },
  {
   "cell_type": "code",
   "execution_count": 101,
   "metadata": {},
   "outputs": [
    {
     "data": {
      "text/plain": [
       "5958"
      ]
     },
     "execution_count": 101,
     "metadata": {},
     "output_type": "execute_result"
    }
   ],
   "source": [
    "np.sum(train_y == 2)"
   ]
  },
  {
   "cell_type": "code",
   "execution_count": 102,
   "metadata": {},
   "outputs": [
    {
     "data": {
      "text/plain": [
       "5958.0"
      ]
     },
     "execution_count": 102,
     "metadata": {},
     "output_type": "execute_result"
    }
   ],
   "source": [
    "np.sum(Y[2-1])"
   ]
  },
  {
   "cell_type": "code",
   "execution_count": 103,
   "metadata": {},
   "outputs": [
    {
     "data": {
      "image/png": "[encoded data removed]",
      "text/plain": [
       "<Figure size 432x288 with 1 Axes>"
      ]
     },
     "metadata": {
      "needs_background": "light"
     },
     "output_type": "display_data"
    }
   ],
   "source": [
    "dgt = 2\n",
    "mu_1 = np.mean(y[train_y != dgt], axis=0)\n",
    "mu_2 = np.mean(y[train_y == dgt], axis=0)\n",
    "\n",
    "Sigma1 = calculate_covariance_matrix(y[train_y != dgt])\n",
    "Sigma2 = calculate_covariance_matrix(y[train_y == dgt])\n",
    "Sigma = Sigma1+Sigma2\n",
    "\n",
    "w_opt = np.linalg.pinv(Sigma)@(mu_1-mu_2)\n",
    "w_opt = w_opt/np.sqrt(w_opt.T@Sigma@w_opt)\n",
    "obj_opt = (w_opt.T@(mu_1-mu_2))**2\n",
    "\n",
    "plt.scatter(w_opt.T@y[train_y != dgt].T,np.zeros((w_opt.T@y[train_y != dgt].T).shape),s=5)\n",
    "plt.scatter(w_opt.T@y[train_y == dgt].T,np.zeros((w_opt.T@y[train_y == dgt].T).shape),s=5)\n",
    "plt.grid()\n",
    "plt.title(\"Optimal Projection\")\n",
    "plt.show()\n",
    "    "
   ]
  },
  {
   "cell_type": "code",
   "execution_count": 104,
   "metadata": {},
   "outputs": [
    {
     "data": {
      "text/plain": [
       "97.49666666666667"
      ]
     },
     "execution_count": 104,
     "metadata": {},
     "output_type": "execute_result"
    }
   ],
   "source": [
    "max(np.sum(w_opt.T@y[train_y != dgt].T > 1/2 * w_opt.T@(mu_1+mu_2)) + np.sum(np.sum(w_opt.T@y[train_y == dgt].T > 1/2 * w_opt.T@(mu_1+mu_2))), np.sum(w_opt.T@y[train_y != dgt].T < 1/2 * w_opt.T@(mu_1+mu_2)) + np.sum(np.sum(w_opt.T@y[train_y == dgt].T < 1/2 * w_opt.T@(mu_1+mu_2))))/y.shape[0]*100"
   ]
  },
  {
   "cell_type": "code",
   "execution_count": 105,
   "metadata": {},
   "outputs": [],
   "source": [
    "eta = 0.1; gam = 0.0001*eta; iters = 100000"
   ]
  },
  {
   "cell_type": "code",
   "execution_count": 106,
   "metadata": {},
   "outputs": [
    {
     "name": "stderr",
     "output_type": "stream",
     "text": [
      "100%|██████████| 100000/100000 [00:26<00:00, 3785.74it/s]\n"
     ]
    }
   ],
   "source": [
    "obj = np.zeros(iters)\n",
    "err = np.zeros(iters)\n",
    "\n",
    "@numba.jit(nopython=True)\n",
    "def fit(w, l, mu_1, mu_2, Sigma):\n",
    "    w = w + eta*(mu_1 - mu_2 - l*Sigma@w)\n",
    "    l = l + gam*((w.T@Sigma@w).item() - 1)\n",
    "    \n",
    "    return w, l\n",
    "        \n",
    "def run_offline(mu_1, mu_2, Sigma, eta, gamma, iters):\n",
    "    \n",
    "    w = np.random.randn(NKCs,1)/np.sqrt(NKCs)\n",
    "    l = 1\n",
    "    \n",
    "    for i_iter in tqdm(range(iters)):\n",
    "        w, l = fit(w, l, mu_1, mu_2, Sigma)\n",
    "        obj[i_iter] = (w.T@(mu_1-mu_2))**2/(w.T@Sigma@w)\n",
    "        err[i_iter] = (obj_opt - obj[i_iter])/obj_opt\n",
    "        \n",
    "    return w\n",
    "w = run_offline(mu_1[:,None], mu_2[:,None], Sigma, eta, gam, iters)"
   ]
  },
  {
   "cell_type": "code",
   "execution_count": 107,
   "metadata": {},
   "outputs": [
    {
     "data": {
      "image/png": "[encoded data removed]",
      "text/plain": [
       "<Figure size 432x288 with 1 Axes>"
      ]
     },
     "metadata": {
      "needs_background": "light"
     },
     "output_type": "display_data"
    }
   ],
   "source": [
    "plt.loglog(range(iters), err)\n",
    "plt.ylabel(\"Error\")\n",
    "plt.xlabel(\"t\")\n",
    "plt.title(\"Offline convergence\")\n",
    "plt.show()"
   ]
  },
  {
   "cell_type": "code",
   "execution_count": 108,
   "metadata": {},
   "outputs": [
    {
     "data": {
      "text/plain": [
       "0.010398998762143655"
      ]
     },
     "execution_count": 108,
     "metadata": {},
     "output_type": "execute_result"
    }
   ],
   "source": [
    "err[-1]"
   ]
  },
  {
   "cell_type": "code",
   "execution_count": 109,
   "metadata": {},
   "outputs": [
    {
     "data": {
      "image/png": "[encoded data removed]",
      "text/plain": [
       "<Figure size 432x288 with 1 Axes>"
      ]
     },
     "metadata": {
      "needs_background": "light"
     },
     "output_type": "display_data"
    }
   ],
   "source": [
    "plt.scatter(w.T@y[train_y != dgt].T,np.zeros((w.T@y[train_y != dgt].T).shape),s=5)\n",
    "plt.scatter(w.T@y[train_y == dgt].T,np.zeros((w.T@y[train_y == dgt].T).shape),s=5)\n",
    "plt.grid()\n",
    "plt.title(\"Offline Projection\")\n",
    "plt.show()"
   ]
  },
  {
   "cell_type": "code",
   "execution_count": 110,
   "metadata": {},
   "outputs": [
    {
     "data": {
      "text/plain": [
       "97.54333333333334"
      ]
     },
     "execution_count": 110,
     "metadata": {},
     "output_type": "execute_result"
    }
   ],
   "source": [
    "max(np.sum(w.T@y[train_y != dgt].T > 1/2 * w.T@(mu_1+mu_2)) + np.sum(np.sum(w.T@y[train_y == dgt].T > 1/2 * w.T@(mu_1+mu_2))), np.sum(w.T@y[train_y != dgt].T < 1/2 * w.T@(mu_1+mu_2)) + np.sum(np.sum(w.T@y[train_y == dgt].T < 1/2 * w.T@(mu_1+mu_2))))/y.shape[0]*100"
   ]
  },
  {
   "cell_type": "code",
   "execution_count": 112,
   "metadata": {},
   "outputs": [],
   "source": [
    "e1 = 1e-2\n",
    "e2 = 1e2\n",
    "@numba.jit(nopython=True)\n",
    "def eta(t):\n",
    "    return e1/(1+t/e2)\n",
    "gam = 0.0001; epochs = 10; iters = epochs*digits\n",
    "samples = digits"
   ]
  },
  {
   "cell_type": "code",
   "execution_count": 113,
   "metadata": {},
   "outputs": [
    {
     "name": "stderr",
     "output_type": "stream",
     "text": [
      "100%|██████████| 10/10 [00:29<00:00,  3.05s/it]\n"
     ]
    }
   ],
   "source": [
    "@numba.jit(nopython=True)\n",
    "def fit_bio(w, l, mu, x, y, zeta, l_, t):\n",
    "    wx = w.T@x\n",
    "    z = wx\n",
    "    \n",
    "    step = eta(t)\n",
    "    \n",
    "    if y == 0:\n",
    "        mu += (x - mu)/t\n",
    "        zeta += (z-zeta)/t\n",
    "        w += step*(mu - l*(z-zeta)*(x-mu))\n",
    "        l += gam*step*((z-zeta)**2 - 1)\n",
    "        l_ += 1\n",
    "        \n",
    "    else:\n",
    "        w -= step*l_*x\n",
    "        l_ = 1\n",
    "        \n",
    "        \n",
    "    return w, l, mu, x, y, zeta, l_\n",
    "\n",
    "def run_bio(X, Y):\n",
    "    \n",
    "    w = np.random.randn(NKCs)/np.sqrt(NKCs)\n",
    "    l = 1\n",
    "    zeta = 0\n",
    "    l_ = 1\n",
    "    \n",
    "    mu = np.zeros(NKCs)\n",
    "\n",
    "    for i_epoch in tqdm(range(epochs)):\n",
    "\n",
    "        idx = np.random.permutation(samples)\n",
    "\n",
    "        for i_sample in range(samples):\n",
    "\n",
    "            i_iter = i_epoch*samples + i_sample\n",
    "\n",
    "            t = i_iter + 1\n",
    "\n",
    "            x = X[:,idx[i_sample]]\n",
    "            y = Y[idx[i_sample]]\n",
    "\n",
    "            w, l, mu, x, y, zeta, l_ = fit_bio(w, l, mu, x, y, zeta, l_, t)\n",
    "            \n",
    "            obj[i_iter] = (w.T@(mu_1[:, None]-mu_2[:, None]))**2/(w.T@Sigma@w)\n",
    "            err[i_iter] = abs(obj_opt - obj[i_iter])/obj_opt\n",
    "        \n",
    "        #print(f'Error: {err_approx[i_iter]}')\n",
    "    return w\n",
    "\n",
    "obj = np.zeros(iters)\n",
    "err = np.zeros(iters)\n",
    "\n",
    "\n",
    "w = run_bio(y.T,Y[dgt-1])"
   ]
  },
  {
   "cell_type": "code",
   "execution_count": 114,
   "metadata": {},
   "outputs": [
    {
     "data": {
      "image/png": "[encoded data removed]",
      "text/plain": [
       "<Figure size 432x288 with 1 Axes>"
      ]
     },
     "metadata": {
      "needs_background": "light"
     },
     "output_type": "display_data"
    }
   ],
   "source": [
    "plt.loglog(range(iters), err)\n",
    "plt.ylabel(\"Error\")\n",
    "plt.xlabel(\"t\")\n",
    "plt.xlim(1e2,iters)\n",
    "plt.grid()\n",
    "plt.title(\"Online convergence\")\n",
    "plt.show()"
   ]
  },
  {
   "cell_type": "code",
   "execution_count": 115,
   "metadata": {},
   "outputs": [
    {
     "data": {
      "text/plain": [
       "0.31656543259391073"
      ]
     },
     "execution_count": 115,
     "metadata": {},
     "output_type": "execute_result"
    }
   ],
   "source": [
    "err[-1]"
   ]
  },
  {
   "cell_type": "code",
   "execution_count": 116,
   "metadata": {},
   "outputs": [
    {
     "data": {
      "image/png": "[encoded data removed]",
      "text/plain": [
       "<Figure size 432x288 with 1 Axes>"
      ]
     },
     "metadata": {
      "needs_background": "light"
     },
     "output_type": "display_data"
    }
   ],
   "source": [
    "plt.scatter(w.T@y[train_y != 0].T,np.zeros((w.T@y[train_y != 0].T).shape),s=5)\n",
    "plt.scatter(w.T@y[train_y == 0].T,np.zeros((w.T@y[train_y == 0].T).shape),s=5)\n",
    "plt.grid()\n",
    "plt.show()"
   ]
  },
  {
   "cell_type": "code",
   "execution_count": 117,
   "metadata": {},
   "outputs": [
    {
     "data": {
      "text/plain": [
       "96.45333333333333"
      ]
     },
     "execution_count": 117,
     "metadata": {},
     "output_type": "execute_result"
    }
   ],
   "source": [
    "max(np.sum(w.T@y[train_y != dgt].T > 1/2 * w.T@(mu_1+mu_2)) + np.sum(np.sum(w.T@y[train_y == dgt].T > 1/2 * w.T@(mu_1+mu_2))), np.sum(w.T@y[train_y != dgt].T < 1/2 * w.T@(mu_1+mu_2)) + np.sum(np.sum(w.T@y[train_y == dgt].T < 1/2 * w.T@(mu_1+mu_2))))/y.shape[0]*100"
   ]
  },
  {
   "cell_type": "code",
   "execution_count": 118,
   "metadata": {},
   "outputs": [
    {
     "data": {
      "text/plain": [
       "0.0005461333333333333"
      ]
     },
     "execution_count": 118,
     "metadata": {},
     "output_type": "execute_result"
    }
   ],
   "source": [
    "np.mean(np.sum(y, axis=1)/1000)"
   ]
  },
  {
   "cell_type": "code",
   "execution_count": null,
   "metadata": {},
   "outputs": [],
   "source": []
  }
 ],
 "metadata": {
  "kernelspec": {
   "display_name": "Python 3",
   "language": "python",
   "name": "python3"
  },
  "language_info": {
   "codemirror_mode": {
    "name": "ipython",
    "version": 3
   },
   "file_extension": ".py",
   "mimetype": "text/x-python",
   "name": "python",
   "nbconvert_exporter": "python",
   "pygments_lexer": "ipython3",
   "version": "3.7.0"
  }
 },
 "nbformat": 4,
 "nbformat_minor": 4
}
