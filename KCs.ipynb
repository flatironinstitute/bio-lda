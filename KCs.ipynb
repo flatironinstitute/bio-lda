{
 "cells": [
  {
   "cell_type": "code",
   "execution_count": 1,
   "metadata": {},
   "outputs": [],
   "source": [
    "import numpy as np\n",
    "import matplotlib.pyplot as plt"
   ]
  },
  {
   "cell_type": "code",
   "execution_count": 2,
   "metadata": {},
   "outputs": [],
   "source": [
    "import sklearn.linear_model\n",
    "from tqdm import tqdm"
   ]
  },
  {
   "cell_type": "markdown",
   "metadata": {},
   "source": [
    "# Load dataset"
   ]
  },
  {
   "cell_type": "code",
   "execution_count": 3,
   "metadata": {},
   "outputs": [],
   "source": [
    "X, odors = np.load('datasets/KC/features.npy'), np.load('datasets/KC/labels.npy')"
   ]
  },
  {
   "cell_type": "code",
   "execution_count": 4,
   "metadata": {},
   "outputs": [],
   "source": [
    "x_dim, samples = X.shape"
   ]
  },
  {
   "cell_type": "code",
   "execution_count": 5,
   "metadata": {},
   "outputs": [],
   "source": [
    "y = np.zeros((3,samples))\n",
    "\n",
    "for t in range(samples):\n",
    "    if odors[t]==1: y[:,t] = [1,1,1]\n",
    "    elif odors[t]==2: y[:,t] = [0,1,1]\n",
    "    elif odors[t]==3: y[:,t] = [0,0,1]\n",
    "    else: y[:,t] = [0,0,0]"
   ]
  },
  {
   "cell_type": "code",
   "execution_count": 6,
   "metadata": {},
   "outputs": [],
   "source": [
    "epsilon = .01"
   ]
  },
  {
   "cell_type": "markdown",
   "metadata": {},
   "source": [
    "# Optimal solution"
   ]
  },
  {
   "cell_type": "code",
   "execution_count": 7,
   "metadata": {},
   "outputs": [],
   "source": [
    "# # calculate class means \n",
    "\n",
    "# mu0 = np.zeros((3,x_dim))\n",
    "# mu1 = np.zeros((3,x_dim))\n",
    "# cov = np.zeros((3,x_dim,x_dim))\n",
    "\n",
    "# for i in range(3):\n",
    "\n",
    "#     samples_1 = np.sum(y)\n",
    "#     samples_0 = samples - samples_1\n",
    "\n",
    "#     for t in range(samples):\n",
    "#         if y[i,t] == 0:\n",
    "#             mu0[i] += X[:,t]\n",
    "#         elif y[i,t] == 1:\n",
    "#             mu1[i] += X[:,t]\n",
    "\n",
    "#     mu0[i] /= samples_0\n",
    "#     mu1[i] /= samples_1\n",
    "\n",
    "#     # calculate sample variance\n",
    "\n",
    "#     for t in range(samples):\n",
    "#         if y[i,t] == 0:\n",
    "#             cov[i] += np.outer(X[:,t]-mu0[i],X[:,t]-mu0[i])\n",
    "#         elif y[i,t] == 1:\n",
    "#             cov[i] += np.outer(X[:,t]-mu1[i],X[:,t]-mu1[i])\n",
    "\n",
    "#     cov[i] /= samples_0\n",
    "\n",
    "#     # add epsilon*identity to ensure that cov is invertible\n",
    "\n",
    "#     cov[i] += epsilon*np.eye(x_dim)"
   ]
  },
  {
   "cell_type": "code",
   "execution_count": 8,
   "metadata": {},
   "outputs": [],
   "source": [
    "# w_opt = np.zeros((3,x_dim))\n",
    "# w_opt_norm = np.zeros(3)\n",
    "# bias_opt = np.zeros(3)\n",
    "\n",
    "# for i in range(3):\n",
    "\n",
    "#     w_opt[i] = np.linalg.inv(cov[i])@(mu0[i]-mu1[i])\n",
    "#     w_opt_norm[i] = np.linalg.norm(w_opt[i])\n",
    "#     bias_opt[i] = .5*np.inner(w_opt[i],mu0[i]+mu1[i])"
   ]
  },
  {
   "cell_type": "markdown",
   "metadata": {},
   "source": [
    "# Online algorithms"
   ]
  },
  {
   "cell_type": "code",
   "execution_count": 9,
   "metadata": {},
   "outputs": [],
   "source": [
    "trials = 10; epochs = 10**2; eta0 = 1e-1; decay = 1e-4; iters = epochs*samples"
   ]
  },
  {
   "cell_type": "code",
   "execution_count": 10,
   "metadata": {},
   "outputs": [],
   "source": [
    "classes = np.unique(y[0])"
   ]
  },
  {
   "cell_type": "code",
   "execution_count": 11,
   "metadata": {},
   "outputs": [],
   "source": [
    "model = sklearn.linear_model.SGDClassifier(\n",
    "    fit_intercept=False,\n",
    "    learning_rate=\"constant\",\n",
    "    eta0=1E-3,  # this is the learning rate\n",
    "    )"
   ]
  },
  {
   "cell_type": "code",
   "execution_count": 17,
   "metadata": {},
   "outputs": [],
   "source": [
    "# X_train, X_test, y_train, y_test = X.T, X.T, y[0], y[0]\n",
    "\n",
    "# n_iters = 500\n",
    "# batch_size = 1\n",
    "# indices = np.arange(samples)\n",
    "# pbar = tqdm(range(n_iters), mininterval=1)\n",
    "# accs = []\n",
    "# losses = []\n",
    "\n",
    "# for i in pbar:\n",
    "#   idx = np.random.choice(indices, batch_size)\n",
    "#   x, class_label = X.T[idx], y[0,idx]\n",
    "#   model.partial_fit(x, class_label, classes)\n",
    "#   model.predict(x)"
   ]
  },
  {
   "cell_type": "code",
   "execution_count": 13,
   "metadata": {},
   "outputs": [
    {
     "name": "stdout",
     "output_type": "stream",
     "text": [
      "p = 0.14285714285714285\n",
      "Trial 1:\n",
      "Trial 2:\n",
      "Trial 3:\n",
      "Trial 4:\n",
      "Trial 5:\n",
      "Trial 6:\n",
      "Trial 7:\n",
      "Trial 8:\n",
      "Trial 9:\n",
      "Trial 10:\n",
      "p = 0.2857142857142857\n",
      "Trial 1:\n",
      "Trial 2:\n",
      "Trial 3:\n",
      "Trial 4:\n",
      "Trial 5:\n",
      "Trial 6:\n",
      "Trial 7:\n",
      "Trial 8:\n",
      "Trial 9:\n",
      "Trial 10:\n",
      "p = 0.42857142857142855\n",
      "Trial 1:\n",
      "Trial 2:\n",
      "Trial 3:\n",
      "Trial 4:\n",
      "Trial 5:\n",
      "Trial 6:\n",
      "Trial 7:\n",
      "Trial 8:\n",
      "Trial 9:\n",
      "Trial 10:\n"
     ]
    }
   ],
   "source": [
    "accuracy = np.zeros((3,trials,iters))\n",
    "accuracy_svm = np.zeros((3,trials,iters))\n",
    "\n",
    "for p in range(3):\n",
    "\n",
    "    print(f'p = {(p+1)/7}')\n",
    "\n",
    "    for trial in range(trials):\n",
    "\n",
    "        print(f'Trial {trial+1}:')\n",
    "\n",
    "        w = np.random.randn(x_dim); sample_mu0 = 0; zeta = 0; sample_bias = 0; l = 1\n",
    "\n",
    "        for epoch in range(epochs):\n",
    "\n",
    "            idx = np.random.permutation(samples)\n",
    "\n",
    "            for t in range(samples):\n",
    "\n",
    "                iter = epoch*samples + t\n",
    "\n",
    "                x, class_label = X[:,idx[t]], y[p,idx[t]]\n",
    "\n",
    "                c = np.inner(w,x)\n",
    "\n",
    "                step = eta0/(1+decay*iter)\n",
    "\n",
    "                if class_label==0:\n",
    "\n",
    "                    sample_mu0 += (x-sample_mu0)/1000\n",
    "                    sample_bias += (c/2-sample_bias)/1000\n",
    "                    zeta += (c-zeta)/1000\n",
    "\n",
    "                    w += step*(sample_mu0-(c-zeta)*(x-sample_mu0))\n",
    "                    l += 1\n",
    "\n",
    "                elif class_label==1:\n",
    "\n",
    "                    sample_bias += (l*c/2-np.log(l)-sample_bias)/1000\n",
    "                    w += step*(sample_mu0-l*x)\n",
    "                    l = 1\n",
    "\n",
    "                z = c-sample_bias\n",
    "\n",
    "                accuracy[p,trial,iter] = np.abs((np.sign(z)+1)/2 - class_label)\n",
    "\n",
    "                # svm update\n",
    "\n",
    "                model.partial_fit(x.reshape(1,x_dim), np.array([class_label,]), classes)\n",
    "                accuracy_svm[p,trial,iter] = 1 - np.abs(model.predict(x.reshape(1,x_dim))-class_label)"
   ]
  },
  {
   "cell_type": "code",
   "execution_count": 14,
   "metadata": {},
   "outputs": [],
   "source": [
    "mean_accuracy = np.zeros((3,trials,iters))\n",
    "mean_accuracy_svm = np.zeros((3,trials,iters))\n",
    "\n",
    "for p in range(3):\n",
    "\n",
    "    for trial in range(trials):\n",
    "\n",
    "        for iter in range(iters):\n",
    "\n",
    "            if iter<100:\n",
    "                mean_accuracy[p,trial,iter] = np.sum(accuracy[p,trial,0:iter])/max(iter,1)\n",
    "                mean_accuracy_svm[p,trial,iter] = np.sum(accuracy_svm[p,trial,0:iter])/max(iter,1)\n",
    "            \n",
    "            elif iter>=100:\n",
    "                mean_accuracy[p,trial,iter] = np.sum(accuracy[p,trial,iter-100:iter])/100\n",
    "                mean_accuracy_svm[p,trial,iter] = np.sum(accuracy_svm[p,trial,iter-100:iter])/100"
   ]
  },
  {
   "cell_type": "code",
   "execution_count": 15,
   "metadata": {},
   "outputs": [],
   "source": [
    "np.save('KC.npy',mean_accuracy)\n",
    "np.save('KC_svm.npy',mean_accuracy_svm)"
   ]
  },
  {
   "cell_type": "code",
   "execution_count": 16,
   "metadata": {},
   "outputs": [
    {
     "data": {
      "image/png": "[encoded data removed]",
      "text/plain": [
       "<Figure size 432x432 with 1 Axes>"
      ]
     },
     "metadata": {
      "needs_background": "light"
     },
     "output_type": "display_data"
    }
   ],
   "source": [
    "fs = 18\n",
    "\n",
    "t = np.linspace(1,iters,iters)\n",
    "\n",
    "fig = plt.figure(figsize=(6,6))\n",
    "\n",
    "plt.semilogx(t,mean_accuracy[0].mean(axis=0),color='C0')\n",
    "plt.fill_between(t,np.amin(mean_accuracy[0],axis=0),np.amax(mean_accuracy[0],axis=0),alpha=.1,color='C0')\n",
    "plt.semilogx(t,mean_accuracy_svm[0].mean(axis=0),color='C0',ls='--')\n",
    "plt.fill_between(t,np.amin(mean_accuracy_svm[0],axis=0),np.amax(mean_accuracy_svm[0],axis=0),alpha=.1,color='C0')\n",
    "plt.semilogx(t,mean_accuracy[1].mean(axis=0),color='C1')\n",
    "plt.fill_between(t,np.amin(mean_accuracy[1],axis=0),np.amax(mean_accuracy[1],axis=0),alpha=.1,color='C1')\n",
    "plt.semilogx(t,mean_accuracy_svm[1].mean(axis=0),color='C1',ls='--')\n",
    "plt.fill_between(t,np.amin(mean_accuracy_svm[1],axis=0),np.amax(mean_accuracy_svm[0],axis=0),alpha=.1,color='C1')\n",
    "plt.semilogx(t,mean_accuracy[2].mean(axis=0),color='C2')\n",
    "plt.fill_between(t,np.amin(mean_accuracy[2],axis=0),np.amax(mean_accuracy[2],axis=0),alpha=.1,color='C2')\n",
    "plt.semilogx(t,mean_accuracy_svm[2].mean(axis=0),color='C2',ls='--')\n",
    "plt.fill_between(t,np.amin(mean_accuracy_svm[2],axis=0),np.amax(mean_accuracy_svm[2],axis=0),alpha=.1,color='C2')\n",
    "plt.axhline(y=1,c='black',ls='--')\n",
    "plt.xlim(1e2,iters)\n",
    "plt.ylim(0,1.05)\n",
    "plt.xlabel('Iterate',fontsize=fs)\n",
    "plt.ylabel('Accuracy',fontsize=fs)\n",
    "plt.grid()\n",
    "\n",
    "plt.show()"
   ]
  },
  {
   "cell_type": "code",
   "execution_count": null,
   "metadata": {},
   "outputs": [],
   "source": []
  }
 ],
 "metadata": {
  "interpreter": {
   "hash": "9549986701f06bd3cad30c7eba492703439436e34322bc88a3e6c04d9ddaced7"
  },
  "kernelspec": {
   "display_name": "Python 3.8.3 ('base')",
   "language": "python",
   "name": "python3"
  },
  "language_info": {
   "codemirror_mode": {
    "name": "ipython",
    "version": 3
   },
   "file_extension": ".py",
   "mimetype": "text/x-python",
   "name": "python",
   "nbconvert_exporter": "python",
   "pygments_lexer": "ipython3",
   "version": "3.8.3"
  }
 },
 "nbformat": 4,
 "nbformat_minor": 4
}
