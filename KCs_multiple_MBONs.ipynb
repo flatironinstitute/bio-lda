{
 "cells": [
  {
   "cell_type": "code",
   "execution_count": 1,
   "metadata": {},
   "outputs": [],
   "source": [
    "import numpy as np\n",
    "import matplotlib.pyplot as plt"
   ]
  },
  {
   "cell_type": "markdown",
   "metadata": {},
   "source": [
    "# Load dataset"
   ]
  },
  {
   "cell_type": "code",
   "execution_count": 2,
   "metadata": {},
   "outputs": [],
   "source": [
    "X, odors = np.load('datasets/KC/features.npy'), np.load('datasets/KC/labels.npy')"
   ]
  },
  {
   "cell_type": "code",
   "execution_count": 3,
   "metadata": {},
   "outputs": [],
   "source": [
    "x_dim, samples = X.shape"
   ]
  },
  {
   "cell_type": "code",
   "execution_count": 12,
   "metadata": {},
   "outputs": [],
   "source": [
    "y = np.zeros(samples)\n",
    "\n",
    "odor_1, odor_2 = 1, 7\n",
    "\n",
    "samples_1, samples_2 = 0, 0\n",
    "\n",
    "for t in range(samples):\n",
    "    if odors[t]==odor_1: \n",
    "        y[t] = 1\n",
    "        samples_1 += 1\n",
    "    elif odors[t]==odor_2: \n",
    "        y[t] = 2\n",
    "        samples_2 += 1\n",
    "    else: y[t] = 0"
   ]
  },
  {
   "cell_type": "code",
   "execution_count": 13,
   "metadata": {},
   "outputs": [],
   "source": [
    "epsilon = .01"
   ]
  },
  {
   "cell_type": "markdown",
   "metadata": {},
   "source": [
    "# Optimal solution"
   ]
  },
  {
   "cell_type": "code",
   "execution_count": 14,
   "metadata": {},
   "outputs": [],
   "source": [
    "# calculate class means \n",
    "\n",
    "mu01 = np.zeros(x_dim)\n",
    "mu02 = np.zeros(x_dim)\n",
    "mu1 = np.zeros(x_dim)\n",
    "mu2 = np.zeros(x_dim)\n",
    "cov_1 = np.zeros((x_dim,x_dim))\n",
    "cov_2 = np.zeros((x_dim,x_dim))\n",
    "\n",
    "for t in range(samples):\n",
    "    if y[t] == 0:\n",
    "        mu01 += X[:,t]\n",
    "        mu02 += X[:,t]\n",
    "    elif y[t] == 1:\n",
    "        mu1 += X[:,t]\n",
    "        mu02 += X[:,t]\n",
    "    elif y[t] == 2:\n",
    "        mu2 += X[:,t]\n",
    "        mu01 += X[:,t]\n",
    "\n",
    "    mu01 /= samples - samples_2\n",
    "    mu02 /= samples - samples_1\n",
    "    mu1 /= samples_1\n",
    "    mu2 /= samples_2\n",
    "\n",
    "# calculate sample variance\n",
    "\n",
    "for t in range(samples):\n",
    "    if y[t] == 0:\n",
    "        cov_1 += np.outer(X[:,t]-mu01,X[:,t]-mu01)\n",
    "        cov_2 += np.outer(X[:,t]-mu02,X[:,t]-mu02)\n",
    "    elif y[t] == 1:\n",
    "        cov_2 += np.outer(X[:,t]-mu02,X[:,t]-mu02)\n",
    "    elif y[t] == 2:\n",
    "        cov_1 += np.outer(X[:,t]-mu01,X[:,t]-mu01)\n",
    "\n",
    "cov_1 /= samples - samples_1\n",
    "cov_2 /= samples - samples_2\n",
    "\n",
    "# add epsilon*identity to ensure that cov is invertible\n",
    "\n",
    "cov_1 += epsilon*np.eye(x_dim)\n",
    "cov_2 += epsilon*np.eye(x_dim)"
   ]
  },
  {
   "cell_type": "code",
   "execution_count": 15,
   "metadata": {},
   "outputs": [],
   "source": [
    "w_opt_1 = np.zeros(x_dim)\n",
    "w_opt_1 = np.linalg.inv(cov_1)@(mu01-mu1)\n",
    "w_opt_norm_1 = np.linalg.norm(w_opt_1)\n",
    "bias_opt_1 = .5*np.inner(w_opt_1,mu01+mu1)\n",
    "\n",
    "w_opt_2 = np.zeros(x_dim)\n",
    "w_opt_2 = np.linalg.inv(cov_2)@(mu02-mu2)\n",
    "w_opt_norm_2 = np.linalg.norm(w_opt_2)\n",
    "bias_opt_2 = .5*np.inner(w_opt_2,mu02+mu2)"
   ]
  },
  {
   "cell_type": "markdown",
   "metadata": {},
   "source": [
    "# Bio-LDA"
   ]
  },
  {
   "cell_type": "code",
   "execution_count": 16,
   "metadata": {},
   "outputs": [],
   "source": [
    "trials = 10; epochs = 10**2; eta0 = 1e-1; decay = 1e-3; iters = epochs*samples"
   ]
  },
  {
   "cell_type": "code",
   "execution_count": 17,
   "metadata": {},
   "outputs": [
    {
     "name": "stdout",
     "output_type": "stream",
     "text": [
      "Trial 1:\n",
      "Trial 2:\n",
      "Trial 3:\n",
      "Trial 4:\n",
      "Trial 5:\n",
      "Trial 6:\n",
      "Trial 7:\n",
      "Trial 8:\n",
      "Trial 9:\n",
      "Trial 10:\n"
     ]
    }
   ],
   "source": [
    "error_1, error_2 = np.zeros((trials,iters)), np.zeros((trials,iters))\n",
    "accuracy = np.zeros((trials,iters))\n",
    "\n",
    "for trial in range(trials):\n",
    "\n",
    "    print(f'Trial {trial+1}:')\n",
    "\n",
    "    w_1 = np.random.randn(x_dim); sample_mu0_1 = 0; zeta_1 = 0; sample_bias_1 = 0; l_1 = 1\n",
    "    w_2 = np.random.randn(x_dim); sample_mu0_2 = 0; zeta_2 = 0; sample_bias_2 = 0; l_2 = 1\n",
    "\n",
    "    for epoch in range(epochs):\n",
    "\n",
    "        idx = np.random.permutation(samples)\n",
    "\n",
    "        for t in range(samples):\n",
    "\n",
    "            iter = epoch*samples + t\n",
    "\n",
    "            x, class_label = X[:,idx[t]], y[idx[t]]\n",
    "\n",
    "            c_1, c_2 = np.inner(w_1,x), np.inner(w_2,x)\n",
    "\n",
    "            step = eta0/(1+decay*iter)\n",
    "\n",
    "            if class_label==0:\n",
    "\n",
    "                sample_mu0_1 += (x-sample_mu0_1)/1000\n",
    "                sample_mu0_2 += (x-sample_mu0_2)/1000\n",
    "                sample_bias_1 += (c_1/2-sample_bias_1)/1000\n",
    "                sample_bias_2 += (c_2/2-sample_bias_2)/1000\n",
    "                zeta_1 += (c_1-zeta_1)/1000\n",
    "                zeta_2 += (c_2-zeta_2)/1000\n",
    "\n",
    "                w_1 += step*(sample_mu0_1-(c_1-zeta_1)*(x-sample_mu0_1))\n",
    "                w_2 += step*(sample_mu0_2-(c_2-zeta_2)*(x-sample_mu0_2))\n",
    "                l_1 += 1\n",
    "                l_2 += 1\n",
    "\n",
    "            elif class_label==1:\n",
    "\n",
    "                sample_bias_1 += (l_1*c_1/2-np.log(l_1)-sample_bias_1)/1000\n",
    "                w_1 += step*(sample_mu0_1-l_1*x)\n",
    "                l_1 = 1\n",
    "\n",
    "                sample_mu0_2 += (x-sample_mu0_2)/1000\n",
    "                sample_bias_2 += (c_2/2-sample_bias_2)/1000\n",
    "                zeta_2 += (c_2-zeta_2)/1000\n",
    "\n",
    "                w_2 += step*(sample_mu0_2-(c_2-zeta_2)*(x-sample_mu0_2))\n",
    "                l_2 += 1\n",
    "\n",
    "            elif class_label==2:\n",
    "\n",
    "                sample_bias_2 += (l_2*c_2/2-np.log(l_2)-sample_bias_2)/1000\n",
    "                w_2 += step*(sample_mu0_2-l_2*x)\n",
    "                l_2 = 1\n",
    "\n",
    "                sample_mu0_1 += (x-sample_mu0_1)/1000\n",
    "                sample_bias_1 += (c_1/2-sample_bias_1)/1000\n",
    "                zeta_1 += (c_1-zeta_1)/1000\n",
    "\n",
    "                w_1 += step*(sample_mu0_1-(c_1-zeta_1)*(x-sample_mu0_1))\n",
    "                l_1 += 1\n",
    "\n",
    "            # w_1 = np.maximum(w_1,0)\n",
    "            # w_2 = np.maximum(w_2,0)\n",
    "\n",
    "            z_1 = c_1-sample_bias_1\n",
    "            z_2 = c_2-sample_bias_2\n",
    "\n",
    "            error_1[trial,iter] = np.linalg.norm(w_1/np.linalg.norm(w_1)-w_opt_1/w_opt_norm_1)\n",
    "            error_2[trial,iter] = np.linalg.norm(w_2/np.linalg.norm(w_2)-w_opt_2/w_opt_norm_2)\n",
    "            \n",
    "            if z_1>0 and z_2>0 and class_label==0: accuracy[trial,iter] = 1\n",
    "            elif z_1<0 and z_2>0 and class_label==1: accuracy[trial,iter] = 1\n",
    "            elif z_1>0 and z_2<0 and class_label==2: accuracy[trial,iter] = 1"
   ]
  },
  {
   "cell_type": "code",
   "execution_count": 18,
   "metadata": {},
   "outputs": [],
   "source": [
    "mean_accuracy = np.zeros((trials,iters))\n",
    "\n",
    "for trial in range(trials):\n",
    "\n",
    "    for iter in range(iters):\n",
    "\n",
    "        if iter<1000:\n",
    "            mean_accuracy[trial,iter] = np.sum(accuracy[trial,0:iter])/max(iter,1)\n",
    "        \n",
    "        elif iter>=1000:\n",
    "            mean_accuracy[trial,iter] = np.sum(accuracy[trial,iter-1000:iter])/1000"
   ]
  },
  {
   "cell_type": "code",
   "execution_count": 19,
   "metadata": {},
   "outputs": [
    {
     "data": {
      "image/png": "[encoded data removed]",
      "text/plain": [
       "<Figure size 432x432 with 1 Axes>"
      ]
     },
     "metadata": {
      "needs_background": "light"
     },
     "output_type": "display_data"
    }
   ],
   "source": [
    "fs = 18\n",
    "\n",
    "t = np.linspace(1,iters,iters)\n",
    "\n",
    "fig = plt.figure(figsize=(6,6))\n",
    "\n",
    "plt.semilogx(t,mean_accuracy.mean(axis=0))\n",
    "plt.fill_between(t,np.amin(mean_accuracy,axis=0),np.amax(mean_accuracy,axis=0),alpha=.1)\n",
    "plt.axhline(y=1,c='black',ls='--')\n",
    "plt.xlim(1e2,iters)\n",
    "plt.ylim(0,1.05)\n",
    "plt.xlabel('Iterate',fontsize=fs)\n",
    "plt.ylabel('Accuracy',fontsize=fs)\n",
    "plt.grid()\n",
    "\n",
    "plt.show()"
   ]
  },
  {
   "cell_type": "code",
   "execution_count": null,
   "metadata": {},
   "outputs": [],
   "source": []
  }
 ],
 "metadata": {
  "interpreter": {
   "hash": "9549986701f06bd3cad30c7eba492703439436e34322bc88a3e6c04d9ddaced7"
  },
  "kernelspec": {
   "display_name": "Python 3.8.3 ('base')",
   "language": "python",
   "name": "python3"
  },
  "language_info": {
   "codemirror_mode": {
    "name": "ipython",
    "version": 3
   },
   "file_extension": ".py",
   "mimetype": "text/x-python",
   "name": "python",
   "nbconvert_exporter": "python",
   "pygments_lexer": "ipython3",
   "version": "3.8.3"
  }
 },
 "nbformat": 4,
 "nbformat_minor": 4
}
