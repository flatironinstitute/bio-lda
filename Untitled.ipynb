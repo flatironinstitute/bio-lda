{
 "cells": [
  {
   "cell_type": "code",
   "execution_count": 180,
   "metadata": {},
   "outputs": [],
   "source": [
    "import numpy as np\n",
    "import scipy\n",
    "import matplotlib.pyplot as plt\n",
    "import sklearn\n",
    "inv = np.linalg.inv\n",
    "import bio_lda.lda as lda\n",
    "import bio_lda.util as util\n",
    "import tqdm\n",
    "from scipy.linalg import fractional_matrix_power"
   ]
  },
  {
   "cell_type": "code",
   "execution_count": 181,
   "metadata": {},
   "outputs": [],
   "source": [
    "d = 10\n",
    "l = 1\n",
    "separation = 0\n",
    "proportions = [1/3,1/3,1/3]\n",
    "samples = 15000\n",
    "\n",
    "mat = np.random.randn(d,d)\n",
    "A = mat@mat.T\n",
    "I=np.eye(d)\n",
    "cov = l * A + (1-l) * I\n",
    "#cov += 0.1 * np.random.randn(d,d)\n",
    "mean1 = np.random.randn(d)\n",
    "mean2 = np.random.randn(d) + separation\n",
    "mean3 = np.random.randn(d) + separation\n",
    "X1 = np.random.multivariate_normal(mean1, cov, int(proportions[0] * samples))\n",
    "X2 = np.random.multivariate_normal(mean2, cov, int(proportions[1]  * samples))\n",
    "X3 = np.random.multivariate_normal(mean3, cov, int(proportions[2]  * samples))\n",
    "X = np.concatenate((X1,X2, X3))\n",
    "y = np.zeros(samples)\n",
    "y[int(proportions[0] * samples):int(proportions[1] * samples)] = 2\n",
    "y[int(proportions[1] * samples):int(proportions[2] * samples)] = 1\n",
    "idx = np.random.permutation(len(X))\n",
    "X, y  = X[idx], y[idx]"
   ]
  },
  {
   "cell_type": "code",
   "execution_count": 182,
   "metadata": {},
   "outputs": [
    {
     "data": {
      "text/plain": [
       "(15000, 10)"
      ]
     },
     "execution_count": 182,
     "metadata": {},
     "output_type": "execute_result"
    }
   ],
   "source": [
    "X.shape"
   ]
  },
  {
   "cell_type": "code",
   "execution_count": 183,
   "metadata": {},
   "outputs": [],
   "source": [
    "mu = np.mean(X, axis=0)\n",
    "mus = [mean1, mean2, mean3]"
   ]
  },
  {
   "cell_type": "code",
   "execution_count": null,
   "metadata": {},
   "outputs": [],
   "source": []
  },
  {
   "cell_type": "code",
   "execution_count": 184,
   "metadata": {},
   "outputs": [],
   "source": [
    "class Offline_Multi_class_LDA:\n",
    "    \"\"\"\n",
    "    Parameters:\n",
    "    ====================\n",
    "    K             -- Dimension of PCA subspace to learn\n",
    "    D             -- Dimensionality of data\n",
    "    M0            -- Initial guess for the lateral weight matrix M, must be of size K-by-K\n",
    "    W0            -- Initial guess for the forward weight matrix W, must be of size K-by-D\n",
    "    learning_rate -- Learning rate as a function of t\n",
    "    tau           -- Learning rate factor for M (multiplier of the W learning rate)\n",
    "    Methods:\n",
    "    ========\n",
    "    fit_next()\n",
    "    \"\"\"\n",
    "\n",
    "    def __init__(self, K, D, tau=0.5):\n",
    "\n",
    "        self.eta = eta\n",
    "        self.gamma = gamma\n",
    "        \n",
    "        self.t = 0\n",
    "        \n",
    "        \n",
    "        self.W = np.random.normal(0, 1.0 / np.sqrt(D), size=(D, K))\n",
    "        self.l = np.random.normal(0, 1, size=(K, K))\n",
    "\n",
    "        \n",
    "        self.K = K\n",
    "        self.D = D\n",
    "\n",
    "    def fit(self, mus, mu, SW):\n",
    "\n",
    "        t, W, l, K = self.t, self.W, self.l, self.K\n",
    "            \n",
    "        \n",
    "        e_step = self.eta(t)\n",
    "        g_step = self.gamma(t)\n",
    "        \n",
    "        W = W + e_step * (np.sum([(mu_ - mu).reshape(-1,1).dot((mu_ - mu).reshape(-1,1).T)@W for mu_ in mus], axis=0) - (SW@W)@l)\n",
    "        \n",
    "        l = l + g_step * (W.T@SW@W -np.eye(K))\n",
    "        \n",
    "        self.W = W\n",
    "        self.l = l\n",
    "        self.t += 1"
   ]
  },
  {
   "cell_type": "code",
   "execution_count": 266,
   "metadata": {},
   "outputs": [],
   "source": [
    "def eta(t):\n",
    "    return 1e-4\n",
    "\n",
    "def gamma(t):\n",
    "    return 1e-2"
   ]
  },
  {
   "cell_type": "code",
   "execution_count": 269,
   "metadata": {},
   "outputs": [
    {
     "name": "stderr",
     "output_type": "stream",
     "text": [
      "100%|██████████| 100000/100000 [00:07<00:00, 13415.32it/s]\n"
     ]
    }
   ],
   "source": [
    "LDA = Offline_Multi_class_LDA(2, 10)\n",
    "LDA.eta = eta\n",
    "LDA.gamma = gamma\n",
    "epochs = 100000\n",
    "M = np.sum([(mu_ - mu).reshape(-1,1).dot((mu_ - mu).reshape(-1,1).T) for mu_ in mus], axis=0)\n",
    "U, s, V = np.linalg.svd(fractional_matrix_power(cov, -0.5)@M@fractional_matrix_power(cov, -0.5), full_matrices=True)\n",
    "metric = []\n",
    "constraint = []\n",
    "for n_e in tqdm.tqdm(range(epochs)):\n",
    "    LDA.fit(mus, mu, cov)\n",
    "    constraint.append(np.linalg.norm((LDA.W.T.dot(cov)).dot(LDA.W)- np.eye(2)))\n",
    "    metric.append(np.abs(sum(s[:2])- np.trace((LDA.W.T.dot(M)).dot(LDA.W)))/sum(s[:2]))"
   ]
  },
  {
   "cell_type": "code",
   "execution_count": 270,
   "metadata": {},
   "outputs": [
    {
     "data": {
      "image/png": "[encoded data removed]",
      "text/plain": [
       "<Figure size 432x288 with 1 Axes>"
      ]
     },
     "metadata": {
      "needs_background": "light"
     },
     "output_type": "display_data"
    }
   ],
   "source": [
    "plt.plot(metric)\n",
    "plt.show()"
   ]
  },
  {
   "cell_type": "code",
   "execution_count": 271,
   "metadata": {},
   "outputs": [
    {
     "data": {
      "image/png": "[encoded data removed]",
      "text/plain": [
       "<Figure size 432x288 with 1 Axes>"
      ]
     },
     "metadata": {
      "needs_background": "light"
     },
     "output_type": "display_data"
    }
   ],
   "source": [
    "plt.plot(constraint)\n",
    "plt.show()"
   ]
  },
  {
   "cell_type": "code",
   "execution_count": 274,
   "metadata": {},
   "outputs": [
    {
     "data": {
      "text/plain": [
       "22.699256431416693"
      ]
     },
     "execution_count": 274,
     "metadata": {},
     "output_type": "execute_result"
    }
   ],
   "source": [
    "np.trace((LDA.W.T.dot(M)).dot(LDA.W))"
   ]
  },
  {
   "cell_type": "code",
   "execution_count": 275,
   "metadata": {},
   "outputs": [
    {
     "data": {
      "text/plain": [
       "22.699201244584913"
      ]
     },
     "execution_count": 275,
     "metadata": {},
     "output_type": "execute_result"
    }
   ],
   "source": [
    "sum(s[:2])"
   ]
  },
  {
   "cell_type": "code",
   "execution_count": 273,
   "metadata": {},
   "outputs": [
    {
     "data": {
      "text/plain": [
       "2.4312235124629495e-06"
      ]
     },
     "execution_count": 273,
     "metadata": {},
     "output_type": "execute_result"
    }
   ],
   "source": [
    "metric[-1]"
   ]
  },
  {
   "cell_type": "code",
   "execution_count": null,
   "metadata": {},
   "outputs": [],
   "source": []
  }
 ],
 "metadata": {
  "kernelspec": {
   "display_name": "Python 3",
   "language": "python",
   "name": "python3"
  },
  "language_info": {
   "codemirror_mode": {
    "name": "ipython",
    "version": 3
   },
   "file_extension": ".py",
   "mimetype": "text/x-python",
   "name": "python",
   "nbconvert_exporter": "python",
   "pygments_lexer": "ipython3",
   "version": "3.7.0"
  }
 },
 "nbformat": 4,
 "nbformat_minor": 4
}
