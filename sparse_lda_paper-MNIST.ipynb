{
 "cells": [
  {
   "cell_type": "code",
   "execution_count": 2,
   "metadata": {},
   "outputs": [
    {
     "ename": "ModuleNotFoundError",
     "evalue": "No module named 'numba'",
     "output_type": "error",
     "traceback": [
      "\u001b[0;31m---------------------------------------------------------------------------\u001b[0m",
      "\u001b[0;31mModuleNotFoundError\u001b[0m                       Traceback (most recent call last)",
      "Input \u001b[0;32mIn [2]\u001b[0m, in \u001b[0;36m<module>\u001b[0;34m\u001b[0m\n\u001b[1;32m      6\u001b[0m \u001b[38;5;28;01mfrom\u001b[39;00m \u001b[38;5;21;01msklearn\u001b[39;00m \u001b[38;5;28;01mimport\u001b[39;00m datasets\n\u001b[1;32m      7\u001b[0m \u001b[38;5;28;01mfrom\u001b[39;00m \u001b[38;5;21;01msklearn\u001b[39;00m\u001b[38;5;21;01m.\u001b[39;00m\u001b[38;5;21;01mmodel_selection\u001b[39;00m \u001b[38;5;28;01mimport\u001b[39;00m train_test_split\n\u001b[0;32m----> 8\u001b[0m \u001b[38;5;28;01mfrom\u001b[39;00m \u001b[38;5;21;01mnumba\u001b[39;00m \u001b[38;5;28;01mimport\u001b[39;00m jit, njit, types, vectorize\n\u001b[1;32m      9\u001b[0m \u001b[38;5;28;01mfrom\u001b[39;00m \u001b[38;5;21;01mnumba\u001b[39;00m\u001b[38;5;21;01m.\u001b[39;00m\u001b[38;5;21;01mextending\u001b[39;00m \u001b[38;5;28;01mimport\u001b[39;00m overload, register_jitable\n\u001b[1;32m     10\u001b[0m \u001b[38;5;28;01mfrom\u001b[39;00m \u001b[38;5;21;01mnumba\u001b[39;00m\u001b[38;5;21;01m.\u001b[39;00m\u001b[38;5;21;01mcore\u001b[39;00m\u001b[38;5;21;01m.\u001b[39;00m\u001b[38;5;21;01merrors\u001b[39;00m \u001b[38;5;28;01mimport\u001b[39;00m TypingError\n",
      "\u001b[0;31mModuleNotFoundError\u001b[0m: No module named 'numba'"
     ]
    }
   ],
   "source": [
    "import numpy as np\n",
    "import matplotlib.pyplot as plt\n",
    "import time\n",
    "from tqdm import tqdm\n",
    "from keras.datasets import mnist\n",
    "from sklearn import datasets\n",
    "from sklearn.model_selection import train_test_split\n",
    "from numba import jit, njit, types, vectorize\n",
    "from numba.extending import overload, register_jitable\n",
    "from numba.core.errors import TypingError"
   ]
  },
  {
   "cell_type": "markdown",
   "metadata": {},
   "source": [
    "### Data generation"
   ]
  },
  {
   "cell_type": "code",
   "execution_count": null,
   "metadata": {},
   "outputs": [],
   "source": [
    "full = False"
   ]
  },
  {
   "cell_type": "code",
   "execution_count": null,
   "metadata": {},
   "outputs": [],
   "source": [
    "if full:\n",
    "    (train_X, train_y), (test_X, test_y) = mnist.load_data()\n",
    "    train_X = train_X.reshape(-1,784).astype(np.float64)\n",
    "    test_X = test_X.reshape(-1,784).astype(np.float64)"
   ]
  },
  {
   "cell_type": "code",
   "execution_count": null,
   "metadata": {},
   "outputs": [],
   "source": [
    "if not full:\n",
    "    digits = datasets.load_digits()\n",
    "    train_X, test_X, train_y, test_y = train_test_split(digits.data, digits.target, test_size=0.1, random_state=4)\n",
    "    train_X = train_X.reshape(-1,64).astype(np.float64)\n",
    "    test_X = test_X.reshape(-1,64).astype(np.float64)"
   ]
  },
  {
   "cell_type": "code",
   "execution_count": null,
   "metadata": {},
   "outputs": [],
   "source": [
    "samples = train_X.shape[0]\n",
    "x_dim = train_X.shape[1]\n",
    "X = train_X.T"
   ]
  },
  {
   "cell_type": "code",
   "execution_count": null,
   "metadata": {},
   "outputs": [],
   "source": [
    "dgt = 0\n",
    "class_1 = X[:,train_y != dgt]\n",
    "class_2 = X[:,train_y == dgt]\n",
    "mu_1 = np.mean(class_1, axis=1)\n",
    "mu_2 = np.mean(class_2, axis=1)\n",
    "Sigma = np.cov(class_1)"
   ]
  },
  {
   "cell_type": "code",
   "execution_count": 43,
   "metadata": {},
   "outputs": [],
   "source": [
    "Y = np.zeros((2, samples))\n",
    "\n",
    "for k in range(samples):\n",
    "    Y[1, k] = 1 if train_y[k] == 0 else 0"
   ]
  },
  {
   "cell_type": "markdown",
   "metadata": {},
   "source": [
    "### Optimal solution"
   ]
  },
  {
   "cell_type": "code",
   "execution_count": 44,
   "metadata": {},
   "outputs": [],
   "source": [
    "w_opt = np.linalg.pinv(Sigma)@(mu_1-mu_2)\n",
    "w_opt = w_opt/np.sqrt(w_opt.T@(Sigma)@w_opt)"
   ]
  },
  {
   "cell_type": "code",
   "execution_count": 45,
   "metadata": {},
   "outputs": [],
   "source": [
    "obj_opt = (w_opt.T@(mu_1-mu_2))**2"
   ]
  },
  {
   "cell_type": "code",
   "execution_count": 46,
   "metadata": {},
   "outputs": [
    {
     "data": {
      "image/png": "[encoded data removed]",
      "text/plain": [
       "<Figure size 432x288 with 1 Axes>"
      ]
     },
     "metadata": {
      "needs_background": "light"
     },
     "output_type": "display_data"
    }
   ],
   "source": [
    "plt.scatter(w_opt.T@class_1,np.zeros((w_opt.T@class_1).shape),s=5)\n",
    "plt.scatter(w_opt.T@class_2,np.zeros((w_opt.T@class_2).shape),s=5)\n",
    "plt.grid()\n",
    "plt.show()"
   ]
  },
  {
   "cell_type": "code",
   "execution_count": 47,
   "metadata": {},
   "outputs": [
    {
     "data": {
      "text/plain": [
       "0.9901051329622759"
      ]
     },
     "execution_count": 47,
     "metadata": {},
     "output_type": "execute_result"
    }
   ],
   "source": [
    "(np.sum(w_opt.T@class_1 > 1/2 * w_opt.T@(mu_1+mu_2))  + np.sum(w_opt.T@class_2 < 1/2 * w_opt.T@(mu_1+mu_2)))/samples"
   ]
  },
  {
   "cell_type": "markdown",
   "metadata": {},
   "source": [
    "### Offline algorithm"
   ]
  },
  {
   "cell_type": "code",
   "execution_count": 48,
   "metadata": {},
   "outputs": [],
   "source": [
    "# eta = 1e-3; gam = 1e2*eta; iters = 10000000"
   ]
  },
  {
   "cell_type": "code",
   "execution_count": 49,
   "metadata": {},
   "outputs": [],
   "source": [
    "# obj = np.zeros(iters)\n",
    "# err = np.zeros(iters)\n",
    "# acc = np.zeros(iters)\n",
    "\n",
    "# @jit(nopython=True)\n",
    "# def fit(w, l, mu_1, mu_2, Sigma):\n",
    "#     w = w + eta*(mu_1 - mu_2 - l*Sigma@w)\n",
    "#     l = l + gam*((w.T@Sigma@w).item() - 1)\n",
    "    \n",
    "#     return w, l\n",
    "        \n",
    "# def run_offline(mu_1, mu_2, Sigma, eta, gamma, iters):\n",
    "    \n",
    "#     w = np.random.randn(x_dim)/np.sqrt(x_dim)\n",
    "#     l = 1\n",
    "    \n",
    "#     for i_iter in tqdm(range(iters)):\n",
    "#         w, l = fit(w, l, mu_1, mu_2, Sigma)\n",
    "#         obj[i_iter] = (w.T@(mu_1-mu_2))**2/(w.T@Sigma@w)\n",
    "#         err[i_iter] = np.linalg.norm(w - w_opt)**2\n",
    "#         acc[i_iter] = (np.sum(w.T@class_1 > 1/2 * w.T@(mu_1+mu_2))  + np.sum(w.T@class_2 < 1/2 * w.T@(mu_1+mu_2)))/samples\n",
    "#         #err[i_iter] = (obj_opt - obj[i_iter])/obj_opt\n",
    "#     return w,l\n",
    "\n",
    "# w,l = run_offline(mu_1, mu_2, Sigma, eta, gam, iters)"
   ]
  },
  {
   "cell_type": "code",
   "execution_count": 50,
   "metadata": {},
   "outputs": [],
   "source": [
    "# plt.loglog(range(iters), err)\n",
    "# plt.ylabel(\"Error\")\n",
    "# plt.xlabel(\"t\")\n",
    "# plt.title(\"Offline convergence\")\n",
    "# plt.show()\n",
    "# plt.loglog(range(iters), acc)\n",
    "# plt.ylabel(\"Accuracy\")\n",
    "# plt.xlabel(\"t\")\n",
    "# plt.title(\"Offline convergence\")\n",
    "# plt.show()"
   ]
  },
  {
   "cell_type": "code",
   "execution_count": 51,
   "metadata": {},
   "outputs": [],
   "source": [
    "# (np.sum(w.T@class_1 > 1/2 * w.T@(mu_1+mu_2))  + np.sum(w.T@class_2 < 1/2 * w.T@(mu_1+mu_2)))/samples"
   ]
  },
  {
   "cell_type": "markdown",
   "metadata": {},
   "source": [
    "### Online algorithm"
   ]
  },
  {
   "cell_type": "code",
   "execution_count": 52,
   "metadata": {},
   "outputs": [],
   "source": [
    "\n",
    "@njit\n",
    "def eta(t):\n",
    "    return e/t\n",
    "\n",
    "@njit\n",
    "def fit_bio(w, l, mu, x, y, zeta, l_, c,  t, step):\n",
    "    r = w.T@x\n",
    "    \n",
    "    if y[1] == 0:\n",
    "        mu += (x - mu)/t\n",
    "        zeta += (r-zeta)/t\n",
    "        c += (r-c)/(2*t)\n",
    "        w += step*(mu - l*(r-zeta)*(x-mu))\n",
    "        l += gam*step*((r-zeta)**2 - 1)\n",
    "        l_ += 1\n",
    "        \n",
    "    else:\n",
    "        c += (l_*r - c)/(2*t)\n",
    "        w -= step*l_*x\n",
    "        l_ = 1\n",
    "        \n",
    "    z = r - c  \n",
    "    return w, l, r, c, mu, zeta, l_\n",
    "\n",
    "@njit\n",
    "def run_bio(w, l, c, zeta, l_, mu, X, Y, err, acc, start_epoch, end_epoch):\n",
    "\n",
    "    for i_epoch in range(start_epoch, end_epoch):\n",
    "\n",
    "        idx = np.random.permutation(samples)\n",
    "        \n",
    "        for i_sample in range(samples):\n",
    "\n",
    "            i_iter = i_epoch*samples + i_sample\n",
    "            t = i_iter + 1\n",
    "\n",
    "            x = X[:,idx[i_sample]]\n",
    "            y = Y[:,idx[i_sample]]\n",
    "            step = eta(t)\n",
    "            \n",
    "            w, l, r, c, mu, zeta, l_ = fit_bio(w, l, mu, x, y, zeta, l_, c, t, step)\n",
    "\n",
    "            err[i_iter] = np.linalg.norm(w - w_opt)**2\n",
    "            acc[i_iter] = acc[i_iter-1] * (t-1)\n",
    "            if (y[1] == 0 and r > c) or (y[1] == 1 and r < c):  \n",
    "                acc[i_iter] += 1\n",
    "            acc[i_iter] = acc[i_iter]/t\n",
    "    return w, l, c, zeta, l_, mu, err, acc"
   ]
  },
  {
   "cell_type": "code",
   "execution_count": 54,
   "metadata": {},
   "outputs": [
    {
     "name": "stderr",
     "output_type": "stream",
     "text": [
      "  0%|▏                                          | 1/200 [00:02<07:47,  2.35s/it]"
     ]
    },
    {
     "name": "stdout",
     "output_type": "stream",
     "text": [
      "itr: 0, err: 7.472706887518596, acc:0.16141001855287604\n"
     ]
    },
    {
     "name": "stderr",
     "output_type": "stream",
     "text": [
      "\r",
      "  1%|▍                                          | 2/200 [00:04<07:53,  2.39s/it]"
     ]
    },
    {
     "name": "stdout",
     "output_type": "stream",
     "text": [
      "itr: 1000, err: 7.472373677505728, acc:0.13128491792684152\n"
     ]
    },
    {
     "name": "stderr",
     "output_type": "stream",
     "text": [
      "  2%|▊                                          | 4/200 [00:09<07:49,  2.39s/it]"
     ]
    },
    {
     "name": "stdout",
     "output_type": "stream",
     "text": [
      "itr: 2000, err: 7.4723401396498215, acc:0.13119599754851644\n",
      "itr: 3000, err: 7.472320501969699, acc:0.131166337668907\n"
     ]
    },
    {
     "name": "stderr",
     "output_type": "stream",
     "text": [
      "  3%|█▎                                         | 6/200 [00:14<07:51,  2.43s/it]"
     ]
    },
    {
     "name": "stdout",
     "output_type": "stream",
     "text": [
      "itr: 4000, err: 7.47230656549073, acc:0.13115150402255718\n",
      "itr: 5000, err: 7.47229575904052, acc:0.1311426026483017\n"
     ]
    },
    {
     "name": "stderr",
     "output_type": "stream",
     "text": [
      "  4%|█▋                                         | 8/200 [00:19<07:52,  2.46s/it]"
     ]
    },
    {
     "name": "stdout",
     "output_type": "stream",
     "text": [
      "itr: 6000, err: 7.472286925146849, acc:0.13113666790434858\n",
      "itr: 7000, err: 7.472279451826076, acc:0.13113242855934232\n"
     ]
    },
    {
     "name": "stderr",
     "output_type": "stream",
     "text": [
      "\r",
      "  4%|█▉                                         | 9/200 [00:21<07:50,  2.46s/it]"
     ]
    },
    {
     "name": "stdout",
     "output_type": "stream",
     "text": [
      "itr: 8000, err: 7.472272979573589, acc:0.13112924891811115\n"
     ]
    },
    {
     "name": "stderr",
     "output_type": "stream",
     "text": [
      "  6%|██▎                                       | 11/200 [00:27<08:07,  2.58s/it]"
     ]
    },
    {
     "name": "stdout",
     "output_type": "stream",
     "text": [
      "itr: 9000, err: 7.472267269957271, acc:0.13112677578531176\n",
      "itr: 10000, err: 7.472262160494798, acc:0.13112479722962994\n"
     ]
    },
    {
     "name": "stderr",
     "output_type": "stream",
     "text": [
      "\r",
      "  6%|██▌                                       | 12/200 [00:30<08:20,  2.66s/it]"
     ]
    },
    {
     "name": "stdout",
     "output_type": "stream",
     "text": [
      "itr: 11000, err: 7.472257536661742, acc:0.13112317837863297\n"
     ]
    },
    {
     "name": "stderr",
     "output_type": "stream",
     "text": [
      "\r",
      "  6%|██▋                                       | 13/200 [00:33<08:30,  2.73s/it]"
     ]
    },
    {
     "name": "stdout",
     "output_type": "stream",
     "text": [
      "itr: 12000, err: 7.472253318973831, acc:0.13112182931364436\n",
      "itr: 13000, err: 7.472249436156699, acc:0.1311206877811662"
     ]
    },
    {
     "name": "stderr",
     "output_type": "stream",
     "text": [
      "  8%|███▏                                      | 15/200 [00:38<08:34,  2.78s/it]"
     ]
    },
    {
     "name": "stdout",
     "output_type": "stream",
     "text": [
      "\n",
      "itr: 14000, err: 7.4722458413439865, acc:0.13111970931310135\n"
     ]
    },
    {
     "name": "stderr",
     "output_type": "stream",
     "text": [
      "  8%|███▎                                      | 16/200 [00:44<08:30,  2.77s/it]"
     ]
    },
    {
     "name": "stdout",
     "output_type": "stream",
     "text": [
      "itr: 15000, err: 7.472242494759323, acc:0.13111886129875114\n"
     ]
    },
    {
     "name": "stderr",
     "output_type": "stream",
     "text": [
      "\n"
     ]
    },
    {
     "ename": "SystemError",
     "evalue": "CPUDispatcher(<function run_bio at 0x165637680>) returned a result with an error set",
     "output_type": "error",
     "traceback": [
      "\u001b[0;31m---------------------------------------------------------------------------\u001b[0m",
      "\u001b[0;31mKeyboardInterrupt\u001b[0m                         Traceback (most recent call last)",
      "\u001b[0;32m~/.pyenv/versions/3.7.10/lib/python3.7/site-packages/numba/core/serialize.py\u001b[0m in \u001b[0;36m_numba_unpickle\u001b[0;34m(address, bytedata, hashed)\u001b[0m\n\u001b[1;32m     28\u001b[0m \u001b[0;34m\u001b[0m\u001b[0m\n\u001b[0;32m---> 29\u001b[0;31m \u001b[0;32mdef\u001b[0m \u001b[0m_numba_unpickle\u001b[0m\u001b[0;34m(\u001b[0m\u001b[0maddress\u001b[0m\u001b[0;34m,\u001b[0m \u001b[0mbytedata\u001b[0m\u001b[0;34m,\u001b[0m \u001b[0mhashed\u001b[0m\u001b[0;34m)\u001b[0m\u001b[0;34m:\u001b[0m\u001b[0;34m\u001b[0m\u001b[0;34m\u001b[0m\u001b[0m\n\u001b[0m\u001b[1;32m     30\u001b[0m     \"\"\"Used by `numba_unpickle` from _helperlib.c\n",
      "\u001b[0;31mKeyboardInterrupt\u001b[0m: ",
      "\nThe above exception was the direct cause of the following exception:\n",
      "\u001b[0;31mSystemError\u001b[0m                               Traceback (most recent call last)",
      "\u001b[0;31mSystemError\u001b[0m: PyEval_EvalFrameEx returned a result with an error set",
      "\nThe above exception was the direct cause of the following exception:\n",
      "\u001b[0;31mSystemError\u001b[0m                               Traceback (most recent call last)",
      "\u001b[0;31mSystemError\u001b[0m: PyEval_EvalFrameEx returned a result with an error set",
      "\nThe above exception was the direct cause of the following exception:\n",
      "\u001b[0;31mSystemError\u001b[0m                               Traceback (most recent call last)",
      "\u001b[0;31mSystemError\u001b[0m: PyEval_EvalFrameEx returned a result with an error set",
      "\nThe above exception was the direct cause of the following exception:\n",
      "\u001b[0;31mSystemError\u001b[0m                               Traceback (most recent call last)",
      "\u001b[0;32m/var/folders/vx/r02h3srd2yv7bvg9jsqkfv1c0000gn/T/ipykernel_90055/1082997024.py\u001b[0m in \u001b[0;36m<module>\u001b[0;34m\u001b[0m\n\u001b[1;32m     11\u001b[0m     \u001b[0;32mfor\u001b[0m \u001b[0mitr\u001b[0m \u001b[0;32min\u001b[0m \u001b[0mtqdm\u001b[0m\u001b[0;34m(\u001b[0m\u001b[0mrange\u001b[0m\u001b[0;34m(\u001b[0m\u001b[0;36m0\u001b[0m\u001b[0;34m,\u001b[0m\u001b[0mtotal_epochs\u001b[0m\u001b[0;34m,\u001b[0m \u001b[0mepochs\u001b[0m\u001b[0;34m)\u001b[0m\u001b[0;34m)\u001b[0m\u001b[0;34m:\u001b[0m\u001b[0;34m\u001b[0m\u001b[0;34m\u001b[0m\u001b[0m\n\u001b[1;32m     12\u001b[0m \u001b[0;31m#         print(itr, itr+epochs)\u001b[0m\u001b[0;34m\u001b[0m\u001b[0;34m\u001b[0m\u001b[0;34m\u001b[0m\u001b[0m\n\u001b[0;32m---> 13\u001b[0;31m         \u001b[0mw\u001b[0m\u001b[0;34m,\u001b[0m \u001b[0ml\u001b[0m\u001b[0;34m,\u001b[0m \u001b[0mc\u001b[0m\u001b[0;34m,\u001b[0m \u001b[0mzeta\u001b[0m\u001b[0;34m,\u001b[0m \u001b[0ml_\u001b[0m\u001b[0;34m,\u001b[0m \u001b[0mmu\u001b[0m\u001b[0;34m,\u001b[0m \u001b[0merr\u001b[0m\u001b[0;34m,\u001b[0m \u001b[0macc\u001b[0m \u001b[0;34m=\u001b[0m \u001b[0mrun_bio\u001b[0m\u001b[0;34m(\u001b[0m\u001b[0mw\u001b[0m\u001b[0;34m,\u001b[0m \u001b[0ml\u001b[0m\u001b[0;34m,\u001b[0m \u001b[0mc\u001b[0m\u001b[0;34m,\u001b[0m \u001b[0mzeta\u001b[0m\u001b[0;34m,\u001b[0m \u001b[0ml_\u001b[0m\u001b[0;34m,\u001b[0m \u001b[0mmu\u001b[0m\u001b[0;34m,\u001b[0m \u001b[0mX\u001b[0m\u001b[0;34m,\u001b[0m \u001b[0mY\u001b[0m\u001b[0;34m,\u001b[0m \u001b[0merr\u001b[0m\u001b[0;34m,\u001b[0m \u001b[0macc\u001b[0m\u001b[0;34m,\u001b[0m \u001b[0mitr\u001b[0m\u001b[0;34m,\u001b[0m \u001b[0mitr\u001b[0m\u001b[0;34m+\u001b[0m\u001b[0mepochs\u001b[0m\u001b[0;34m)\u001b[0m\u001b[0;34m\u001b[0m\u001b[0;34m\u001b[0m\u001b[0m\n\u001b[0m\u001b[1;32m     14\u001b[0m \u001b[0;34m\u001b[0m\u001b[0m\n\u001b[1;32m     15\u001b[0m         \u001b[0mprint\u001b[0m\u001b[0;34m(\u001b[0m\u001b[0;34mf\"itr: {itr}, err: {err[(itr+1)*samples-1]}, acc:{acc[(itr+1)*samples-1]}\"\u001b[0m\u001b[0;34m)\u001b[0m\u001b[0;34m\u001b[0m\u001b[0;34m\u001b[0m\u001b[0m\n",
      "\u001b[0;31mSystemError\u001b[0m: CPUDispatcher(<function run_bio at 0x165637680>) returned a result with an error set"
     ]
    }
   ],
   "source": [
    "for i in range(1):\n",
    "    e = 1e-5; gam = 1e2;  epochs = int(1e3); total_epochs = 200 * epochs; iters = total_epochs*samples\n",
    "    w = np.random.randn(x_dim)/np.sqrt(x_dim)\n",
    "    l = 1\n",
    "    c = 0\n",
    "    zeta = 0\n",
    "    l_ = 1\n",
    "    mu = np.zeros(x_dim)\n",
    "    err = np.zeros(iters)\n",
    "    acc = np.zeros(iters)\n",
    "    for itr in tqdm(range(0,total_epochs, epochs)):\n",
    "#         print(itr, itr+epochs)\n",
    "        w, l, c, zeta, l_, mu, err, acc = run_bio(w, l, c, zeta, l_, mu, X, Y, err, acc, itr, itr+epochs)\n",
    "\n",
    "        print(f\"itr: {itr}, err: {err[(itr+1)*samples-1]}, acc:{acc[(itr+1)*samples-1]}\")\n",
    "       "
   ]
  },
  {
   "cell_type": "code",
   "execution_count": null,
   "metadata": {},
   "outputs": [],
   "source": [
    "plt.loglog(err)\n",
    "plt.show()"
   ]
  },
  {
   "cell_type": "code",
   "execution_count": null,
   "metadata": {},
   "outputs": [],
   "source": [
    "def add_fill_lines(axis, t, err, plot_kwargs=None, ci_kwargs=None):\n",
    "    \"\"\"\n",
    "    Parameters:\n",
    "    ====================\n",
    "    axis        -- Axis variable\n",
    "    t           -- Array of time points\n",
    "    err         -- The data matrix of errors over multiple trials\n",
    "    plot_kwargs -- Arguments for axis.plot()\n",
    "    ci_kwargs   -- Arguments for axis.fill_between()\n",
    "    \n",
    "    Output:\n",
    "    ====================\n",
    "    plot        -- Function axis.plot()\n",
    "    fill        -- Function axis.fill_between() with standard deviation computed on a log scale\n",
    "    \"\"\"\n",
    "        \n",
    "    log_err = np.log(err+10**-5) # add 10**-5 to ensure the logarithm is well defined\n",
    "    log_mu = log_err.mean(axis=0)\n",
    "    sigma = np.std(log_err,axis=0)\n",
    "    ci_lo, ci_hi = log_mu - sigma, log_mu + sigma\n",
    "    plot_kwargs = plot_kwargs or {}\n",
    "    ci_kwargs = ci_kwargs or {}\n",
    "    plot = axis.loglog(t, np.exp(log_mu), **plot_kwargs)\n",
    "    fill = axis.fill_between(t, np.exp(ci_lo), np.exp(ci_hi), alpha=.1, **ci_kwargs)\n",
    "    \n",
    "    return plot, fill"
   ]
  },
  {
   "cell_type": "code",
   "execution_count": null,
   "metadata": {},
   "outputs": [],
   "source": [
    "from matplotlib import gridspec\n",
    "plt.figure(figsize=(20, 12))\n",
    "gs = gridspec.GridSpec(2,2)\n",
    "\n",
    "\n",
    "ax1 = plt.subplot(gs[0,0])\n",
    "\n",
    "add_fill_lines(ax1, range(iters), err[None])\n",
    "plt.title(\"Online convergence\")\n",
    "plt.ylabel(\"Error\")\n",
    "plt.xlabel(\"Sample #\")\n",
    "plt.xlim(1e2,iters)\n",
    "plt.grid()\n",
    "plt.show()"
   ]
  },
  {
   "cell_type": "code",
   "execution_count": 40,
   "metadata": {},
   "outputs": [
    {
     "name": "stderr",
     "output_type": "stream",
     "text": [
      "/Users/aneeshkashalikar/.pyenv/versions/3.7.10/lib/python3.7/site-packages/ipykernel_launcher.py:12: UserWarning: Attempted to set non-positive left xlim on a log-scaled axis.\n",
      "Invalid limit will be ignored.\n",
      "  if sys.path[0] == '':\n"
     ]
    },
    {
     "data": {
      "image/png": "[encoded data removed]",
      "text/plain": [
       "<Figure size 1440x864 with 1 Axes>"
      ]
     },
     "metadata": {
      "needs_background": "light"
     },
     "output_type": "display_data"
    }
   ],
   "source": [
    "from matplotlib import gridspec\n",
    "plt.figure(figsize=(20, 12))\n",
    "gs = gridspec.GridSpec(2,2)\n",
    "\n",
    "\n",
    "ax1 = plt.subplot(gs[0,0])\n",
    "\n",
    "add_fill_lines(ax1, range(epochs), acc[None])\n",
    "plt.title(\"Online convergence\")\n",
    "plt.ylabel(\"Accuracy\")\n",
    "plt.xlabel(\"Epoch\")\n",
    "plt.xlim(0,epochs)\n",
    "plt.grid()\n",
    "plt.show()"
   ]
  },
  {
   "cell_type": "code",
   "execution_count": null,
   "metadata": {},
   "outputs": [],
   "source": []
  }
 ],
 "metadata": {
  "kernelspec": {
   "display_name": "Python 3 (ipykernel)",
   "language": "python",
   "name": "python3"
  },
  "language_info": {
   "codemirror_mode": {
    "name": "ipython",
    "version": 3
   },
   "file_extension": ".py",
   "mimetype": "text/x-python",
   "name": "python",
   "nbconvert_exporter": "python",
   "pygments_lexer": "ipython3",
   "version": "3.9.6"
  }
 },
 "nbformat": 4,
 "nbformat_minor": 4
}
