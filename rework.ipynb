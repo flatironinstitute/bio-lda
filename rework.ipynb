{
 "cells": [
  {
   "cell_type": "code",
   "execution_count": 1,
   "metadata": {},
   "outputs": [
    {
     "ename": "AttributeError",
     "evalue": "module 'numpy.random' has no attribute 'PRNGKey'",
     "output_type": "error",
     "traceback": [
      "\u001b[0;31m---------------------------------------------------------------------------\u001b[0m",
      "\u001b[0;31mAttributeError\u001b[0m                            Traceback (most recent call last)",
      "Input \u001b[0;32mIn [1]\u001b[0m, in \u001b[0;36m<module>\u001b[0;34m\u001b[0m\n\u001b[1;32m     39\u001b[0m         \u001b[38;5;28mself\u001b[39m\u001b[38;5;241m.\u001b[39m_start_time \u001b[38;5;241m=\u001b[39m \u001b[38;5;28;01mNone\u001b[39;00m\n\u001b[1;32m     40\u001b[0m         \u001b[38;5;28mprint\u001b[39m(\u001b[38;5;124mf\u001b[39m\u001b[38;5;124m\"\u001b[39m\u001b[38;5;124mElapsed time: \u001b[39m\u001b[38;5;132;01m{\u001b[39;00melapsed_time\u001b[38;5;132;01m:\u001b[39;00m\u001b[38;5;124m0.4f\u001b[39m\u001b[38;5;132;01m}\u001b[39;00m\u001b[38;5;124m seconds\u001b[39m\u001b[38;5;124m\"\u001b[39m)\n\u001b[0;32m---> 42\u001b[0m \u001b[38;5;28;01mfrom\u001b[39;00m \u001b[38;5;21;01msparse_lda_algorithms\u001b[39;00m \u001b[38;5;28;01mimport\u001b[39;00m run_bio\n",
      "File \u001b[0;32m~/Downloads/bio-lda/sparse_lda_algorithms.py:16\u001b[0m, in \u001b[0;36m<module>\u001b[0;34m\u001b[0m\n\u001b[1;32m     13\u001b[0m \u001b[38;5;28;01mfrom\u001b[39;00m \u001b[38;5;21;01mnumpy\u001b[39;00m\u001b[38;5;21;01m.\u001b[39;00m\u001b[38;5;21;01mrandom\u001b[39;00m \u001b[38;5;28;01mimport\u001b[39;00m randn\n\u001b[1;32m     14\u001b[0m \u001b[38;5;28;01mimport\u001b[39;00m \u001b[38;5;21;01mtime\u001b[39;00m\n\u001b[0;32m---> 16\u001b[0m key \u001b[38;5;241m=\u001b[39m \u001b[43mrandom\u001b[49m\u001b[38;5;241;43m.\u001b[39;49m\u001b[43mPRNGKey\u001b[49m(\u001b[38;5;241m0\u001b[39m)\n\u001b[1;32m     18\u001b[0m \u001b[38;5;28;01mclass\u001b[39;00m \u001b[38;5;21;01mTimerError\u001b[39;00m(\u001b[38;5;167;01mException\u001b[39;00m):\n\u001b[1;32m     19\u001b[0m     \u001b[38;5;124;03m\"\"\"A custom exception used to report errors in use of Timer class\"\"\"\u001b[39;00m\n",
      "\u001b[0;31mAttributeError\u001b[0m: module 'numpy.random' has no attribute 'PRNGKey'"
     ]
    }
   ],
   "source": [
    "import numpy\n",
    "import matplotlib.pyplot as plt\n",
    "import time\n",
    "from tqdm import tqdm\n",
    "from numba import njit,jit\n",
    "\n",
    "import time\n",
    "\n",
    "class TimerError(Exception):\n",
    "    \"\"\"A custom exception used to report errors in use of Timer class\"\"\"\n",
    "\n",
    "class Timer:\n",
    "    def __init__(self):\n",
    "        self._start_time = None\n",
    "    \n",
    "    def __enter__(self):\n",
    "        \"\"\"Start a new timer as a context manager\"\"\"\n",
    "        self.start()\n",
    "        return self\n",
    "\n",
    "    def __exit__(self, *exc_info):\n",
    "        \"\"\"Stop the context manager timer\"\"\"\n",
    "        self.stop()\n",
    "\n",
    "\n",
    "    def start(self):\n",
    "        \"\"\"Start a new timer\"\"\"\n",
    "        if self._start_time is not None:\n",
    "            raise TimerError(f\"Timer is running. Use .stop() to stop it\")\n",
    "\n",
    "        self._start_time = time.perf_counter()\n",
    "\n",
    "    def stop(self):\n",
    "        \"\"\"Stop the timer, and report the elapsed time\"\"\"\n",
    "        if self._start_time is None:\n",
    "            raise TimerError(f\"Timer is not running. Use .start() to start it\")\n",
    "\n",
    "        elapsed_time = time.perf_counter() - self._start_time\n",
    "        self._start_time = None\n",
    "        print(f\"Elapsed time: {elapsed_time:0.4f} seconds\")\n",
    "        \n",
    "from sparse_lda_algorithms import run_bio"
   ]
  },
  {
   "cell_type": "markdown",
   "metadata": {},
   "source": [
    "### Data generation"
   ]
  },
  {
   "cell_type": "code",
   "execution_count": null,
   "metadata": {},
   "outputs": [],
   "source": [
    "err1s = []\n",
    "err2s = []\n",
    "err3s = []\n",
    "err4s = []\n",
    "err5s = []\n",
    "\n",
    "acc1s = []\n",
    "acc2s = []\n",
    "acc3s = []\n",
    "acc4s = []\n",
    "acc5s = []"
   ]
  },
  {
   "cell_type": "code",
   "execution_count": null,
   "metadata": {},
   "outputs": [],
   "source": [
    "key = random.PRNGKey(0)\n",
    "x_dim = 5 # dimension of observations\n",
    "freq = 0.1 # frequency of class 2 samples\n",
    "mu_1 = 1*randn(key, (x_dim,1)) - 1 # mean of class 1\n",
    "mu_2 = 1*randn(key, (x_dim,1)) + 1 # mean of class 2\n",
    "sig = randn(key, (x_dim,x_dim))/np.sqrt(x_dim)\n",
    "Sigma = sig@sig.T\n",
    "samples = 100000 # number of data points"
   ]
  },
  {
   "cell_type": "code",
   "execution_count": null,
   "metadata": {},
   "outputs": [],
   "source": []
  },
  {
   "cell_type": "code",
   "execution_count": null,
   "metadata": {},
   "outputs": [],
   "source": []
  },
  {
   "cell_type": "code",
   "execution_count": null,
   "metadata": {},
   "outputs": [],
   "source": []
  },
  {
   "cell_type": "code",
   "execution_count": null,
   "metadata": {},
   "outputs": [],
   "source": []
  },
  {
   "cell_type": "code",
   "execution_count": null,
   "metadata": {},
   "outputs": [],
   "source": [
    "freq = 0.1 # frequency of class 2 samples"
   ]
  },
  {
   "cell_type": "code",
   "execution_count": null,
   "metadata": {},
   "outputs": [],
   "source": [
    "class_1 = mu_1 + sig@randn(key, (x_dim,int(samples*(1-freq))))\n",
    "class_2 = mu_2 + sig@randn(key, (x_dim,int(samples*freq)))"
   ]
  },
  {
   "cell_type": "code",
   "execution_count": null,
   "metadata": {},
   "outputs": [],
   "source": [
    "X = np.concatenate((class_1,class_2),axis=1)\n",
    "Y = numpy.zeros((2,samples)); Y[0,:int(samples*(1-freq))] = 1; Y[1,-int(samples*freq):] = 1\n",
    "idx = random.permutation(key,samples)\n",
    "X = X[:,idx]\n",
    "Y = Y[:,idx]\n",
    "Y = np.array(Y)"
   ]
  },
  {
   "cell_type": "code",
   "execution_count": null,
   "metadata": {},
   "outputs": [],
   "source": [
    "plt.scatter(class_1[0],class_1[1],s=1)\n",
    "plt.scatter(class_2[0],class_2[1],s=1)\n",
    "plt.grid()\n",
    "plt.show()"
   ]
  },
  {
   "cell_type": "code",
   "execution_count": null,
   "metadata": {},
   "outputs": [],
   "source": [
    "def calculate_covariance_matrix(X, Y=None):\n",
    "    \"\"\" Calculate the covariance matrix for the dataset X \"\"\"\n",
    "    if Y is None:\n",
    "        Y = X\n",
    "    n_samples = np.shape(X)[0]\n",
    "    covariance_matrix = (1 / (n_samples)) * (X - X.mean(axis=0)).T.dot(Y - Y.mean(axis=0))\n",
    "\n",
    "    return np.array(covariance_matrix, dtype=float)\n"
   ]
  },
  {
   "cell_type": "markdown",
   "metadata": {},
   "source": [
    "### Optimal solution"
   ]
  },
  {
   "cell_type": "code",
   "execution_count": null,
   "metadata": {},
   "outputs": [],
   "source": [
    "w_opt = np.linalg.inv(Sigma)@(mu_1-mu_2)\n",
    "w_opt = w_opt/np.sqrt(w_opt.T@(Sigma)@w_opt)"
   ]
  },
  {
   "cell_type": "code",
   "execution_count": null,
   "metadata": {},
   "outputs": [],
   "source": [
    "obj_opt = (w_opt.T@(mu_1-mu_2))**2"
   ]
  },
  {
   "cell_type": "code",
   "execution_count": null,
   "metadata": {},
   "outputs": [],
   "source": [
    "plt.scatter(w_opt.T@class_1,np.zeros((w_opt.T@class_1).shape),s=5)\n",
    "plt.scatter(w_opt.T@class_2,np.zeros((w_opt.T@class_2).shape),s=5)\n",
    "plt.grid()\n",
    "plt.show()"
   ]
  },
  {
   "cell_type": "code",
   "execution_count": null,
   "metadata": {},
   "outputs": [],
   "source": [
    "(np.sum(w_opt.T@class_1 > 1/2 * w_opt.T@(mu_1+mu_2))  + np.sum(w_opt.T@class_2 < 1/2 * w_opt.T@(mu_1+mu_2)))/samples"
   ]
  },
  {
   "cell_type": "markdown",
   "metadata": {},
   "source": [
    "### Offline algorithm"
   ]
  },
  {
   "cell_type": "code",
   "execution_count": null,
   "metadata": {},
   "outputs": [],
   "source": [
    "# eta = 1e-3; gam = 1e2*eta; iters = 100000"
   ]
  },
  {
   "cell_type": "code",
   "execution_count": null,
   "metadata": {},
   "outputs": [],
   "source": [
    "# obj = np.zeros(iters)\n",
    "# err = np.zeros(iters)\n",
    "# acc = np.zeros(iters)\n",
    "\n",
    "# @jit(nopython=True)\n",
    "# def fit(w, l, mu_1, mu_2, Sigma):\n",
    "#     w = w + eta*(mu_1 - mu_2 - l*Sigma@w)\n",
    "#     l = l + gam*((w.T@Sigma@w).item() - 1)\n",
    "    \n",
    "#     return w, l\n",
    "        \n",
    "# def run_offline(mu_1, mu_2, Sigma, eta, gamma, iters):\n",
    "    \n",
    "#     w = np.random.randn(x_dim,1)/np.sqrt(x_dim)\n",
    "#     l = 1\n",
    "    \n",
    "#     for i_iter in tqdm(range(iters)):\n",
    "#         w, l = fit(w, l, mu_1, mu_2, Sigma)\n",
    "#         obj[i_iter] = (w.T@(mu_1-mu_2))**2/(w.T@Sigma@w)\n",
    "#         err[i_iter] = np.linalg.norm(w[:,0] - w_opt[:,0])**2\n",
    "#         acc[i_iter] = (np.sum(w.T@class_1 > 1/2 * w.T@(mu_1+mu_2))  + np.sum(w.T@class_2 < 1/2 * w.T@(mu_1+mu_2)))/samples\n",
    "#         #err[i_iter] = (obj_opt - obj[i_iter])/obj_opt\n",
    "#     return w,l\n",
    "\n",
    "# w,l = run_offline(mu_1, mu_2, Sigma, eta, gam, iters)"
   ]
  },
  {
   "cell_type": "code",
   "execution_count": null,
   "metadata": {},
   "outputs": [],
   "source": [
    "# plt.loglog(range(iters), err)\n",
    "# plt.ylabel(\"Error\")\n",
    "# plt.xlabel(\"t\")\n",
    "# plt.title(\"Offline convergence\")\n",
    "# plt.show()\n",
    "# plt.loglog(range(iters), acc)\n",
    "# plt.ylabel(\"Accuracy\")\n",
    "# plt.xlabel(\"t\")\n",
    "# plt.title(\"Offline convergence\")\n",
    "# plt.show()"
   ]
  },
  {
   "cell_type": "code",
   "execution_count": null,
   "metadata": {},
   "outputs": [],
   "source": [
    "# (np.sum(w.T@class_1 > 1/2 * w.T@(mu_1+mu_2))  + np.sum(w.T@class_2 < 1/2 * w.T@(mu_1+mu_2)))/samples"
   ]
  },
  {
   "cell_type": "markdown",
   "metadata": {},
   "source": [
    "### Online algorithm"
   ]
  },
  {
   "cell_type": "code",
   "execution_count": null,
   "metadata": {},
   "outputs": [],
   "source": [
    "# import pickle\n",
    "# with open('vars.pickle', 'rb') as f:\n",
    "#     v = pickle.load(f)zzzz\n",
    "# import pickle\n",
    "# with open('vars.pickle', 'wb') as f:\n",
    "#     pickle.dump([err1s, err2s, err3s, err4s, err5s, acc1s, acc2s, acc3s, acc4s, acc5s], f)"
   ]
  },
  {
   "cell_type": "code",
   "execution_count": null,
   "metadata": {},
   "outputs": [],
   "source": [
    "# err1s = []\n",
    "# err2s = []\n",
    "# err3s = []\n",
    "# err4s = []\n",
    "# err5s = []\n",
    "\n",
    "# acc1s = []\n",
    "# acc2s = []\n",
    "# acc3s = []\n",
    "# acc4s = []\n",
    "# acc5s = []"
   ]
  },
  {
   "cell_type": "code",
   "execution_count": null,
   "metadata": {},
   "outputs": [],
   "source": [
    "e = 5e-6; e2=5e-6; gam = 1e2;  epochs = int(1e3); total_epochs = int(1) * epochs; iters = epochs*samples; every = 10;\n",
    "for i in range(1):\n",
    "    w = randn(key, (x_dim,))/np.sqrt(x_dim)\n",
    "    l = 1\n",
    "    c = 0\n",
    "    zeta = 0\n",
    "    l_ = 1\n",
    "    mu = np.zeros(x_dim)\n",
    "    err = np.zeros(iters)\n",
    "    acc = np.zeros(iters)\n",
    "    w, l, c, zeta, l_, mu, err, acc, step = run_bio(w, l, c, zeta, l_, mu, X, Y, err, acc, 0, epochs, every, e, e2, gam, samples, w_opt)\n",
    "#     print(f\"step: {step}\")\n",
    "#     print(f\"itr: {itr}, err: {err[(itr+1)*samples-1]}, acc:{acc[(itr+1)*samples-1]}\")\n",
    "    plt.loglog(err)\n",
    "    plt.show()\n",
    "    if freq == 0.01:\n",
    "        err1s.append(err)\n",
    "        acc1s.append(acc)\n",
    "    elif freq == 0.05:\n",
    "        err2s.append(err)\n",
    "        acc2s.append(acc)\n",
    "    elif freq == 0.1:\n",
    "        err3s.append(err)\n",
    "        acc3s.append(acc)\n",
    "    elif freq == 0.25:\n",
    "        err4s.append(err)\n",
    "        acc4s.append(acc)\n",
    "    elif freq == 0.5:\n",
    "        err5s.append(err)\n",
    "        acc5s.append(acc)"
   ]
  },
  {
   "cell_type": "code",
   "execution_count": null,
   "metadata": {
    "scrolled": true
   },
   "outputs": [],
   "source": [
    "# e = 1e-6; e2=1e-6; gam = 1e2;  epochs = int(1e2); total_epochs = int(1) * epochs; iters = total_epochs*samples\n",
    "# for i in range(1):\n",
    "#     w = np.random.randn(x_dim)/np.sqrt(x_dim)\n",
    "#     l = 1\n",
    "#     c = 0\n",
    "#     zeta = 0\n",
    "#     l_ = 1\n",
    "#     mu = np.zeros(x_dim)\n",
    "#     err = np.zeros(iters)\n",
    "#     acc = np.zeros(iters)\n",
    "#     for itr in tqdm(range(0,total_epochs, epochs)):\n",
    "# #         print(f\"w: {w}\")\n",
    "#         w, l, c, zeta, l_, mu, err, acc, step = run_bio(w, l, c, zeta, l_, mu, X, Y, err, acc, itr, itr+epochs, e, e2, gam, samples, w_opt)\n",
    "#         print(f\"step: {step}\")\n",
    "#         print(f\"itr: {itr}, err: {err[(itr+1)*samples-1]}, acc:{acc[(itr+1)*samples-1]}\")\n",
    "#         plt.loglog(err[:(itr+1)*samples])\n",
    "#         plt.show()\n",
    "#     if freq == 0.01:\n",
    "#         err1s.append(err)\n",
    "#         acc1s.append(acc)\n",
    "#     elif freq == 0.05:\n",
    "#         err2s.append(err)\n",
    "#         acc2s.append(acc)\n",
    "#     elif freq == 0.1:\n",
    "#         err3s.append(err)\n",
    "#         acc3s.append(acc)\n",
    "#     elif freq == 0.25:\n",
    "#         err4s.append(err)\n",
    "#         acc4s.append(acc)\n",
    "#     elif freq == 0.5:\n",
    "#         err5s.append(err)\n",
    "#         acc5s.append(acc)"
   ]
  },
  {
   "cell_type": "code",
   "execution_count": null,
   "metadata": {},
   "outputs": [],
   "source": [
    "plt.loglog(err[:(itr+1)*samples])\n",
    "plt.show()"
   ]
  },
  {
   "cell_type": "code",
   "execution_count": null,
   "metadata": {},
   "outputs": [],
   "source": [
    "plt.loglog(err)\n",
    "plt.show()\n",
    "plt.loglog(acc)\n",
    "plt.show()"
   ]
  },
  {
   "cell_type": "code",
   "execution_count": null,
   "metadata": {},
   "outputs": [],
   "source": [
    "def add_fill_lines(axis, t, err, plot_kwargs=None, ci_kwargs=None):\n",
    "    \"\"\"\n",
    "    Parameters:\n",
    "    ====================\n",
    "    axis        -- Axis variable\n",
    "    t           -- Array of time points\n",
    "    err         -- The data matrix of errors over multiple trials\n",
    "    plot_kwargs -- Arguments for axis.plot()\n",
    "    ci_kwargs   -- Arguments for axis.fill_between()\n",
    "    \n",
    "    Output:\n",
    "    ====================\n",
    "    plot        -- Function axis.plot()\n",
    "    fill        -- Function axis.fill_between() with standard deviation computed on a log scale\n",
    "    \"\"\"\n",
    "        \n",
    "    log_err = np.log(err+10**-5) # add 10**-5 to ensure the logarithm is well defined\n",
    "    log_mu = log_err.mean(axis=0)\n",
    "    sigma = np.std(log_err,axis=0)\n",
    "    ci_lo, ci_hi = log_mu - sigma, log_mu + sigma\n",
    "    plot_kwargs = plot_kwargs or {}\n",
    "    ci_kwargs = ci_kwargs or {}\n",
    "    plot = axis.loglog(t, np.exp(log_mu), **plot_kwargs)\n",
    "    fill = axis.fill_between(t, np.exp(ci_lo), np.exp(ci_hi), alpha=.1, **ci_kwargs)\n",
    "    \n",
    "    return plot, fill"
   ]
  },
  {
   "cell_type": "code",
   "execution_count": 290,
   "metadata": {},
   "outputs": [],
   "source": [
    "# err3s = err3s[0:2] + err3s[3:]"
   ]
  },
  {
   "cell_type": "code",
   "execution_count": 291,
   "metadata": {},
   "outputs": [
    {
     "name": "stderr",
     "output_type": "stream",
     "text": [
      "/Users/aneeshkashalikar/.pyenv/versions/3.7.10/lib/python3.7/site-packages/IPython/core/pylabtools.py:151: UserWarning: Creating legend with loc=\"best\" can be slow with large amounts of data.\n",
      "  fig.canvas.print_figure(bytes_io, **kw)\n"
     ]
    },
    {
     "data": {
      "image/png": "[encoded data removed]",
      "text/plain": [
       "<Figure size 1440x864 with 1 Axes>"
      ]
     },
     "metadata": {
      "needs_background": "light"
     },
     "output_type": "display_data"
    }
   ],
   "source": [
    "from matplotlib import gridspec\n",
    "plt.figure(figsize=(20, 12))\n",
    "gs = gridspec.GridSpec(2,2)\n",
    "\n",
    "\n",
    "ax1 = plt.subplot(gs[0,0])\n",
    "\n",
    "add_fill_lines(ax1, range(iters), np.array(err1s), plot_kwargs = {\"label\": \"0.1 class 1\"})\n",
    "add_fill_lines(ax1, range(iters), np.array(err2s), plot_kwargs = {\"label\": \"0.2 class 1\"})\n",
    "add_fill_lines(ax1, range(iters), np.array(err3s), plot_kwargs = {\"label\": \"0.3 class 1\"})\n",
    "add_fill_lines(ax1, range(iters), np.array(err4s), plot_kwargs = {\"label\": \"0.4 class 1\"})\n",
    "add_fill_lines(ax1, range(iters), np.array(err5s), plot_kwargs = {\"label\": \"0.5 class 1\"})\n",
    "plt.legend()\n",
    "plt.title(\"Online convergence\")\n",
    "plt.ylabel(\"Error\")\n",
    "plt.xlabel(\"Sample #\")\n",
    "plt.xlim(1e2,iters)\n",
    "plt.grid()\n",
    "plt.show()"
   ]
  },
  {
   "cell_type": "code",
   "execution_count": 280,
   "metadata": {},
   "outputs": [
    {
     "data": {
      "text/plain": [
       "[array([1., 1., 1., 1., 1., 1., 1., 1., 1., 1., 1., 1., 1., 1., 1., 1., 1.,\n",
       "        1., 1., 1., 1., 1., 1., 1., 1., 1., 1., 1., 1., 1., 1., 1., 1., 1.,\n",
       "        1., 1., 1., 1., 1., 1., 1., 1., 1., 1., 1., 1., 1., 1., 1., 1., 1.,\n",
       "        1., 1., 1., 1., 1., 1., 1., 1., 1., 1., 1., 1., 1., 1., 1., 1., 1.,\n",
       "        1., 1., 1., 1., 1., 1., 1., 1., 1., 1., 1., 1., 1., 1., 1., 1., 1.,\n",
       "        1., 1., 1., 1., 1., 1., 1., 1., 1., 1., 1., 1., 1., 1., 1.]),\n",
       " array([1., 1., 1., 1., 1., 1., 1., 1., 1., 1., 1., 1., 1., 1., 1., 1., 1.,\n",
       "        1., 1., 1., 1., 1., 1., 1., 1., 1., 1., 1., 1., 1., 1., 1., 1., 1.,\n",
       "        1., 1., 1., 1., 1., 1., 1., 1., 1., 1., 1., 1., 1., 1., 1., 1., 1.,\n",
       "        1., 1., 1., 1., 1., 1., 1., 1., 1., 1., 1., 1., 1., 1., 1., 1., 1.,\n",
       "        1., 1., 1., 1., 1., 1., 1., 1., 1., 1., 1., 1., 1., 1., 1., 1., 1.,\n",
       "        1., 1., 1., 1., 1., 1., 1., 1., 1., 1., 1., 1., 1., 1., 1.]),\n",
       " array([1., 1., 1., 1., 1., 1., 1., 1., 1., 1., 1., 1., 1., 1., 1., 1., 1.,\n",
       "        1., 1., 1., 1., 1., 1., 1., 1., 1., 1., 1., 1., 1., 1., 1., 1., 1.,\n",
       "        1., 1., 1., 1., 1., 1., 1., 1., 1., 1., 1., 1., 1., 1., 1., 1., 1.,\n",
       "        1., 1., 1., 1., 1., 1., 1., 1., 1., 1., 1., 1., 1., 1., 1., 1., 1.,\n",
       "        1., 1., 1., 1., 1., 1., 1., 1., 1., 1., 1., 1., 1., 1., 1., 1., 1.,\n",
       "        1., 1., 1., 1., 1., 1., 1., 1., 1., 1., 1., 1., 1., 1., 1.]),\n",
       " array([1., 1., 1., 1., 1., 1., 1., 1., 1., 1., 1., 1., 1., 1., 1., 1., 1.,\n",
       "        1., 1., 1., 1., 1., 1., 1., 1., 1., 1., 1., 1., 1., 1., 1., 1., 1.,\n",
       "        1., 1., 1., 1., 1., 1., 1., 1., 1., 1., 1., 1., 1., 1., 1., 1., 1.,\n",
       "        1., 1., 1., 1., 1., 1., 1., 1., 1., 1., 1., 1., 1., 1., 1., 1., 1.,\n",
       "        1., 1., 1., 1., 1., 1., 1., 1., 1., 1., 1., 1., 1., 1., 1., 1., 1.,\n",
       "        1., 1., 1., 1., 1., 1., 1., 1., 1., 1., 1., 1., 1., 1., 1.]),\n",
       " array([1., 1., 1., 1., 1., 1., 1., 1., 1., 1., 1., 1., 1., 1., 1., 1., 1.,\n",
       "        1., 1., 1., 1., 1., 1., 1., 1., 1., 1., 1., 1., 1., 1., 1., 1., 1.,\n",
       "        1., 1., 1., 1., 1., 1., 1., 1., 1., 1., 1., 1., 1., 1., 1., 1., 1.,\n",
       "        1., 1., 1., 1., 1., 1., 1., 1., 1., 1., 1., 1., 1., 1., 1., 1., 1.,\n",
       "        1., 1., 1., 1., 1., 1., 1., 1., 1., 1., 1., 1., 1., 1., 1., 1., 1.,\n",
       "        1., 1., 1., 1., 1., 1., 1., 1., 1., 1., 1., 1., 1., 1., 1.])]"
      ]
     },
     "execution_count": 280,
     "metadata": {},
     "output_type": "execute_result"
    }
   ],
   "source": [
    "acc5s"
   ]
  },
  {
   "cell_type": "code",
   "execution_count": 288,
   "metadata": {},
   "outputs": [
    {
     "data": {
      "image/png": "[encoded data removed]",
      "text/plain": [
       "<Figure size 1440x864 with 1 Axes>"
      ]
     },
     "metadata": {
      "needs_background": "light"
     },
     "output_type": "display_data"
    }
   ],
   "source": [
    "from matplotlib import gridspec\n",
    "plt.figure(figsize=(20, 12))\n",
    "gs = gridspec.GridSpec(2,2)\n",
    "\n",
    "\n",
    "ax1 = plt.subplot(gs[0,0])\n",
    "\n",
    "add_fill_lines(ax1, range(epochs), np.array(acc1s), plot_kwargs = {\"label\": \"0.1 class 1\"})\n",
    "add_fill_lines(ax1, range(epochs), np.array(acc2s), plot_kwargs = {\"label\": \"0.2 class 1\"})\n",
    "add_fill_lines(ax1, range(epochs), np.array(acc3s), plot_kwargs = {\"label\": \"0.3 class 1\"})\n",
    "add_fill_lines(ax1, range(epochs), np.array(acc4s), plot_kwargs = {\"label\": \"0.4 class 1\"})\n",
    "add_fill_lines(ax1, range(epochs), np.array(acc5s), plot_kwargs = {\"label\": \"0.5 class 1\"})\n",
    "plt.legend()\n",
    "plt.title(\"Online convergence\")\n",
    "plt.ylabel(\"Accuracy\")\n",
    "plt.xlabel(\"Epoch\")\n",
    "plt.xlim(1,epochs)\n",
    "plt.grid()\n",
    "plt.show()"
   ]
  },
  {
   "cell_type": "code",
   "execution_count": null,
   "metadata": {},
   "outputs": [],
   "source": [
    "# plt.scatter(w.T@class_1,np.zeros((w.T@class_1).shape),s=5)\n",
    "# plt.scatter(w.T@class_2,np.zeros((w.T@class_2).shape),s=5)\n",
    "# plt.grid()\n",
    "# plt.show()"
   ]
  },
  {
   "cell_type": "code",
   "execution_count": null,
   "metadata": {},
   "outputs": [],
   "source": []
  }
 ],
 "metadata": {
  "kernelspec": {
   "display_name": "Python 3 (ipykernel)",
   "language": "python",
   "name": "python3"
  },
  "language_info": {
   "codemirror_mode": {
    "name": "ipython",
    "version": 3
   },
   "file_extension": ".py",
   "mimetype": "text/x-python",
   "name": "python",
   "nbconvert_exporter": "python",
   "pygments_lexer": "ipython3",
   "version": "3.9.6"
  }
 },
 "nbformat": 4,
 "nbformat_minor": 4
}
