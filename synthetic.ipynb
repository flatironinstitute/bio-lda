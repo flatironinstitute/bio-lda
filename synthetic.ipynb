{
 "cells": [
  {
   "cell_type": "code",
   "execution_count": 1,
   "metadata": {},
   "outputs": [],
   "source": [
    "import numpy as np\n",
    "import matplotlib.pyplot as plt"
   ]
  },
  {
   "cell_type": "markdown",
   "metadata": {},
   "source": [
    "# Load dataset"
   ]
  },
  {
   "cell_type": "code",
   "execution_count": 2,
   "metadata": {},
   "outputs": [],
   "source": [
    "X1, y1 = np.load(f'datasets/synthetic_0.1_class1/features.npy'), np.load(f'datasets/synthetic_0.1_class1/labels.npy')\n",
    "X2, y2 = np.load(f'datasets/synthetic_0.2_class1/features.npy'), np.load(f'datasets/synthetic_0.2_class1/labels.npy')\n",
    "X3, y3 = np.load(f'datasets/synthetic_0.3_class1/features.npy'), np.load(f'datasets/synthetic_0.3_class1/labels.npy')\n",
    "X4, y4 = np.load(f'datasets/synthetic_0.4_class1/features.npy'), np.load(f'datasets/synthetic_0.4_class1/labels.npy')\n",
    "X5, y5 = np.load(f'datasets/synthetic_0.5_class1/features.npy'), np.load(f'datasets/synthetic_0.5_class1/labels.npy')"
   ]
  },
  {
   "cell_type": "code",
   "execution_count": 3,
   "metadata": {},
   "outputs": [],
   "source": [
    "x_dim, samples = X1.shape"
   ]
  },
  {
   "cell_type": "code",
   "execution_count": 4,
   "metadata": {},
   "outputs": [],
   "source": [
    "X = np.zeros((5,x_dim,samples)); y = np.zeros((5,samples))\n",
    "\n",
    "X[0], X[1], X[2], X[3], X[4] = X1, X2, X3, X4, X5\n",
    "y[0], y[1], y[2], y[3], y[4] = y1, y2, y3, y4, y5"
   ]
  },
  {
   "cell_type": "markdown",
   "metadata": {},
   "source": [
    "# Optimal solution"
   ]
  },
  {
   "cell_type": "code",
   "execution_count": 5,
   "metadata": {},
   "outputs": [],
   "source": [
    "# calculate class means \n",
    "\n",
    "mu0 = 0\n",
    "mu1 = 0\n",
    "samples_1 = np.sum(y[4])\n",
    "samples_0 = samples - samples_1\n",
    "\n",
    "for t in range(samples):\n",
    "    if y[4,t] == 0:\n",
    "        mu0 += X[4,:,t]\n",
    "    elif y[4,t] == 1:\n",
    "        mu1 += X[4,:,t]\n",
    "\n",
    "mu0 /= samples_0\n",
    "mu1 /= samples_1\n",
    "\n",
    "# calculate sample variance\n",
    "\n",
    "cov = 0\n",
    "\n",
    "for t in range(samples):\n",
    "    if y[4,t] == 0:\n",
    "        cov += np.outer(X[4,:,t]-mu0,X[4,:,t]-mu0)\n",
    "\n",
    "cov /= samples_0"
   ]
  },
  {
   "cell_type": "code",
   "execution_count": 6,
   "metadata": {},
   "outputs": [],
   "source": [
    "w_opt = np.linalg.inv(cov)@(mu0-mu1)\n",
    "w_opt_norm = np.linalg.norm(w_opt)\n",
    "bias_opt = .5*np.inner(w_opt,mu0+mu1)"
   ]
  },
  {
   "cell_type": "markdown",
   "metadata": {},
   "source": [
    "# Bio-LDA"
   ]
  },
  {
   "cell_type": "code",
   "execution_count": 7,
   "metadata": {},
   "outputs": [],
   "source": [
    "trials = 10; epochs = 1; iters = epochs*samples; eta0 = 1e-1; decay = 1e-3"
   ]
  },
  {
   "cell_type": "code",
   "execution_count": 8,
   "metadata": {},
   "outputs": [],
   "source": [
    "nonnegative = False; ell_off = False"
   ]
  },
  {
   "cell_type": "code",
   "execution_count": 9,
   "metadata": {},
   "outputs": [
    {
     "name": "stdout",
     "output_type": "stream",
     "text": [
      "p = 0.1\n",
      "Trial 1:\n",
      "Trial 2:\n",
      "Trial 3:\n",
      "Trial 4:\n",
      "Trial 5:\n",
      "Trial 6:\n",
      "Trial 7:\n",
      "Trial 8:\n",
      "Trial 9:\n",
      "Trial 10:\n",
      "p = 0.2\n",
      "Trial 1:\n",
      "Trial 2:\n",
      "Trial 3:\n",
      "Trial 4:\n",
      "Trial 5:\n",
      "Trial 6:\n",
      "Trial 7:\n",
      "Trial 8:\n",
      "Trial 9:\n",
      "Trial 10:\n",
      "p = 0.3\n",
      "Trial 1:\n",
      "Trial 2:\n",
      "Trial 3:\n",
      "Trial 4:\n",
      "Trial 5:\n",
      "Trial 6:\n",
      "Trial 7:\n",
      "Trial 8:\n",
      "Trial 9:\n",
      "Trial 10:\n",
      "p = 0.4\n",
      "Trial 1:\n",
      "Trial 2:\n",
      "Trial 3:\n",
      "Trial 4:\n",
      "Trial 5:\n",
      "Trial 6:\n",
      "Trial 7:\n",
      "Trial 8:\n",
      "Trial 9:\n",
      "Trial 10:\n",
      "p = 0.5\n",
      "Trial 1:\n",
      "Trial 2:\n",
      "Trial 3:\n",
      "Trial 4:\n",
      "Trial 5:\n",
      "Trial 6:\n",
      "Trial 7:\n",
      "Trial 8:\n",
      "Trial 9:\n",
      "Trial 10:\n"
     ]
    }
   ],
   "source": [
    "error = np.zeros((5,trials,iters))\n",
    "accuracy = np.zeros((5,trials,iters))\n",
    "\n",
    "for p in range(5):\n",
    "\n",
    "    print(f'p = {(p+1)/10}')\n",
    "\n",
    "    for trial in range(trials):\n",
    "\n",
    "        print(f'Trial {trial+1}:')\n",
    "\n",
    "        w = np.random.randn(x_dim); sample_mu0 = 0; zeta = 0; sample_bias = 0; l = 1\n",
    "\n",
    "        for epoch in range(epochs):\n",
    "\n",
    "            idx = np.random.permutation(samples)\n",
    "\n",
    "            for t in range(samples):\n",
    "\n",
    "                iter = epoch*samples + t\n",
    "\n",
    "                x, class_label = X[p,:,idx[t]], y[p,idx[t]]\n",
    "\n",
    "                c = np.inner(w,x)\n",
    "\n",
    "                step = eta0/(1+decay*iter)\n",
    "\n",
    "                if class_label==0:\n",
    "\n",
    "                    sample_mu0 += (x-sample_mu0)/1000\n",
    "                    sample_bias += (c/2-sample_bias)/1000\n",
    "                    zeta += (c-zeta)/1000\n",
    "\n",
    "                    w += step*(sample_mu0-(c-zeta)*(x-sample_mu0))\n",
    "\n",
    "                    l += 1\n",
    "\n",
    "                elif class_label==1:\n",
    "\n",
    "                    sample_bias += (l*c/2-np.log(l)-sample_bias)/1000\n",
    "                    w += step*(-l*x)\n",
    "                    l = 1\n",
    "\n",
    "                if nonnegative==True: w = np.maximum(w,0)\n",
    "\n",
    "                z = c-sample_bias\n",
    "\n",
    "                error[p,trial,iter] = np.linalg.norm(w/np.linalg.norm(w)-w_opt/w_opt_norm)\n",
    "                accuracy[p,trial,iter] = np.abs((np.sign(z)+1)/2 - class_label)"
   ]
  },
  {
   "cell_type": "code",
   "execution_count": 10,
   "metadata": {},
   "outputs": [],
   "source": [
    "mean_accuracy = np.zeros((5,trials,iters))\n",
    "\n",
    "for p in range(5):\n",
    "\n",
    "    for trial in range(trials):\n",
    "\n",
    "        for iter in range(iters):\n",
    "\n",
    "            if iter<1000:\n",
    "                mean_accuracy[p,trial,iter] = np.sum(accuracy[p,trial,0:iter])/max(iter,1)\n",
    "            \n",
    "            elif iter>=1000:\n",
    "                mean_accuracy[p,trial,iter] = np.sum(accuracy[p,trial,iter-1000:iter])/1000"
   ]
  },
  {
   "cell_type": "code",
   "execution_count": 13,
   "metadata": {},
   "outputs": [
    {
     "data": {
      "image/png": "[encoded data removed]",
      "text/plain": [
       "<Figure size 432x432 with 1 Axes>"
      ]
     },
     "metadata": {
      "needs_background": "light"
     },
     "output_type": "display_data"
    }
   ],
   "source": [
    "fs = 18\n",
    "\n",
    "t = np.linspace(1,iters,iters)\n",
    "\n",
    "fig = plt.figure(figsize=(6,6))\n",
    "\n",
    "plt.semilogx(t,mean_accuracy[0].mean(axis=0))\n",
    "plt.fill_between(t,np.amin(mean_accuracy[0],axis=0),np.amax(mean_accuracy[0],axis=0),alpha=.1)\n",
    "plt.semilogx(t,mean_accuracy[1].mean(axis=0))\n",
    "plt.fill_between(t,np.amin(mean_accuracy[1],axis=0),np.amax(mean_accuracy[1],axis=0),alpha=.1)\n",
    "plt.semilogx(t,mean_accuracy[2].mean(axis=0))\n",
    "plt.fill_between(t,np.amin(mean_accuracy[2],axis=0),np.amax(mean_accuracy[2],axis=0),alpha=.1)\n",
    "plt.semilogx(t,mean_accuracy[3].mean(axis=0))\n",
    "plt.fill_between(t,np.amin(mean_accuracy[3],axis=0),np.amax(mean_accuracy[3],axis=0),alpha=.1)\n",
    "plt.semilogx(t,mean_accuracy[4].mean(axis=0))\n",
    "plt.fill_between(t,np.amin(mean_accuracy[4],axis=0),np.amax(mean_accuracy[4],axis=0),alpha=.1)\n",
    "plt.axhline(y=1,c='black',ls='--')\n",
    "plt.xlim(1e2,iters)\n",
    "plt.xlabel('Iterate',fontsize=fs)\n",
    "plt.ylabel('Accuracy',fontsize=fs)\n",
    "plt.grid()\n",
    "\n",
    "plt.show()"
   ]
  }
 ],
 "metadata": {
  "interpreter": {
   "hash": "9549986701f06bd3cad30c7eba492703439436e34322bc88a3e6c04d9ddaced7"
  },
  "kernelspec": {
   "display_name": "Python 3.8.3 ('base')",
   "language": "python",
   "name": "python3"
  },
  "language_info": {
   "codemirror_mode": {
    "name": "ipython",
    "version": 3
   },
   "file_extension": ".py",
   "mimetype": "text/x-python",
   "name": "python",
   "nbconvert_exporter": "python",
   "pygments_lexer": "ipython3",
   "version": "3.8.3"
  }
 },
 "nbformat": 4,
 "nbformat_minor": 4
}
