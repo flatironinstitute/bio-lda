{
 "cells": [
  {
   "cell_type": "code",
   "execution_count": 1,
   "metadata": {},
   "outputs": [],
   "source": [
    "import numpy as np\n",
    "import matplotlib.pyplot as plt\n",
    "import time\n",
    "from tqdm import tqdm\n",
    "from numba import jit"
   ]
  },
  {
   "cell_type": "code",
   "execution_count": 2,
   "metadata": {},
   "outputs": [],
   "source": [
    "x_dim = 2 # dimension of observations\n",
    "num_MBONS = 1\n",
    "freqs = [0.5, 0.5]\n",
    "mus = []\n",
    "\n",
    "for i in range(num_MBONS+1):\n",
    "    mus.append(5*np.random.randn(x_dim,1))\n",
    "    \n",
    "sig = np.random.randn(x_dim,x_dim)/np.sqrt(x_dim)\n",
    "Sigma = sig@sig.T\n",
    "samples = 1000 # number of data points"
   ]
  },
  {
   "cell_type": "code",
   "execution_count": 3,
   "metadata": {},
   "outputs": [],
   "source": [
    "mus = [np.array([[10],[0]]), np.array([[0],[10]])]"
   ]
  },
  {
   "cell_type": "code",
   "execution_count": 4,
   "metadata": {},
   "outputs": [],
   "source": [
    "classes = []\n",
    "for i in range(num_MBONS+1):\n",
    "    classes.append(mus[i] + np.random.randn(x_dim,int(samples*freqs[i])))"
   ]
  },
  {
   "cell_type": "code",
   "execution_count": 5,
   "metadata": {},
   "outputs": [
    {
     "data": {
      "image/png": "[encoded data removed]",
      "text/plain": [
       "<Figure size 432x288 with 1 Axes>"
      ]
     },
     "metadata": {
      "needs_background": "light"
     },
     "output_type": "display_data"
    }
   ],
   "source": [
    "X = np.concatenate(classes, axis=1)\n",
    "plt.scatter(X[0],X[1],s=1)\n",
    "plt.show()"
   ]
  },
  {
   "cell_type": "markdown",
   "metadata": {},
   "source": [
    "## Hard Clustering"
   ]
  },
  {
   "cell_type": "code",
   "execution_count": 7,
   "metadata": {},
   "outputs": [
    {
     "name": "stderr",
     "output_type": "stream",
     "text": [
      "100%|██████████| 1000/1000 [00:40<00:00, 24.44it/s]"
     ]
    },
    {
     "name": "stdout",
     "output_type": "stream",
     "text": [
      "Cluster 1 mean: [10.0076029 -0.0404493]\n",
      "Cluster 2 mean: [0.03538942 9.87316883]\n"
     ]
    },
    {
     "name": "stderr",
     "output_type": "stream",
     "text": [
      "\n"
     ]
    }
   ],
   "source": [
    "num_clusters = 2\n",
    "W = np.random.randn(num_clusters,x_dim)\n",
    "theta = np.zeros((num_clusters,1))\n",
    "n = np.ones((num_clusters,1))\n",
    "Y = np.zeros((num_clusters,samples))\n",
    "eta = .1\n",
    "rho = 5\n",
    "idx = np.random.permutation(samples)\n",
    "neural = True\n",
    "for t in tqdm(range(samples)):\n",
    "    \n",
    "    #Initializing Variables\n",
    "\n",
    "    x = X[:,idx[t]].reshape((x_dim,1))\n",
    "\n",
    "    a = -W@x + theta\n",
    "    y = np.zeros((num_clusters,1))\n",
    "    z = 0\n",
    "\n",
    "    if neural: ## Neural Step 3\n",
    "        \n",
    "        er  = 1\n",
    "        itr = 1\n",
    "        \n",
    "        # Iterate until convergence\n",
    "        while er > 1e-7:\n",
    "        \n",
    "            z_prev = z\n",
    "            y_prev = y\n",
    "            \n",
    "            # Update y and z\n",
    "            y = np.maximum( 0, y + (eta)*( -a - z - rho*(np.sum(y) - 1) ) );\n",
    "            z += eta*( np.sum(y) - 1 )\n",
    "            \n",
    "            er = max(np.linalg.norm(z_prev-z)/(np.linalg.norm(z_prev)+1e-4),\n",
    "                     np.linalg.norm(y_prev-y)/(np.linalg.norm(y_prev)+1e-4))\n",
    "            itr += 1\n",
    "        \n",
    "    else: ## Non=Neural Step 3\n",
    "        c = np.argmin(a)\n",
    "        y[c] = 1\n",
    "        z = -a[c]\n",
    "\n",
    "    #Step 4\n",
    "    \n",
    "    n += y\n",
    "\n",
    "    for i in range(num_clusters):\n",
    "        for j in range(x_dim):\n",
    "            W[i,j] += y[i]*(2*x[j] - W[i,j])/n[i]\n",
    "\n",
    "        theta[i] += y[i]*(z - theta[i])/n[i]\n",
    "\n",
    "    for j in range(num_clusters):\n",
    "        Y[j,idx[t]] = y[j]\n",
    "\n",
    "print(f'Cluster 1 mean: {W[0,:]/2}')\n",
    "print(f'Cluster 2 mean: {W[1,:]/2}')"
   ]
  },
  {
   "cell_type": "markdown",
   "metadata": {},
   "source": [
    "## Soft Clustering"
   ]
  },
  {
   "cell_type": "code",
   "execution_count": 9,
   "metadata": {},
   "outputs": [
    {
     "name": "stderr",
     "output_type": "stream",
     "text": [
      "100%|██████████| 1000/1000 [00:23<00:00, 42.96it/s]"
     ]
    },
    {
     "name": "stdout",
     "output_type": "stream",
     "text": [
      "Cluster 1 mean: [-0.74941715 -0.28088624]\n",
      "Cluster 2 mean: [10.00929769 -0.0351114 ]\n"
     ]
    },
    {
     "name": "stderr",
     "output_type": "stream",
     "text": [
      "\n"
     ]
    }
   ],
   "source": [
    "num_clusters = 2\n",
    "W = np.random.randn(num_clusters,x_dim)\n",
    "theta = np.zeros((num_clusters,1))\n",
    "n = np.ones((num_clusters,1))\n",
    "Y = np.zeros((num_clusters,samples))\n",
    "eta = .1\n",
    "rho = 5\n",
    "idx = np.random.permutation(samples)\n",
    "neural = True\n",
    "alpha = 10**-2.5\n",
    "for t in tqdm(range(samples)):\n",
    "    \n",
    "    #Initializing Variables\n",
    "    x = X[:,idx[t]].reshape((x_dim,1))\n",
    "\n",
    "    a = -W@x + theta\n",
    "    y = np.zeros((num_clusters,1))\n",
    "    z = 0\n",
    "\n",
    "    if neural: ## Neural Step 3\n",
    "        \n",
    "        er  = 1\n",
    "        itr = 1\n",
    "        \n",
    "        # Iterate until convergence\n",
    "        while er > 1e-7:\n",
    "        \n",
    "            z_prev = z\n",
    "            y_prev = y\n",
    "            \n",
    "            # Update y and z\n",
    "            \n",
    "            y = np.maximum( 0, y + (eta)*(-alpha*t*y/n -a - z - rho*np.maximum(0,np.sum(y) - 1)) );\n",
    "            z += eta*np.maximum(0,np.sum(y) - 1)\n",
    "            \n",
    "            \n",
    "            er = max(np.linalg.norm(z_prev-z)/(np.linalg.norm(z_prev)+1e-4),\n",
    "                     np.linalg.norm(y_prev-y)/(np.linalg.norm(y_prev)+1e-4))\n",
    "            itr += 1\n",
    "        \n",
    "    else: ## Non-Neural Step 3\n",
    "        c = np.argmin(a)\n",
    "        y[c] = 1\n",
    "        z = -a[c]\n",
    "    \n",
    "    ## Step 4\n",
    "    n += y\n",
    "\n",
    "    for i in range(num_clusters):\n",
    "        for j in range(x_dim):\n",
    "            W[i,j] += y[i]*(2*x[j] - W[i,j])/n[i]\n",
    "\n",
    "        theta[i] += y[i]*(z - theta[i])/n[i]\n",
    "\n",
    "    for j in range(num_clusters):\n",
    "        Y[j,idx[t]] = y[j]\n",
    "\n",
    "print(f'Cluster 1 mean: {W[0,:]/2}')\n",
    "print(f'Cluster 2 mean: {W[1,:]/2}')"
   ]
  },
  {
   "cell_type": "code",
   "execution_count": null,
   "metadata": {},
   "outputs": [],
   "source": []
  }
 ],
 "metadata": {
  "kernelspec": {
   "display_name": "Python 3",
   "language": "python",
   "name": "python3"
  },
  "language_info": {
   "codemirror_mode": {
    "name": "ipython",
    "version": 3
   },
   "file_extension": ".py",
   "mimetype": "text/x-python",
   "name": "python",
   "nbconvert_exporter": "python",
   "pygments_lexer": "ipython3",
   "version": "3.7.0"
  }
 },
 "nbformat": 4,
 "nbformat_minor": 4
}
