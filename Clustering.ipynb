{
 "cells": [
  {
   "cell_type": "code",
   "execution_count": 116,
   "metadata": {},
   "outputs": [],
   "source": [
    "import numpy as np\n",
    "import matplotlib.pyplot as plt\n",
    "import time\n",
    "from tqdm import tqdm\n",
    "from numba import jit"
   ]
  },
  {
   "cell_type": "code",
   "execution_count": 535,
   "metadata": {},
   "outputs": [],
   "source": [
    "x_dim = 2 # dimension of observations\n",
    "num_clusters = 10\n",
    "mus = []\n",
    "\n",
    "sig = np.random.randn(x_dim,x_dim)/np.sqrt(x_dim)\n",
    "Sigma = sig@sig.T\n",
    "\n",
    "for i in range(num_clusters):\n",
    "    mus.append(100*np.random.randn(x_dim,1))\n",
    "    \n",
    "per_class_sample = 1000 # number of data points\n",
    "samples = per_class_sample * num_clusters"
   ]
  },
  {
   "cell_type": "code",
   "execution_count": 536,
   "metadata": {},
   "outputs": [],
   "source": [
    "classes = []\n",
    "for i in range(num_clusters):\n",
    "    classes.append(mus[i] + np.random.randn(x_dim,int(per_class_sample)))"
   ]
  },
  {
   "cell_type": "code",
   "execution_count": 537,
   "metadata": {},
   "outputs": [
    {
     "data": {
      "image/png": "[encoded data removed]",
      "text/plain": [
       "<Figure size 432x288 with 1 Axes>"
      ]
     },
     "metadata": {
      "needs_background": "light"
     },
     "output_type": "display_data"
    }
   ],
   "source": [
    "X = np.concatenate(classes, axis=1)\n",
    "plt.scatter(X[0],X[1],s=1)\n",
    "plt.show()"
   ]
  },
  {
   "cell_type": "code",
   "execution_count": 538,
   "metadata": {},
   "outputs": [],
   "source": [
    "Z = np.zeros((2,samples))\n",
    "Z[0, per_class_sample:] = 1\n",
    "Z[1, 0:per_class_sample] = 1"
   ]
  },
  {
   "cell_type": "code",
   "execution_count": 539,
   "metadata": {},
   "outputs": [
    {
     "data": {
      "image/png": "[encoded data removed]",
      "text/plain": [
       "<Figure size 432x288 with 1 Axes>"
      ]
     },
     "metadata": {
      "needs_background": "light"
     },
     "output_type": "display_data"
    }
   ],
   "source": [
    "X = np.concatenate(classes, axis=1)\n",
    "plt.scatter(X[0],X[1],c=Z[1])\n",
    "plt.show()"
   ]
  },
  {
   "cell_type": "markdown",
   "metadata": {},
   "source": [
    "## Hard Clustering"
   ]
  },
  {
   "cell_type": "code",
   "execution_count": 542,
   "metadata": {},
   "outputs": [
    {
     "name": "stderr",
     "output_type": "stream",
     "text": [
      "100%|██████████| 10000/10000 [03:08<00:00, 52.93it/s]"
     ]
    },
    {
     "name": "stdout",
     "output_type": "stream",
     "text": [
      "Cluster 1 mean: [-0.00345196  0.67027057]\n",
      "Cluster 2 mean: [-1.5457548 55.3445788]\n",
      "Cluster 3 mean: [ 0.17626924 -0.48502104]\n",
      "Cluster 4 mean: [-1.22718155 -0.10670291]\n",
      "Cluster 5 mean: [-0.00085069  0.07000347]\n",
      "Cluster 6 mean: [0.52132347 0.36993722]\n",
      "Cluster 7 mean: [0.14199218 0.30143891]\n",
      "Cluster 8 mean: [-0.68675685  0.13435281]\n",
      "Cluster 9 mean: [ 0.86817511 -0.23379435]\n",
      "Cluster 10 mean: [1.11383428 0.69902523]\n"
     ]
    },
    {
     "name": "stderr",
     "output_type": "stream",
     "text": [
      "\n"
     ]
    }
   ],
   "source": [
    "W = np.random.randn(num_clusters,x_dim)\n",
    "theta = np.zeros((num_clusters,1))\n",
    "n = np.ones((num_clusters,1))\n",
    "Y = np.zeros((num_clusters,samples))\n",
    "eta = .01\n",
    "rho = .5\n",
    "#idx = np.random.permutation(samples)\n",
    "\n",
    "#s = np.empty(idx.size, dtype=np.int32)\n",
    "#for i in np.arange(idx.size):\n",
    "#    s[idx[i]] = i\n",
    "    \n",
    "    \n",
    "#X = X[:, idx]\n",
    "#Z = Z[:, idx]\n",
    "neural = True\n",
    "\n",
    "def cluster(x, W, theta, n):\n",
    "    #Initializing Variables\n",
    "\n",
    "    \n",
    "\n",
    "    a = -W@x + theta\n",
    "    y = np.zeros((num_clusters,1))\n",
    "    z = np.zeros(1)\n",
    "\n",
    "    if neural: ## Neural Step 3\n",
    "\n",
    "        er  = 1\n",
    "        itr = 1\n",
    "\n",
    "        # Iterate until convergence\n",
    "        while er > 1e-7:\n",
    "\n",
    "            z_prev = z\n",
    "            y_prev = y\n",
    "\n",
    "        \n",
    "            \n",
    "            # Update y and z\n",
    "            y = np.maximum( 0, y + (eta)*( -a - z - rho*(np.sum(y, axis=0) - 1) ) );\n",
    "            z += eta*( np.sum(y, axis=0) - 1 )\n",
    "            \n",
    "\n",
    "            er = max(np.linalg.norm(z_prev-z)/(np.linalg.norm(z_prev)+1e-4),\n",
    "                     np.linalg.norm(y_prev-y)/(np.linalg.norm(y_prev)+1e-4))\n",
    "            itr += 1\n",
    "\n",
    "    else: ## Non=Neural Step 3\n",
    "        c = np.argmin(a)\n",
    "        y[c] = 1\n",
    "        z = -a[c]\n",
    "\n",
    "    #Step 4\n",
    "\n",
    "    n += y\n",
    "\n",
    "    for i in range(num_clusters):\n",
    "        for j in range(x_dim):\n",
    "            W[i,j] += y[i]*(2*x[j] - W[i,j])/n[i]\n",
    "\n",
    "        theta[i] += y[i]*(z - theta[i])/n[i]\n",
    "\n",
    "    for j in range(num_clusters):\n",
    "        Y[j,t] = y[j]\n",
    "    \n",
    "\n",
    "for t in tqdm(range(samples)):\n",
    "    x = X[:,t].reshape((x_dim,1))\n",
    "    cluster(x, W, theta, n)\n",
    "\n",
    "for i in range(num_clusters):\n",
    "    print(f'Cluster {i+1} mean: {W[i,:]/2}')"
   ]
  },
  {
   "cell_type": "markdown",
   "metadata": {},
   "source": [
    "## Calculate Means and Sigma"
   ]
  },
  {
   "cell_type": "code",
   "execution_count": 529,
   "metadata": {},
   "outputs": [],
   "source": [
    "mu_1 = np.sum(Y[:,per_class_sample:], axis=1)/((num_clusters-1)*per_class_sample)\n",
    "mu_2 = np.sum(Y[:,:per_class_sample], axis=1)/per_class_sample\n",
    "Sigma = np.eye(num_clusters)"
   ]
  },
  {
   "cell_type": "code",
   "execution_count": 530,
   "metadata": {},
   "outputs": [],
   "source": [
    "#e = np.zeros((num_clusters, num_clusters))\n",
    "#for i in range(num_clusters):\n",
    "#    e[i,i] = 1"
   ]
  },
  {
   "cell_type": "code",
   "execution_count": 531,
   "metadata": {},
   "outputs": [],
   "source": [
    "#mu_1 = np.sum([e[i]*per_class_sample for i in range(1,num_clusters)], axis=0)/((num_clusters-1)*per_class_sample)\n",
    "#mu_2 = e[0]\n",
    "#Sigma = np.eye(num_clusters)"
   ]
  },
  {
   "cell_type": "code",
   "execution_count": 532,
   "metadata": {},
   "outputs": [
    {
     "name": "stderr",
     "output_type": "stream",
     "text": [
      "/Users/aneeshkashalikar/.pyenv/versions/3.7.0/lib/python3.7/site-packages/ipykernel_launcher.py:2: RuntimeWarning: invalid value encountered in true_divide\n",
      "  \n"
     ]
    }
   ],
   "source": [
    "w_opt = np.linalg.inv(Sigma)@(mu_1-mu_2)\n",
    "w_opt = w_opt/np.sqrt(w_opt.T@Sigma@w_opt)"
   ]
  },
  {
   "cell_type": "code",
   "execution_count": 533,
   "metadata": {},
   "outputs": [],
   "source": [
    "obj_opt = (w_opt.T@(mu_1-mu_2))**2"
   ]
  },
  {
   "cell_type": "code",
   "execution_count": 534,
   "metadata": {},
   "outputs": [
    {
     "data": {
      "image/png": "[encoded data removed]",
      "text/plain": [
       "<Figure size 432x288 with 1 Axes>"
      ]
     },
     "metadata": {
      "needs_background": "light"
     },
     "output_type": "display_data"
    }
   ],
   "source": [
    "plt.scatter(w_opt.T@Y[:,per_class_sample:],np.zeros((w_opt.T@Y[:,per_class_sample:]).shape),s=10)\n",
    "plt.scatter(w_opt.T@Y[:,0:per_class_sample],np.zeros((w_opt.T@Y[:,0:per_class_sample]).shape),s=10)\n",
    "\n",
    "plt.grid()\n",
    "plt.show()"
   ]
  },
  {
   "cell_type": "code",
   "execution_count": 495,
   "metadata": {},
   "outputs": [],
   "source": [
    "@jit(nopython=True)\n",
    "def eta(t):\n",
    "    return 1e-4/(1+1e-4*t)\n",
    "\n",
    "gam = 100; epochs = 30; iters = epochs*samples"
   ]
  },
  {
   "cell_type": "code",
   "execution_count": 496,
   "metadata": {},
   "outputs": [
    {
     "name": "stderr",
     "output_type": "stream",
     "text": [
      "  0%|          | 0/30 [00:00<?, ?it/s]<ipython-input-496-aa9a5846745a>:3: NumbaPerformanceWarning: '@' is faster on contiguous arrays, called on (array(float64, 1d, C), array(float64, 1d, A))\n",
      "  z = w.T@x - zeta\n",
      "/Users/aneeshkashalikar/.pyenv/versions/3.7.0/lib/python3.7/site-packages/numba/core/typing/npydecl.py:933: NumbaPerformanceWarning: '@' is faster on contiguous arrays, called on (array(float64, 1d, C), array(float64, 1d, A))\n",
      "  warnings.warn(NumbaPerformanceWarning(msg))\n",
      "<ipython-input-496-aa9a5846745a>:3: NumbaPerformanceWarning: '@' is faster on contiguous arrays, called on (array(float64, 1d, C), array(float64, 1d, A))\n",
      "  z = w.T@x - zeta\n",
      "/Users/aneeshkashalikar/.pyenv/versions/3.7.0/lib/python3.7/site-packages/numba/core/typing/npydecl.py:933: NumbaPerformanceWarning: '@' is faster on contiguous arrays, called on (array(float64, 1d, C), array(float64, 1d, A))\n",
      "  warnings.warn(NumbaPerformanceWarning(msg))\n",
      "100%|██████████| 30/30 [00:26<00:00,  1.19it/s]\n"
     ]
    }
   ],
   "source": [
    "@jit(nopython=True)\n",
    "def fit_bio(w, l, mu, x, y, zeta, l_, t):\n",
    "    z = w.T@x - zeta\n",
    "    \n",
    "    step = eta(t)\n",
    "    \n",
    "    if y[1] == 0:\n",
    "        mu += (x - mu)/t\n",
    "        zeta += z/t\n",
    "        w += step*(mu - l*z*(x-mu))\n",
    "        l += gam*step*(z**2 - 1)\n",
    "        l_ += 1\n",
    "        \n",
    "    else:\n",
    "        w -= step*l_*x\n",
    "        l_ = 1\n",
    "        \n",
    "        \n",
    "    return w, l, mu, x, y, zeta, l_\n",
    "\n",
    "def run_bio(X, Y):\n",
    "    \n",
    "    w = np.random.randn(num_clusters)/np.sqrt(num_clusters)\n",
    "    l = 1\n",
    "    zeta = 0\n",
    "    l_ = 1\n",
    "    \n",
    "    mu = np.zeros(num_clusters)\n",
    "\n",
    "    for i_epoch in tqdm(range(epochs)):\n",
    "\n",
    "        idx = np.random.permutation(samples)\n",
    "\n",
    "        for i_sample in range(samples):\n",
    "\n",
    "            i_iter = i_epoch*samples + i_sample\n",
    "\n",
    "            t = i_iter + 1\n",
    "\n",
    "            x = X[:,idx[i_sample]]\n",
    "            y = Y[:,idx[i_sample]]\n",
    "\n",
    "            w, l, mu, x, y, zeta, l_ = fit_bio(w, l, mu, x, y, zeta, l_, t)\n",
    "            \n",
    "            obj[i_iter] = (w.T@(mu_1-mu_2))**2/(w.T@Sigma@w)\n",
    "            err[i_iter] = abs(obj_opt - obj[i_iter])/obj_opt\n",
    "        \n",
    "        #print(f'Error: {err_approx[i_iter]}')\n",
    "    return w\n",
    "\n",
    "obj = np.zeros(iters)\n",
    "err = np.zeros(iters)\n",
    "\n",
    "w = run_bio(Y,Z)"
   ]
  },
  {
   "cell_type": "code",
   "execution_count": 497,
   "metadata": {},
   "outputs": [
    {
     "data": {
      "image/png": "[encoded data removed]",
      "text/plain": [
       "<Figure size 432x288 with 1 Axes>"
      ]
     },
     "metadata": {
      "needs_background": "light"
     },
     "output_type": "display_data"
    }
   ],
   "source": [
    "plt.loglog(range(iters), err)\n",
    "plt.ylabel(\"Error\")\n",
    "plt.xlabel(\"t\")\n",
    "plt.title(\"Offline convergence\")\n",
    "plt.show()"
   ]
  },
  {
   "cell_type": "code",
   "execution_count": 502,
   "metadata": {},
   "outputs": [
    {
     "data": {
      "text/plain": [
       "0.11032981602086392"
      ]
     },
     "execution_count": 502,
     "metadata": {},
     "output_type": "execute_result"
    }
   ],
   "source": [
    "err[-1]"
   ]
  },
  {
   "cell_type": "code",
   "execution_count": 503,
   "metadata": {},
   "outputs": [
    {
     "data": {
      "image/png": "[encoded data removed]",
      "text/plain": [
       "<Figure size 432x288 with 1 Axes>"
      ]
     },
     "metadata": {
      "needs_background": "light"
     },
     "output_type": "display_data"
    }
   ],
   "source": [
    "#Y_ = Y[:, s]\n",
    "\n",
    "plt.scatter(w.T@Y[:,per_class_sample:],np.zeros((w.T@Y[:,per_class_sample:]).shape),s=10)\n",
    "plt.scatter(w.T@Y[:,0:per_class_sample],np.zeros((w.T@Y[:,0:per_class_sample]).shape),s=10)\n",
    "\n",
    "plt.grid()\n",
    "plt.show()"
   ]
  },
  {
   "cell_type": "markdown",
   "metadata": {},
   "source": [
    "## Soft Clustering"
   ]
  },
  {
   "cell_type": "code",
   "execution_count": 18,
   "metadata": {},
   "outputs": [
    {
     "name": "stderr",
     "output_type": "stream",
     "text": [
      "100%|██████████| 1000/1000 [01:13<00:00, 10.85it/s]"
     ]
    },
    {
     "name": "stdout",
     "output_type": "stream",
     "text": [
      "Cluster 1 mean: [10.0270086  -0.03370123]\n",
      "Cluster 2 mean: [-5.59314843e-03  9.92398284e+00]\n"
     ]
    },
    {
     "name": "stderr",
     "output_type": "stream",
     "text": [
      "\n"
     ]
    }
   ],
   "source": [
    "num_clusters = 2\n",
    "W = np.random.randn(num_clusters,x_dim)\n",
    "theta = np.zeros((num_clusters,1))\n",
    "n = np.ones((num_clusters,1))\n",
    "Y = np.zeros((num_clusters,samples))\n",
    "eta = .1\n",
    "rho = 5\n",
    "idx = np.random.permutation(samples)\n",
    "neural = True\n",
    "alpha = 10**-2.5\n",
    "for t in tqdm(range(samples)):\n",
    "    \n",
    "    #Initializing Variables\n",
    "    x = X[:,idx[t]].reshape((x_dim,1))\n",
    "\n",
    "    a = -W@x + theta\n",
    "    y = np.zeros((num_clusters,1))\n",
    "    z = 0\n",
    "\n",
    "    if neural: ## Neural Step 3\n",
    "        \n",
    "        er  = 1\n",
    "        itr = 1\n",
    "        \n",
    "        # Iterate until convergence\n",
    "        while er > 1e-7:\n",
    "        \n",
    "            z_prev = z\n",
    "            y_prev = y\n",
    "            \n",
    "            # Update y and z\n",
    "            \n",
    "            y = np.maximum( 0, y + (eta)*(-alpha*t*y/n -a - z - rho*(np.sum(y) - 1)) );\n",
    "            z += eta*(np.sum(y) - 1) - 1\n",
    "            \n",
    "            \n",
    "            er = max(np.linalg.norm(z_prev-z)/(np.linalg.norm(z_prev)+1e-4),\n",
    "                     np.linalg.norm(y_prev-y)/(np.linalg.norm(y_prev)+1e-4))\n",
    "            itr += 1\n",
    "        \n",
    "    else: ## Non-Neural Step 3\n",
    "        c = np.argmin(a)\n",
    "        y[c] = 1\n",
    "        z = -a[c]\n",
    "    \n",
    "    ## Step 4\n",
    "    n += y\n",
    "\n",
    "    for i in range(num_clusters):\n",
    "        for j in range(x_dim):\n",
    "            W[i,j] += y[i]*(2*x[j] - W[i,j])/n[i]\n",
    "\n",
    "        theta[i] += y[i]*(z - theta[i])/n[i]\n",
    "\n",
    "    for j in range(num_clusters):\n",
    "        Y[j,idx[t]] = y[j]\n",
    "\n",
    "for i in range(num_clusters):\n",
    "    print(f'Cluster {i+1} mean: {W[i,:]/num_clusters}')"
   ]
  },
  {
   "cell_type": "code",
   "execution_count": null,
   "metadata": {},
   "outputs": [],
   "source": []
  }
 ],
 "metadata": {
  "kernelspec": {
   "display_name": "Python 3",
   "language": "python",
   "name": "python3"
  },
  "language_info": {
   "codemirror_mode": {
    "name": "ipython",
    "version": 3
   },
   "file_extension": ".py",
   "mimetype": "text/x-python",
   "name": "python",
   "nbconvert_exporter": "python",
   "pygments_lexer": "ipython3",
   "version": "3.7.0"
  }
 },
 "nbformat": 4,
 "nbformat_minor": 4
}
