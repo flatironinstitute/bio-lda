{
 "cells": [
  {
   "cell_type": "code",
   "execution_count": 116,
   "metadata": {},
   "outputs": [],
   "source": [
    "import numpy as np\n",
    "import matplotlib.pyplot as plt\n",
    "import time\n",
    "from tqdm import tqdm\n",
    "from numba import jit"
   ]
  },
  {
   "cell_type": "code",
   "execution_count": 273,
   "metadata": {},
   "outputs": [],
   "source": [
    "x_dim = 2 # dimension of observations\n",
    "num_clusters = 10\n",
    "mus = []\n",
    "\n",
    "sig = np.random.randn(x_dim,x_dim)/np.sqrt(x_dim)\n",
    "Sigma = sig@sig.T\n",
    "\n",
    "for i in range(num_clusters):\n",
    "    mus.append(50*np.random.randn(x_dim,1))\n",
    "    \n",
    "per_class_sample = 10000 # number of data points\n",
    "samples = per_class_sample * num_clusters"
   ]
  },
  {
   "cell_type": "code",
   "execution_count": 274,
   "metadata": {},
   "outputs": [],
   "source": [
    "classes = []\n",
    "for i in range(num_clusters):\n",
    "    classes.append(mus[i] + np.random.randn(x_dim,int(per_class_sample)))"
   ]
  },
  {
   "cell_type": "code",
   "execution_count": 275,
   "metadata": {},
   "outputs": [
    {
     "data": {
      "image/png": "[encoded data removed]",
      "text/plain": [
       "<Figure size 432x288 with 1 Axes>"
      ]
     },
     "metadata": {
      "needs_background": "light"
     },
     "output_type": "display_data"
    }
   ],
   "source": [
    "X = np.concatenate(classes, axis=1)\n",
    "plt.scatter(X[0],X[1],s=1)\n",
    "plt.show()"
   ]
  },
  {
   "cell_type": "code",
   "execution_count": 276,
   "metadata": {},
   "outputs": [],
   "source": [
    "Z = np.zeros((2,samples))\n",
    "Z[0, per_class_sample:] = 1\n",
    "Z[1, 0:per_class_sample] = 1"
   ]
  },
  {
   "cell_type": "code",
   "execution_count": 277,
   "metadata": {},
   "outputs": [
    {
     "data": {
      "image/png": "[encoded data removed]",
      "text/plain": [
       "<Figure size 432x288 with 1 Axes>"
      ]
     },
     "metadata": {
      "needs_background": "light"
     },
     "output_type": "display_data"
    }
   ],
   "source": [
    "X = np.concatenate(classes, axis=1)\n",
    "plt.scatter(X[0],X[1],c=Z[1])\n",
    "plt.show()"
   ]
  },
  {
   "cell_type": "markdown",
   "metadata": {},
   "source": [
    "## Hard Clustering"
   ]
  },
  {
   "cell_type": "code",
   "execution_count": 278,
   "metadata": {},
   "outputs": [
    {
     "name": "stderr",
     "output_type": "stream",
     "text": [
      "100%|██████████| 100000/100000 [00:17<00:00, 5589.72it/s]"
     ]
    },
    {
     "name": "stdout",
     "output_type": "stream",
     "text": [
      "Cluster 1 mean: [15.34734058  5.53086399]\n",
      "Cluster 2 mean: [-51.52591668 -13.52453625]\n",
      "Cluster 3 mean: [-0.09616468  0.13961285]\n",
      "Cluster 4 mean: [ 18.67342086 -19.41547491]\n",
      "Cluster 5 mean: [-23.71221562 -80.76967924]\n",
      "Cluster 6 mean: [-0.3172748   0.01439446]\n",
      "Cluster 7 mean: [60.38507318 13.5834814 ]\n",
      "Cluster 8 mean: [-0.11675002  0.08173277]\n",
      "Cluster 9 mean: [-0.03698479 -0.21257909]\n",
      "Cluster 10 mean: [ 20.07332545 -75.68187597]\n"
     ]
    },
    {
     "name": "stderr",
     "output_type": "stream",
     "text": [
      "\n"
     ]
    }
   ],
   "source": [
    "W = np.random.randn(num_clusters,x_dim)\n",
    "theta = np.zeros((num_clusters,1))\n",
    "n = np.ones((num_clusters,1))\n",
    "Y = np.zeros((num_clusters,samples))\n",
    "eta = .01\n",
    "rho = .5\n",
    "#idx = np.random.permutation(samples)\n",
    "\n",
    "#s = np.empty(idx.size, dtype=np.int32)\n",
    "#for i in np.arange(idx.size):\n",
    "#    s[idx[i]] = i\n",
    "    \n",
    "    \n",
    "#X = X[:, idx]\n",
    "#Z = Z[:, idx]\n",
    "neural = False\n",
    "\n",
    "def cluster(x, W, theta, n):\n",
    "    #Initializing Variables\n",
    "\n",
    "    \n",
    "\n",
    "    a = -W@x + theta\n",
    "    y = np.zeros((num_clusters,1))\n",
    "    z = np.zeros(1)\n",
    "\n",
    "    if neural: ## Neural Step 3\n",
    "\n",
    "        er  = 1\n",
    "        itr = 1\n",
    "\n",
    "        # Iterate until convergence\n",
    "        while er > 1e-7:\n",
    "\n",
    "            z_prev = z\n",
    "            y_prev = y\n",
    "\n",
    "        \n",
    "            \n",
    "            # Update y and z\n",
    "            y = np.maximum( 0, y + (eta)*( -a - z - rho*(np.sum(y, axis=0) - 1) ) );\n",
    "            z += eta*( np.sum(y, axis=0) - 1 )\n",
    "            \n",
    "\n",
    "            er = max(np.linalg.norm(z_prev-z)/(np.linalg.norm(z_prev)+1e-4),\n",
    "                     np.linalg.norm(y_prev-y)/(np.linalg.norm(y_prev)+1e-4))\n",
    "            itr += 1\n",
    "\n",
    "    else: ## Non=Neural Step 3\n",
    "        c = np.argmin(a)\n",
    "        y[c] = 1\n",
    "        z = -a[c]\n",
    "\n",
    "    #Step 4\n",
    "\n",
    "    n += y\n",
    "\n",
    "    for i in range(num_clusters):\n",
    "        for j in range(x_dim):\n",
    "            W[i,j] += y[i]*(2*x[j] - W[i,j])/n[i]\n",
    "\n",
    "        theta[i] += y[i]*(z - theta[i])/n[i]\n",
    "\n",
    "    for j in range(num_clusters):\n",
    "        Y[j,t] = y[j]\n",
    "    \n",
    "\n",
    "for t in tqdm(range(samples)):\n",
    "    x = X[:,t].reshape((x_dim,1))\n",
    "    cluster(x, W, theta, n)\n",
    "\n",
    "for i in range(num_clusters):\n",
    "    print(f'Cluster {i+1} mean: {W[i,:]/2}')"
   ]
  },
  {
   "cell_type": "code",
   "execution_count": 279,
   "metadata": {},
   "outputs": [],
   "source": [
    "e = np.zeros((num_clusters, num_clusters))\n",
    "for i in range(num_clusters):\n",
    "    e[i,i] = 1"
   ]
  },
  {
   "cell_type": "code",
   "execution_count": 280,
   "metadata": {},
   "outputs": [],
   "source": [
    "mu_1 = np.sum([e[i]*per_class_sample for i in range(1,num_clusters)], axis=0)/((num_clusters-1)*per_class_sample)\n",
    "mu_2 = e[0]\n",
    "Sigma = np.eye(num_clusters)"
   ]
  },
  {
   "cell_type": "code",
   "execution_count": 281,
   "metadata": {},
   "outputs": [],
   "source": [
    "w_opt = np.linalg.inv(Sigma)@(mu_1-mu_2)\n",
    "w_opt = w_opt/np.sqrt(w_opt.T@Sigma@w_opt)"
   ]
  },
  {
   "cell_type": "code",
   "execution_count": 282,
   "metadata": {},
   "outputs": [
    {
     "data": {
      "image/png": "[encoded data removed]",
      "text/plain": [
       "<Figure size 432x288 with 1 Axes>"
      ]
     },
     "metadata": {
      "needs_background": "light"
     },
     "output_type": "display_data"
    }
   ],
   "source": [
    "plt.scatter(w_opt.T@Y[:,per_class_sample:],np.zeros((w_opt.T@Y[:,per_class_sample:]).shape),s=5)\n",
    "plt.scatter(w_opt.T@Y[:,:per_class_sample],np.zeros((w_opt.T@Y[:,:per_class_sample]).shape),s=5)\n",
    "plt.grid()\n",
    "plt.show()"
   ]
  },
  {
   "cell_type": "code",
   "execution_count": 283,
   "metadata": {},
   "outputs": [],
   "source": [
    "@jit(nopython=True)\n",
    "def eta(t):\n",
    "    return 1e-4/(1+1e-4*t)\n",
    "\n",
    "gam = 100; epochs = 20; iters = epochs*samples"
   ]
  },
  {
   "cell_type": "code",
   "execution_count": 284,
   "metadata": {},
   "outputs": [
    {
     "name": "stderr",
     "output_type": "stream",
     "text": [
      "  0%|          | 0/20 [00:00<?, ?it/s]<ipython-input-284-8dc35b573382>:3: NumbaPerformanceWarning: '@' is faster on contiguous arrays, called on (array(float64, 1d, C), array(float64, 1d, A))\n",
      "  z = w.T@x\n",
      "/Users/aneeshkashalikar/.pyenv/versions/3.7.0/lib/python3.7/site-packages/numba/core/typing/npydecl.py:933: NumbaPerformanceWarning: '@' is faster on contiguous arrays, called on (array(float64, 1d, C), array(float64, 1d, A))\n",
      "  warnings.warn(NumbaPerformanceWarning(msg))\n",
      "<ipython-input-284-8dc35b573382>:3: NumbaPerformanceWarning: '@' is faster on contiguous arrays, called on (array(float64, 1d, C), array(float64, 1d, A))\n",
      "  z = w.T@x\n",
      "/Users/aneeshkashalikar/.pyenv/versions/3.7.0/lib/python3.7/site-packages/numba/core/typing/npydecl.py:933: NumbaPerformanceWarning: '@' is faster on contiguous arrays, called on (array(float64, 1d, C), array(float64, 1d, A))\n",
      "  warnings.warn(NumbaPerformanceWarning(msg))\n",
      "100%|██████████| 20/20 [00:05<00:00,  4.30it/s]\n"
     ]
    }
   ],
   "source": [
    "@jit(nopython=True)\n",
    "def fit_sparse(w, l, mu, b, x, y, t):\n",
    "    z = w.T@x\n",
    "\n",
    "    b = max(b + (y[1]-b)/t,1e-5)\n",
    "\n",
    "    mu += (x - mu)/t\n",
    "    nu = w.T@mu\n",
    "\n",
    "    step = eta(t)\n",
    "\n",
    "    w += step*(x - l*(z-nu)*(x-mu)) - step*y[1]*x/b\n",
    "    l += gam*step*((z-nu)**2 - 1)\n",
    "    \n",
    "    return w, l, mu, b, x, y\n",
    "\n",
    "def run_sparse(X, Y):\n",
    "    \n",
    "    w = np.random.randn(num_clusters)/np.sqrt(num_clusters)\n",
    "    l = 1\n",
    "    \n",
    "    mu = np.zeros(num_clusters)\n",
    "\n",
    "    b = 0.5\n",
    "\n",
    "    for i_epoch in tqdm(range(epochs)):\n",
    "\n",
    "        idx = np.random.permutation(samples)\n",
    "\n",
    "        for i_sample in range(samples):\n",
    "\n",
    "            i_iter = i_epoch*samples + i_sample\n",
    "\n",
    "            t = i_iter + 1\n",
    "\n",
    "            x = X[:,idx[i_sample]]\n",
    "            y = Y[:,idx[i_sample]]\n",
    "            \n",
    "\n",
    "\n",
    "            w, l, mu, b, x, y = fit_sparse(w, l, mu, b, x, y, t)\n",
    "            \n",
    "            \n",
    "        \n",
    "        #print(f'Error: {err_approx[i_iter]}')\n",
    "    return w\n",
    "\n",
    "\n",
    "w = run_sparse(Y,Z)"
   ]
  },
  {
   "cell_type": "code",
   "execution_count": 285,
   "metadata": {},
   "outputs": [
    {
     "data": {
      "image/png": "[encoded data removed]",
      "text/plain": [
       "<Figure size 432x288 with 1 Axes>"
      ]
     },
     "metadata": {
      "needs_background": "light"
     },
     "output_type": "display_data"
    }
   ],
   "source": [
    "#Y_ = Y[:, s]\n",
    "\n",
    "plt.scatter(w.T@Y[:,per_class_sample:],np.zeros((w.T@Y[:,per_class_sample:]).shape),s=10)\n",
    "plt.scatter(w.T@Y[:,0:per_class_sample],np.zeros((w.T@Y[:,0:per_class_sample]).shape),s=10)\n",
    "\n",
    "plt.grid()\n",
    "plt.show()"
   ]
  },
  {
   "cell_type": "markdown",
   "metadata": {},
   "source": [
    "## Soft Clustering"
   ]
  },
  {
   "cell_type": "code",
   "execution_count": 18,
   "metadata": {},
   "outputs": [
    {
     "name": "stderr",
     "output_type": "stream",
     "text": [
      "100%|██████████| 1000/1000 [01:13<00:00, 10.85it/s]"
     ]
    },
    {
     "name": "stdout",
     "output_type": "stream",
     "text": [
      "Cluster 1 mean: [10.0270086  -0.03370123]\n",
      "Cluster 2 mean: [-5.59314843e-03  9.92398284e+00]\n"
     ]
    },
    {
     "name": "stderr",
     "output_type": "stream",
     "text": [
      "\n"
     ]
    }
   ],
   "source": [
    "num_clusters = 2\n",
    "W = np.random.randn(num_clusters,x_dim)\n",
    "theta = np.zeros((num_clusters,1))\n",
    "n = np.ones((num_clusters,1))\n",
    "Y = np.zeros((num_clusters,samples))\n",
    "eta = .1\n",
    "rho = 5\n",
    "idx = np.random.permutation(samples)\n",
    "neural = True\n",
    "alpha = 10**-2.5\n",
    "for t in tqdm(range(samples)):\n",
    "    \n",
    "    #Initializing Variables\n",
    "    x = X[:,idx[t]].reshape((x_dim,1))\n",
    "\n",
    "    a = -W@x + theta\n",
    "    y = np.zeros((num_clusters,1))\n",
    "    z = 0\n",
    "\n",
    "    if neural: ## Neural Step 3\n",
    "        \n",
    "        er  = 1\n",
    "        itr = 1\n",
    "        \n",
    "        # Iterate until convergence\n",
    "        while er > 1e-7:\n",
    "        \n",
    "            z_prev = z\n",
    "            y_prev = y\n",
    "            \n",
    "            # Update y and z\n",
    "            \n",
    "            y = np.maximum( 0, y + (eta)*(-alpha*t*y/n -a - z - rho*(np.sum(y) - 1)) );\n",
    "            z += eta*(np.sum(y) - 1) - 1\n",
    "            \n",
    "            \n",
    "            er = max(np.linalg.norm(z_prev-z)/(np.linalg.norm(z_prev)+1e-4),\n",
    "                     np.linalg.norm(y_prev-y)/(np.linalg.norm(y_prev)+1e-4))\n",
    "            itr += 1\n",
    "        \n",
    "    else: ## Non-Neural Step 3\n",
    "        c = np.argmin(a)\n",
    "        y[c] = 1\n",
    "        z = -a[c]\n",
    "    \n",
    "    ## Step 4\n",
    "    n += y\n",
    "\n",
    "    for i in range(num_clusters):\n",
    "        for j in range(x_dim):\n",
    "            W[i,j] += y[i]*(2*x[j] - W[i,j])/n[i]\n",
    "\n",
    "        theta[i] += y[i]*(z - theta[i])/n[i]\n",
    "\n",
    "    for j in range(num_clusters):\n",
    "        Y[j,idx[t]] = y[j]\n",
    "\n",
    "for i in range(num_clusters):\n",
    "    print(f'Cluster {i+1} mean: {W[i,:]/num_clusters}')"
   ]
  },
  {
   "cell_type": "code",
   "execution_count": null,
   "metadata": {},
   "outputs": [],
   "source": []
  }
 ],
 "metadata": {
  "kernelspec": {
   "display_name": "Python 3",
   "language": "python",
   "name": "python3"
  },
  "language_info": {
   "codemirror_mode": {
    "name": "ipython",
    "version": 3
   },
   "file_extension": ".py",
   "mimetype": "text/x-python",
   "name": "python",
   "nbconvert_exporter": "python",
   "pygments_lexer": "ipython3",
   "version": "3.7.0"
  }
 },
 "nbformat": 4,
 "nbformat_minor": 4
}
