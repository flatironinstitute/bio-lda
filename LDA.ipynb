{
 "cells": [
  {
   "cell_type": "code",
   "execution_count": 3,
   "metadata": {},
   "outputs": [],
   "source": [
    "import numpy as np\n",
    "import scipy\n",
    "inv = np.linalg.inv\n",
    "import matplotlib.pyplot as plt\n",
    "import sklearn"
   ]
  },
  {
   "cell_type": "code",
   "execution_count": 4,
   "metadata": {},
   "outputs": [],
   "source": [
    "def calculate_covariance_matrix(X, Y=None):\n",
    "    \"\"\" Calculate the covariance matrix for the dataset X \"\"\"\n",
    "    if Y is None:\n",
    "        Y = X\n",
    "    n_samples = np.shape(X)[0]\n",
    "    covariance_matrix = (1 / (n_samples)) * (X - X.mean(axis=0)).T.dot(Y - Y.mean(axis=0))\n",
    "\n",
    "    return np.array(covariance_matrix, dtype=float)"
   ]
  },
  {
   "cell_type": "code",
   "execution_count": 5,
   "metadata": {},
   "outputs": [],
   "source": [
    "class Offline_LDA:\n",
    "    \"\"\"\n",
    "    Parameters:\n",
    "    ====================\n",
    "    K             -- Dimension of PCA subspace to learn\n",
    "    D             -- Dimensionality of data\n",
    "    M0            -- Initial guess for the lateral weight matrix M, must be of size K-by-K\n",
    "    W0            -- Initial guess for the forward weight matrix W, must be of size K-by-D\n",
    "    learning_rate -- Learning rate as a function of t\n",
    "    tau           -- Learning rate factor for M (multiplier of the W learning rate)\n",
    "    Methods:\n",
    "    ========\n",
    "    fit_next()\n",
    "    \"\"\"\n",
    "\n",
    "    def __init__(self, K, D, tau=0.5):\n",
    "\n",
    "        \n",
    "\n",
    "        self.eta = eta\n",
    "        self.gamma = gamma\n",
    "        self.t = 0\n",
    "        \n",
    "        \n",
    "        self.w = np.random.normal(0, 1.0 / np.sqrt(D), size=(D, K))\n",
    "        self.l = np.random.normal(0, 1)\n",
    "        \n",
    "        \n",
    "        \n",
    "        self.K = K\n",
    "        self.D = D\n",
    "        self.tau = tau\n",
    "\n",
    "    def fit(self, mu1, mu2, SW):\n",
    "\n",
    "        t, tau, w, l, K = self.t, self.tau, self.w, self.l, self.K\n",
    "\n",
    "        if len(mu1.shape) != 2:\n",
    "            mu1 = np.expand_dims(mu1, axis=-1)\n",
    "        if len(mu2.shape) != 2:\n",
    "            mu2 = np.expand_dims(mu2, axis=-1)\n",
    "        \n",
    "        assert mu1.shape[1] == 1\n",
    "        assert mu2.shape[1] == 1\n",
    "        \n",
    "        e_step = self.eta(t)\n",
    "        g_step = self.gamma(t)\n",
    "        w = w + e_step * (mu1 - mu2 - l * (SW@w))\n",
    "        l = l + g_step * (w.T@SW@w -1)\n",
    "        \n",
    "        self.w = w\n",
    "        self.l = l\n",
    "        self.t += 1\n",
    "        "
   ]
  },
  {
   "cell_type": "code",
   "execution_count": 102,
   "metadata": {},
   "outputs": [],
   "source": [
    "class Online_LDA:\n",
    "    \"\"\"\n",
    "    Parameters:\n",
    "    ====================\n",
    "    K             -- Dimension of PCA subspace to learn\n",
    "    D             -- Dimensionality of data\n",
    "    M0            -- Initial guess for the lateral weight matrix M, must be of size K-by-K\n",
    "    W0            -- Initial guess for the forward weight matrix W, must be of size K-by-D\n",
    "    learning_rate -- Learning rate as a function of t\n",
    "    tau           -- Learning rate factor for M (multiplier of the W learning rate)\n",
    "    Methods:\n",
    "    ========\n",
    "    fit_next()\n",
    "    \"\"\"\n",
    "\n",
    "    def __init__(self, K, D, tau=0.5):\n",
    "\n",
    "        \n",
    "\n",
    "        self.eta = eta\n",
    "        self.gamma = gamma\n",
    "        self.t = 1\n",
    "        \n",
    "        self.a = 1/2\n",
    "        self.b = 1/2\n",
    "        \n",
    "        self.w = np.random.normal(0, 1.0, size=(D,))\n",
    "        self.l = np.random.normal(0, 1.0)\n",
    "\n",
    "        self.ybar = 0\n",
    "        self.xbar = 0\n",
    "        \n",
    "        self.K = K\n",
    "        self.D = D\n",
    "        self.tau = tau\n",
    "\n",
    "    def fit_next(self, x, r, s):\n",
    "\n",
    "        assert x.shape == (self.D,)\n",
    "        \n",
    "\n",
    "        t, tau, w, l = self.t, self.tau, self.w, self.l\n",
    "        ybar, xbar = self.ybar, self.xbar\n",
    "        a, b = self.a, self.b\n",
    "        \n",
    "        y = (w.T@x).item()\n",
    "        ybar = ybar + (1/t)*(y-ybar)\n",
    "        yhat = y - ybar\n",
    "        \n",
    "        xbar = xbar +(1/t)*(x-xbar)\n",
    "        a = a + (1/t)*(r-a)\n",
    "        b = b + (1/t)*(s-b)\n",
    "    \n",
    "        \n",
    "        r_a = r/a if a != 0 else 0\n",
    "        s_b = s/b if b != 0 else 0\n",
    "        \n",
    "        e_step = self.eta(t)\n",
    "        g_step = self.gamma(t)\n",
    "        \n",
    "    \n",
    "        w =  w + e_step*(r_a-s_b-l*yhat)*x + e_step*(l*yhat*xbar)\n",
    "        \n",
    "        \n",
    "        l = l + g_step*(yhat*yhat-1)\n",
    "        \n",
    "        \n",
    "        \n",
    "        self.ybar = ybar\n",
    "        self.xbar = xbar\n",
    "        self.a = a\n",
    "        self.b = b\n",
    "        self.w = w\n",
    "        self.l = l\n",
    "        self.t += 1\n",
    "  "
   ]
  },
  {
   "cell_type": "code",
   "execution_count": 145,
   "metadata": {},
   "outputs": [],
   "source": [
    "from sklearn.datasets import make_classification\n",
    "\n",
    "\n",
    "X, y = make_classification(n_samples=10000, n_features=500,class_sep=10, n_clusters_per_class=1, n_classes=2)\n",
    "\n",
    "X1 = X[y == 0]\n",
    "X2 = X[y == 1]\n",
    "mean1 = X1.mean(0)\n",
    "mean2 = X2.mean(0)\n",
    "mean_diff = np.atleast_1d(mean1 - mean2)\n",
    "cov1 = calculate_covariance_matrix(X1)\n",
    "cov2 = calculate_covariance_matrix(X2)\n",
    "cov_tot = cov1 + cov2\n",
    "\n"
   ]
  },
  {
   "cell_type": "code",
   "execution_count": 146,
   "metadata": {},
   "outputs": [
    {
     "data": {
      "image/png": "[encoded data removed]",
      "text/plain": [
       "<Figure size 432x288 with 1 Axes>"
      ]
     },
     "metadata": {
      "needs_background": "light"
     },
     "output_type": "display_data"
    }
   ],
   "source": [
    "from sklearn.discriminant_analysis import LinearDiscriminantAnalysis\n",
    "clf = LinearDiscriminantAnalysis()\n",
    "clf.fit(X,y)\n",
    "y_ = clf.transform(X)\n",
    "plt.scatter( y_,np.zeros(y_.shape), c = y)\n",
    "plt.show()\n",
    "true_lda_score = max((np.sum(y_[y == 1] > 0) + np.sum(y_[y == 0] < 0)), (np.sum(y_[y == 0] > 0) + np.sum(y_[y == 1] < 0)) )/10000"
   ]
  },
  {
   "cell_type": "code",
   "execution_count": 147,
   "metadata": {},
   "outputs": [],
   "source": [
    "def eta(t):\n",
    "    \"\"\"\n",
    "    Parameters:\n",
    "    ====================\n",
    "    t -- time at which learning rate is to be evaluated\n",
    "    Output:\n",
    "    ====================\n",
    "    step -- learning rate at time t\n",
    "    \"\"\"\n",
    "\n",
    "    return 1e-2#5e-6# / (t + 5)\n",
    "\n",
    "def gamma(t):\n",
    "    \"\"\"\n",
    "    Parameters:\n",
    "    ====================\n",
    "    t -- time at which learning rate is to be evaluated\n",
    "    Output:\n",
    "    ====================\n",
    "    step -- learning rate at time t\n",
    "    \"\"\"\n",
    "\n",
    "    return 1e-2#5e-6#/ (t + 20)"
   ]
  },
  {
   "cell_type": "code",
   "execution_count": 148,
   "metadata": {},
   "outputs": [],
   "source": [
    "LDA = Offline_LDA(1, 500)\n",
    "n_epoch = 100\n",
    "err = []\n",
    "for n_e in range(n_epoch):\n",
    "    LDA.fit(mean1, mean2, cov_tot)\n",
    "    Y = LDA.w.T.dot(X.T)\n",
    "    err.append(true_lda_score - max((np.sum(Y[:,y == 1] > 0) + np.sum(Y[:,y == 0] < 0)), (np.sum(Y[:,y == 0] > 0) + np.sum(Y[:,y == 1] < 0)) )/10000)"
   ]
  },
  {
   "cell_type": "code",
   "execution_count": 149,
   "metadata": {},
   "outputs": [
    {
     "data": {
      "image/png": "[encoded data removed]",
      "text/plain": [
       "<Figure size 432x288 with 1 Axes>"
      ]
     },
     "metadata": {
      "needs_background": "light"
     },
     "output_type": "display_data"
    }
   ],
   "source": [
    "plt.plot(err)\n",
    "plt.show()"
   ]
  },
  {
   "cell_type": "code",
   "execution_count": 150,
   "metadata": {},
   "outputs": [
    {
     "data": {
      "image/png": "[encoded data removed]",
      "text/plain": [
       "<Figure size 432x288 with 1 Axes>"
      ]
     },
     "metadata": {
      "needs_background": "light"
     },
     "output_type": "display_data"
    }
   ],
   "source": [
    "from sklearn.decomposition import PCA\n",
    "\n",
    "pca = PCA(n_components=2)\n",
    "PCA_X = pca.fit_transform(X)\n",
    "plt.scatter(PCA_X[:,0], PCA_X[:,1], c = y)\n",
    "plt.show()"
   ]
  },
  {
   "cell_type": "code",
   "execution_count": 151,
   "metadata": {},
   "outputs": [
    {
     "data": {
      "image/png": "[encoded data removed]",
      "text/plain": [
       "<Figure size 432x288 with 1 Axes>"
      ]
     },
     "metadata": {
      "needs_background": "light"
     },
     "output_type": "display_data"
    }
   ],
   "source": [
    "from sklearn.decomposition import PCA\n",
    "\n",
    "pca = PCA(n_components=1)\n",
    "PCA_1X = pca.fit_transform(X)\n",
    "plt.scatter(PCA_1X, np.zeros(PCA_1X.shape), c = y)\n",
    "plt.show()"
   ]
  },
  {
   "cell_type": "code",
   "execution_count": 152,
   "metadata": {},
   "outputs": [
    {
     "data": {
      "image/png": "[encoded data removed]",
      "text/plain": [
       "<Figure size 432x288 with 1 Axes>"
      ]
     },
     "metadata": {
      "needs_background": "light"
     },
     "output_type": "display_data"
    }
   ],
   "source": [
    "Y = LDA.w.T.dot(X.T)\n",
    "plt.scatter(Y,np.zeros(Y.shape), c = y)\n",
    "plt.show()"
   ]
  },
  {
   "cell_type": "code",
   "execution_count": 153,
   "metadata": {},
   "outputs": [
    {
     "data": {
      "text/plain": [
       "0.9957"
      ]
     },
     "execution_count": 153,
     "metadata": {},
     "output_type": "execute_result"
    }
   ],
   "source": [
    "max((np.sum(Y[:,y == 1] > 0) + np.sum(Y[:,y == 0] < 0)), (np.sum(Y[:,y == 0] > 0) + np.sum(Y[:,y == 1] < 0)) )/10000\n",
    "    "
   ]
  },
  {
   "cell_type": "code",
   "execution_count": 154,
   "metadata": {},
   "outputs": [
    {
     "data": {
      "text/plain": [
       "LinearDiscriminantAnalysis()"
      ]
     },
     "execution_count": 154,
     "metadata": {},
     "output_type": "execute_result"
    }
   ],
   "source": [
    "from sklearn.discriminant_analysis import LinearDiscriminantAnalysis\n",
    "clf = LinearDiscriminantAnalysis()\n",
    "clf.fit(X,y)"
   ]
  },
  {
   "cell_type": "code",
   "execution_count": 155,
   "metadata": {},
   "outputs": [
    {
     "data": {
      "image/png": "[encoded data removed]",
      "text/plain": [
       "<Figure size 432x288 with 1 Axes>"
      ]
     },
     "metadata": {
      "needs_background": "light"
     },
     "output_type": "display_data"
    }
   ],
   "source": [
    "y_ = clf.transform(X)\n",
    "plt.scatter( y_,np.zeros(y_.shape), c = y)\n",
    "plt.show()"
   ]
  },
  {
   "cell_type": "code",
   "execution_count": 140,
   "metadata": {},
   "outputs": [],
   "source": [
    "true_lda_score = max((np.sum(y_[y == 1] > 0) + np.sum(y_[y == 0] < 0)), (np.sum(y_[y == 0] > 0) + np.sum(y_[y == 1] < 0)) )/10000\n",
    "    "
   ]
  },
  {
   "cell_type": "code",
   "execution_count": 141,
   "metadata": {},
   "outputs": [
    {
     "data": {
      "text/plain": [
       "1.0"
      ]
     },
     "execution_count": 141,
     "metadata": {},
     "output_type": "execute_result"
    }
   ],
   "source": [
    "true_lda_score"
   ]
  },
  {
   "cell_type": "code",
   "execution_count": 348,
   "metadata": {},
   "outputs": [],
   "source": [
    "class Online_LDA:\n",
    "    \"\"\"\n",
    "    Parameters:\n",
    "    ====================\n",
    "    K             -- Dimension of PCA subspace to learn\n",
    "    D             -- Dimensionality of data\n",
    "    M0            -- Initial guess for the lateral weight matrix M, must be of size K-by-K\n",
    "    W0            -- Initial guess for the forward weight matrix W, must be of size K-by-D\n",
    "    learning_rate -- Learning rate as a function of t\n",
    "    tau           -- Learning rate factor for M (multiplier of the W learning rate)\n",
    "    Methods:\n",
    "    ========\n",
    "    fit_next()\n",
    "    \"\"\"\n",
    "\n",
    "    def __init__(self, K, D, tau=0.5):\n",
    "\n",
    "        \n",
    "\n",
    "        self.eta = eta\n",
    "        self.gamma = gamma\n",
    "        self.t = 1\n",
    "        \n",
    "        self.a = 1/2\n",
    "        self.b = 1/2\n",
    "        \n",
    "        self.w = np.random.normal(0, 1.0, size=(D,))\n",
    "        self.l = np.random.normal(0, 1.0)\n",
    "\n",
    "        self.ybar = 0\n",
    "        self.xbar = 0\n",
    "        \n",
    "        self.K = K\n",
    "        self.D = D\n",
    "        self.tau = tau\n",
    "\n",
    "    def fit_next(self, x, r, s):\n",
    "\n",
    "        assert x.shape == (self.D,)\n",
    "        \n",
    "\n",
    "        t, tau, w, l = self.t, self.tau, self.w, self.l\n",
    "        ybar, xbar = self.ybar, self.xbar\n",
    "        a, b = self.a, self.b\n",
    "        \n",
    "        y = (w.T@x).item()\n",
    "        ybar = ybar + (1/t)*(y-ybar)\n",
    "        yhat = y - ybar\n",
    "        \n",
    "        xbar = xbar +(1/t)*(x-xbar)\n",
    "        a = a + (1/t)*(r-a)\n",
    "        b = b + (1/t)*(s-b)\n",
    "    \n",
    "        \n",
    "        r_a = r/a if a != 0 else 0\n",
    "        s_b = s/b if b != 0 else 0\n",
    "        \n",
    "        e_step = self.eta(t)\n",
    "        g_step = self.gamma(t)\n",
    "        \n",
    "    \n",
    "        w =  w + e_step*(r_a-s_b-l*yhat)*x + e_step*(l*yhat*xbar)\n",
    "        \n",
    "        \n",
    "        l = l + g_step*(yhat*yhat-1)\n",
    "        \n",
    "        \n",
    "        \n",
    "        self.ybar = ybar\n",
    "        self.xbar = xbar\n",
    "        self.a = a\n",
    "        self.b = b\n",
    "        self.w = w\n",
    "        self.l = l\n",
    "        self.t += 1\n",
    "        "
   ]
  },
  {
   "cell_type": "code",
   "execution_count": 202,
   "metadata": {},
   "outputs": [],
   "source": [
    "from sklearn.datasets import make_classification\n",
    "\n",
    "# other options are also available\n",
    "X, y = make_classification(n_samples=10000, n_features=500,class_sep=2, n_clusters_per_class=1, n_classes=2)\n",
    "\n",
    "X1 = X[y == 0]\n",
    "X2 = X[y == 1]\n",
    "mean1 = X1.mean(0)\n",
    "mean2 = X2.mean(0)\n",
    "mean_diff = np.atleast_1d(mean1 - mean2)\n",
    "cov1 = calculate_covariance_matrix(X1)\n",
    "cov2 = calculate_covariance_matrix(X2)\n",
    "cov_tot = cov1 + cov2\n",
    "\n",
    "\n",
    "SW = cov_tot"
   ]
  },
  {
   "cell_type": "code",
   "execution_count": 203,
   "metadata": {},
   "outputs": [
    {
     "data": {
      "image/png": "[encoded data removed]",
      "text/plain": [
       "<Figure size 432x288 with 1 Axes>"
      ]
     },
     "metadata": {
      "needs_background": "light"
     },
     "output_type": "display_data"
    }
   ],
   "source": [
    "from sklearn.discriminant_analysis import LinearDiscriminantAnalysis\n",
    "clf = LinearDiscriminantAnalysis()\n",
    "clf.fit(X,y)\n",
    "y_ = clf.transform(X)\n",
    "plt.scatter( y_,np.zeros(y_.shape), c = y)\n",
    "plt.show()\n",
    "true_lda_score = max((np.sum(y_[y == 1] > 0) + np.sum(y_[y == 0] < 0)), (np.sum(y_[y == 0] > 0) + np.sum(y_[y == 1] < 0)) )/10000"
   ]
  },
  {
   "cell_type": "code",
   "execution_count": 193,
   "metadata": {},
   "outputs": [],
   "source": [
    "def eta(t):\n",
    "    \"\"\"\n",
    "    Parameters:\n",
    "    ====================\n",
    "    t -- time at which learning rate is to be evaluated\n",
    "    Output:\n",
    "    ====================\n",
    "    step -- learning rate at time t\n",
    "    \"\"\"\n",
    "\n",
    "    return 7e-6\n",
    "\n",
    "def gamma(t):\n",
    "    \"\"\"\n",
    "    Parameters:\n",
    "    ====================\n",
    "    t -- time at which learning rate is to be evaluated\n",
    "    Output:\n",
    "    ====================\n",
    "    step -- learning rate at time t\n",
    "    \"\"\"\n",
    "\n",
    "    return 7e-6"
   ]
  },
  {
   "cell_type": "code",
   "execution_count": 217,
   "metadata": {},
   "outputs": [
    {
     "data": {
      "image/png": "[encoded data removed]",
      "text/plain": [
       "<Figure size 432x288 with 1 Axes>"
      ]
     },
     "metadata": {
      "needs_background": "light"
     },
     "output_type": "display_data"
    },
    {
     "data": {
      "image/png": "[encoded data removed]",
      "text/plain": [
       "<Figure size 432x288 with 1 Axes>"
      ]
     },
     "metadata": {
      "needs_background": "light"
     },
     "output_type": "display_data"
    },
    {
     "name": "stdout",
     "output_type": "stream",
     "text": [
      "-0.14880000000000004\n"
     ]
    }
   ],
   "source": [
    "from sklearn.datasets import make_classification\n",
    "\n",
    "errs = []\n",
    "\n",
    "LDAs = []\n",
    "for i in range(1):\n",
    "    X, y = make_classification(n_samples=10000, n_features=500,class_sep=0.6, n_clusters_per_class=1, n_classes=2)\n",
    "    \n",
    "    \"\"\"\n",
    "    X1 = X[y == 0]\n",
    "    X2 = X[y == 1]\n",
    "    mean1 = X1.mean(0)\n",
    "    mean2 = X2.mean(0)\n",
    "    mean_diff = np.atleast_1d(mean1 - mean2)\n",
    "    cov1 = calculate_covariance_matrix(X1)\n",
    "    cov2 = calculate_covariance_matrix(X2)\n",
    "    cov_tot = cov1 + cov2\n",
    "    \n",
    "    \"\"\"\n",
    "    X1 = X[y == 0]\n",
    "    X2 = X[y == 1]\n",
    "    mean1 = X1.mean(0)\n",
    "    mean2 = X2.mean(0)\n",
    "    cov1 = calculate_covariance_matrix(X1)\n",
    "    cov2 = calculate_covariance_matrix(X2)\n",
    "    cov_tot = cov1 + cov2\n",
    "    \n",
    "    #mean1 =  np.zeros(500)\n",
    "    #cov1 = sklearn.datasets.make_spd_matrix(500)\n",
    "    X1 = np.random.multivariate_normal(mean1, cov1, 1000)\n",
    "    #mean2 =  np.zeros(500) + 0.2\n",
    "    #cov2 = sklearn.datasets.make_spd_matrix(500)\n",
    "    X2 = np.random.multivariate_normal(mean2, cov2, 9000)\n",
    "\n",
    "    X = np.concatenate((X1,X2))\n",
    "    y = np.zeros(10000)\n",
    "    y[1000:] = 1\n",
    "\n",
    "    idx = np.random.permutation(len(X))\n",
    "    X, y  = X[idx], y[idx]\n",
    "    \n",
    "    \n",
    "    from sklearn.decomposition import PCA\n",
    "\n",
    "    pca = PCA(n_components=2)\n",
    "    PCA_X = pca.fit_transform(X)\n",
    "    plt.scatter(PCA_X[:,0], PCA_X[:,1], c = y)\n",
    "    plt.show()\n",
    "\n",
    "    pca = PCA(n_components=1)\n",
    "    PCA_1X = pca.fit_transform(X)\n",
    "    plt.scatter(PCA_1X, np.zeros(PCA_1X.shape), c = y)\n",
    "    plt.show()\n",
    "    \n",
    "    clf = LinearDiscriminantAnalysis()\n",
    "    clf.fit(X,y)\n",
    "    y_ = clf.transform(X)\n",
    "    true_lda_score = max((np.sum(y_[y == 1] > 0) + np.sum(y_[y == 0] < 0)), (np.sum(y_[y == 0] > 0) + np.sum(y_[y == 1] < 0)) )/10000\n",
    "    LDA = Online_LDA(1, 500)\n",
    "\n",
    "    n_epoch = 25\n",
    "    err = []\n",
    "\n",
    "    for n_e in range(n_epoch):\n",
    "        for count, x in enumerate(X):\n",
    "            if y[count] == 0:\n",
    "                r = 1\n",
    "                s = 0\n",
    "            else:\n",
    "                r = 0\n",
    "                s = 1\n",
    "            LDA.fit_next(x, r, s)\n",
    "        Y = LDA.w.T.dot(X.T)\n",
    "        err.append(true_lda_score - max((np.sum(Y[y == 1] > 0) + np.sum(Y[y == 0] < 0)), (np.sum(Y[y == 0] > 0) + np.sum(Y[y == 1] < 0)) )/10000)\n",
    "    \n",
    "    print(err[-1])\n",
    "    errs.append(err[-1])\n",
    "    LDAs.append(LDA)"
   ]
  },
  {
   "cell_type": "code",
   "execution_count": 218,
   "metadata": {},
   "outputs": [
    {
     "data": {
      "text/plain": [
       "-0.14880000000000004"
      ]
     },
     "execution_count": 218,
     "metadata": {},
     "output_type": "execute_result"
    }
   ],
   "source": [
    "np.mean(errs)"
   ]
  },
  {
   "cell_type": "code",
   "execution_count": 219,
   "metadata": {},
   "outputs": [
    {
     "data": {
      "image/png": "[encoded data removed]",
      "text/plain": [
       "<Figure size 432x288 with 1 Axes>"
      ]
     },
     "metadata": {
      "needs_background": "light"
     },
     "output_type": "display_data"
    }
   ],
   "source": [
    "plt.plot(err)\n",
    "plt.show()"
   ]
  },
  {
   "cell_type": "code",
   "execution_count": 220,
   "metadata": {},
   "outputs": [
    {
     "data": {
      "text/plain": [
       "0.8597"
      ]
     },
     "execution_count": 220,
     "metadata": {},
     "output_type": "execute_result"
    }
   ],
   "source": [
    "Y = LDA.w.T.dot(X.T)\n",
    "max((np.sum(Y[y == 1] > 0) + np.sum(Y[y == 0] < 0)), (np.sum(Y[y == 0] > 0) + np.sum(Y[y == 1] < 0)) )/10000"
   ]
  },
  {
   "cell_type": "code",
   "execution_count": 221,
   "metadata": {},
   "outputs": [
    {
     "data": {
      "text/plain": [
       "0.7109"
      ]
     },
     "execution_count": 221,
     "metadata": {},
     "output_type": "execute_result"
    }
   ],
   "source": [
    "true_lda_score"
   ]
  },
  {
   "cell_type": "code",
   "execution_count": 222,
   "metadata": {},
   "outputs": [
    {
     "data": {
      "image/png": "[encoded data removed]",
      "text/plain": [
       "<Figure size 432x288 with 1 Axes>"
      ]
     },
     "metadata": {
      "needs_background": "light"
     },
     "output_type": "display_data"
    }
   ],
   "source": [
    "plt.scatter(Y,np.zeros(Y.shape), c = y)\n",
    "plt.show()"
   ]
  },
  {
   "cell_type": "code",
   "execution_count": 223,
   "metadata": {},
   "outputs": [
    {
     "data": {
      "image/png": "[encoded data removed]",
      "text/plain": [
       "<Figure size 432x288 with 1 Axes>"
      ]
     },
     "metadata": {
      "needs_background": "light"
     },
     "output_type": "display_data"
    }
   ],
   "source": [
    "plt.scatter( y_,np.zeros(y_.shape), c = y)\n",
    "plt.show()"
   ]
  },
  {
   "cell_type": "code",
   "execution_count": null,
   "metadata": {},
   "outputs": [],
   "source": []
  }
 ],
 "metadata": {
  "kernelspec": {
   "display_name": "Python 3",
   "language": "python",
   "name": "python3"
  },
  "language_info": {
   "codemirror_mode": {
    "name": "ipython",
    "version": 3
   },
   "file_extension": ".py",
   "mimetype": "text/x-python",
   "name": "python",
   "nbconvert_exporter": "python",
   "pygments_lexer": "ipython3",
   "version": "3.8.6"
  }
 },
 "nbformat": 4,
 "nbformat_minor": 4
}
