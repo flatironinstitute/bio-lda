{
 "cells": [
  {
   "cell_type": "code",
   "execution_count": 297,
   "metadata": {},
   "outputs": [],
   "source": [
    "import numpy as np\n",
    "import scipy\n",
    "inv = np.linalg.inv\n",
    "import matplotlib.pyplot as plt\n",
    "import sklearn"
   ]
  },
  {
   "cell_type": "code",
   "execution_count": 29,
   "metadata": {},
   "outputs": [],
   "source": [
    "def calculate_covariance_matrix(X, Y=None):\n",
    "    \"\"\" Calculate the covariance matrix for the dataset X \"\"\"\n",
    "    if Y is None:\n",
    "        Y = X\n",
    "    n_samples = np.shape(X)[0]\n",
    "    covariance_matrix = (1 / (n_samples)) * (X - X.mean(axis=0)).T.dot(Y - Y.mean(axis=0))\n",
    "\n",
    "    return np.array(covariance_matrix, dtype=float)"
   ]
  },
  {
   "cell_type": "code",
   "execution_count": 45,
   "metadata": {},
   "outputs": [],
   "source": [
    "\n",
    "\n",
    "class Offline_LDA_old:\n",
    "    \"\"\"\n",
    "    Parameters:\n",
    "    ====================\n",
    "    K             -- Dimension of PCA subspace to learn\n",
    "    D             -- Dimensionality of data\n",
    "    M0            -- Initial guess for the lateral weight matrix M, must be of size K-by-K\n",
    "    W0            -- Initial guess for the forward weight matrix W, must be of size K-by-D\n",
    "    learning_rate -- Learning rate as a function of t\n",
    "    tau           -- Learning rate factor for M (multiplier of the W learning rate)\n",
    "    Methods:\n",
    "    ========\n",
    "    fit()\n",
    "    \"\"\"\n",
    "\n",
    "    def __init__(self, K, D, N, M0=None, W0=None, learning_rate=eta, tau=0.5):\n",
    "\n",
    "        if M0 is not None:\n",
    "            assert M0.shape == (K, K), \"The shape of the initial guess Minv0 must be (K,K)=(%d,%d)\" % (K, K)\n",
    "            M = M0\n",
    "        else:\n",
    "            M = np.eye(K)\n",
    "\n",
    "        if W0 is not None:\n",
    "            assert W0.shape == (K, D), \"The shape of the initial guess W0 must be (K,D)=(%d,%d)\" % (K, D)\n",
    "            W = W0\n",
    "        else:\n",
    "            W = np.random.normal(0, 1.0 / np.sqrt(D), size=(K, D))\n",
    "\n",
    "\n",
    "        self.eta = learning_rate\n",
    "        self.t = 0\n",
    "\n",
    "        self.K = K\n",
    "        self.D = D\n",
    "        self.N = N\n",
    "        self.tau = tau\n",
    "        self.M = M\n",
    "        self.W = W\n",
    "\n",
    "    def fit(self, X, q, SW):\n",
    "\n",
    "        assert X.shape == (self.D, self.N)\n",
    "\n",
    "        t, tau, W, M, K, N = self.t, self.tau, self.W, self.M, self.K, self.N\n",
    "\n",
    "\n",
    "        MW = np.dot(np.linalg.inv(M), W)\n",
    "        input = np.dot(X, q)\n",
    "        input = input.reshape(input.shape[0], 1)\n",
    "        Y = np.dot(MW, input)\n",
    "        Y = Y.reshape(Y.shape[0], 1)\n",
    "        \n",
    "        \n",
    "        step = self.eta(t)\n",
    "\n",
    "        \n",
    "        outer_W = np.dot(2 * step *  Y, input.T).dot(np.linalg.inv(SW))\n",
    "        W = (1 - 2 * step) * W + outer_W\n",
    "        \n",
    "        step = step / tau\n",
    "        outer_M = np.dot(step * Y, Y.T)\n",
    "        M = (1 - step) * M + outer_M\n",
    "\n",
    "        self.M = M\n",
    "        self.W = W\n",
    "\n",
    "        self.t += 1 "
   ]
  },
  {
   "cell_type": "code",
   "execution_count": 31,
   "metadata": {},
   "outputs": [],
   "source": [
    "class Offline_LDA:\n",
    "    \"\"\"\n",
    "    Parameters:\n",
    "    ====================\n",
    "    K             -- Dimension of PCA subspace to learn\n",
    "    D             -- Dimensionality of data\n",
    "    M0            -- Initial guess for the lateral weight matrix M, must be of size K-by-K\n",
    "    W0            -- Initial guess for the forward weight matrix W, must be of size K-by-D\n",
    "    learning_rate -- Learning rate as a function of t\n",
    "    tau           -- Learning rate factor for M (multiplier of the W learning rate)\n",
    "    Methods:\n",
    "    ========\n",
    "    fit_next()\n",
    "    \"\"\"\n",
    "\n",
    "    def __init__(self, K, D, tau=0.5):\n",
    "\n",
    "        \n",
    "\n",
    "        self.eta = eta\n",
    "        self.gamma = gamma\n",
    "        self.t = 0\n",
    "        \n",
    "        \n",
    "        self.w = np.random.normal(0, 1.0 / np.sqrt(D), size=(D, K))\n",
    "        self.l = np.random.normal(0, 1)\n",
    "        \n",
    "        \n",
    "        \n",
    "        self.K = K\n",
    "        self.D = D\n",
    "        self.tau = tau\n",
    "\n",
    "    def fit(self, mu1, mu2, SW):\n",
    "\n",
    "        t, tau, w, l, K = self.t, self.tau, self.w, self.l, self.K\n",
    "\n",
    "        if len(mu1.shape) != 2:\n",
    "            mu1 = np.expand_dims(mu1, axis=-1)\n",
    "        if len(mu2.shape) != 2:\n",
    "            mu2 = np.expand_dims(mu2, axis=-1)\n",
    "        \n",
    "        assert mu1.shape[1] == 1\n",
    "        assert mu2.shape[1] == 1\n",
    "        \n",
    "        e_step = self.eta(t)\n",
    "        g_step = self.gamma(t)\n",
    "        w = w + e_step * (mu1 - mu2 - l * (SW@w))\n",
    "        l = l + g_step * (w.T@SW@w -1)\n",
    "        \n",
    "        self.w = w\n",
    "        self.l = l\n",
    "        self.t += 1\n",
    "        "
   ]
  },
  {
   "cell_type": "code",
   "execution_count": 139,
   "metadata": {},
   "outputs": [
    {
     "data": {
      "image/png": "[encoded data removed]",
      "text/plain": [
       "<Figure size 432x288 with 1 Axes>"
      ]
     },
     "metadata": {
      "needs_background": "light"
     },
     "output_type": "display_data"
    }
   ],
   "source": [
    "from sklearn.discriminant_analysis import LinearDiscriminantAnalysis\n",
    "clf = LinearDiscriminantAnalysis()\n",
    "clf.fit(X,y)\n",
    "y_ = clf.transform(X)\n",
    "plt.scatter( y_,np.zeros(y_.shape), c = y)\n",
    "plt.show()\n",
    "true_lda_score = max((np.sum(y_[y == 1] > 0) + np.sum(y_[y == 0] < 0)), (np.sum(y_[y == 0] > 0) + np.sum(y_[y == 1] < 0)) )/10000"
   ]
  },
  {
   "cell_type": "code",
   "execution_count": 156,
   "metadata": {},
   "outputs": [],
   "source": [
    "def eta(t):\n",
    "    \"\"\"\n",
    "    Parameters:\n",
    "    ====================\n",
    "    t -- time at which learning rate is to be evaluated\n",
    "    Output:\n",
    "    ====================\n",
    "    step -- learning rate at time t\n",
    "    \"\"\"\n",
    "\n",
    "    return 1 / (t + 5)\n",
    "\n",
    "def gamma(t):\n",
    "    \"\"\"\n",
    "    Parameters:\n",
    "    ====================\n",
    "    t -- time at which learning rate is to be evaluated\n",
    "    Output:\n",
    "    ====================\n",
    "    step -- learning rate at time t\n",
    "    \"\"\"\n",
    "\n",
    "    return 1/ (t + 20)"
   ]
  },
  {
   "cell_type": "code",
   "execution_count": 445,
   "metadata": {},
   "outputs": [],
   "source": [
    "X, y = make_classification(n_samples=10000, n_features=500,class_sep=10, n_clusters_per_class=1, n_classes=2)\n",
    "\n",
    "X1 = X[y == 0]\n",
    "X2 = X[y == 1]\n",
    "mean1 = X1.mean(0)\n",
    "mean2 = X2.mean(0)\n",
    "mean_diff = np.atleast_1d(mean1 - mean2)\n",
    "cov1 = calculate_covariance_matrix(X1)\n",
    "cov2 = calculate_covariance_matrix(X2)\n",
    "cov_tot = cov1 + cov2"
   ]
  },
  {
   "cell_type": "code",
   "execution_count": 448,
   "metadata": {},
   "outputs": [],
   "source": [
    "LDA = Offline_LDA(1, 500)\n",
    "n_epoch = 50\n",
    "err = []\n",
    "for n_e in range(n_epoch):\n",
    "    LDA.fit(mean1, mean2, cov_tot)\n",
    "    Y = LDA.w.T.dot(X.T)\n",
    "    err.append(true_lda_score - max((np.sum(Y[:,y == 1] > 0) + np.sum(Y[:,y == 0] < 0)), (np.sum(Y[:,y == 0] > 0) + np.sum(Y[:,y == 1] < 0)) )/10000)"
   ]
  },
  {
   "cell_type": "code",
   "execution_count": 449,
   "metadata": {},
   "outputs": [
    {
     "data": {
      "image/png": "[encoded data removed]",
      "text/plain": [
       "<Figure size 432x288 with 1 Axes>"
      ]
     },
     "metadata": {
      "needs_background": "light"
     },
     "output_type": "display_data"
    }
   ],
   "source": [
    "plt.plot(err)\n",
    "plt.show()"
   ]
  },
  {
   "cell_type": "code",
   "execution_count": 441,
   "metadata": {},
   "outputs": [
    {
     "data": {
      "image/png": "[encoded data removed]",
      "text/plain": [
       "<Figure size 432x288 with 1 Axes>"
      ]
     },
     "metadata": {
      "needs_background": "light"
     },
     "output_type": "display_data"
    }
   ],
   "source": [
    "from sklearn.decomposition import PCA\n",
    "\n",
    "pca = PCA(n_components=2)\n",
    "PCA_X = pca.fit_transform(X)\n",
    "plt.scatter(PCA_X[:,0], PCA_X[:,1], c = y)\n",
    "plt.show()"
   ]
  },
  {
   "cell_type": "code",
   "execution_count": 447,
   "metadata": {},
   "outputs": [
    {
     "data": {
      "image/png": "[encoded data removed]",
      "text/plain": [
       "<Figure size 432x288 with 1 Axes>"
      ]
     },
     "metadata": {
      "needs_background": "light"
     },
     "output_type": "display_data"
    }
   ],
   "source": [
    "from sklearn.decomposition import PCA\n",
    "\n",
    "pca = PCA(n_components=1)\n",
    "PCA_1X = pca.fit_transform(X)\n",
    "plt.scatter(PCA_1X, np.zeros(PCA_1X.shape), c = y)\n",
    "plt.show()"
   ]
  },
  {
   "cell_type": "code",
   "execution_count": 450,
   "metadata": {},
   "outputs": [
    {
     "data": {
      "image/png": "[encoded data removed]",
      "text/plain": [
       "<Figure size 432x288 with 1 Axes>"
      ]
     },
     "metadata": {
      "needs_background": "light"
     },
     "output_type": "display_data"
    }
   ],
   "source": [
    "Y = LDA.w.T.dot(X.T)\n",
    "plt.scatter(Y,np.zeros(Y.shape), c = y)\n",
    "plt.show()"
   ]
  },
  {
   "cell_type": "code",
   "execution_count": 444,
   "metadata": {},
   "outputs": [
    {
     "data": {
      "text/plain": [
       "0.5375"
      ]
     },
     "execution_count": 444,
     "metadata": {},
     "output_type": "execute_result"
    }
   ],
   "source": [
    "max((np.sum(Y[:,y == 1] > 0) + np.sum(Y[:,y == 0] < 0)), (np.sum(Y[:,y == 0] > 0) + np.sum(Y[:,y == 1] < 0)) )/10000\n",
    "    "
   ]
  },
  {
   "cell_type": "code",
   "execution_count": 451,
   "metadata": {},
   "outputs": [
    {
     "data": {
      "text/plain": [
       "LinearDiscriminantAnalysis()"
      ]
     },
     "execution_count": 451,
     "metadata": {},
     "output_type": "execute_result"
    }
   ],
   "source": [
    "from sklearn.discriminant_analysis import LinearDiscriminantAnalysis\n",
    "clf = LinearDiscriminantAnalysis()\n",
    "clf.fit(X,y)"
   ]
  },
  {
   "cell_type": "code",
   "execution_count": 452,
   "metadata": {},
   "outputs": [
    {
     "data": {
      "image/png": "[encoded data removed]",
      "text/plain": [
       "<Figure size 432x288 with 1 Axes>"
      ]
     },
     "metadata": {
      "needs_background": "light"
     },
     "output_type": "display_data"
    }
   ],
   "source": [
    "y_ = clf.transform(X)\n",
    "plt.scatter( y_,np.zeros(y_.shape), c = y)\n",
    "plt.show()"
   ]
  },
  {
   "cell_type": "code",
   "execution_count": 149,
   "metadata": {},
   "outputs": [],
   "source": [
    "true_lda_score = max((np.sum(y_[y == 1] > 0) + np.sum(y_[y == 0] < 0)), (np.sum(y_[y == 0] > 0) + np.sum(y_[y == 1] < 0)) )/10000\n",
    "    "
   ]
  },
  {
   "cell_type": "code",
   "execution_count": 150,
   "metadata": {},
   "outputs": [
    {
     "data": {
      "text/plain": [
       "0.9148"
      ]
     },
     "execution_count": 150,
     "metadata": {},
     "output_type": "execute_result"
    }
   ],
   "source": [
    "true_lda_score"
   ]
  },
  {
   "cell_type": "code",
   "execution_count": 348,
   "metadata": {},
   "outputs": [],
   "source": [
    "class Online_LDA:\n",
    "    \"\"\"\n",
    "    Parameters:\n",
    "    ====================\n",
    "    K             -- Dimension of PCA subspace to learn\n",
    "    D             -- Dimensionality of data\n",
    "    M0            -- Initial guess for the lateral weight matrix M, must be of size K-by-K\n",
    "    W0            -- Initial guess for the forward weight matrix W, must be of size K-by-D\n",
    "    learning_rate -- Learning rate as a function of t\n",
    "    tau           -- Learning rate factor for M (multiplier of the W learning rate)\n",
    "    Methods:\n",
    "    ========\n",
    "    fit_next()\n",
    "    \"\"\"\n",
    "\n",
    "    def __init__(self, K, D, tau=0.5):\n",
    "\n",
    "        \n",
    "\n",
    "        self.eta = eta\n",
    "        self.gamma = gamma\n",
    "        self.t = 1\n",
    "        \n",
    "        self.a = 1/2\n",
    "        self.b = 1/2\n",
    "        \n",
    "        self.w = np.random.normal(0, 1.0, size=(D,))\n",
    "        self.l = np.random.normal(0, 1.0)\n",
    "\n",
    "        self.ybar = 0\n",
    "        self.xbar = 0\n",
    "        \n",
    "        self.K = K\n",
    "        self.D = D\n",
    "        self.tau = tau\n",
    "\n",
    "    def fit_next(self, x, r, s):\n",
    "\n",
    "        assert x.shape == (self.D,)\n",
    "        \n",
    "\n",
    "        t, tau, w, l = self.t, self.tau, self.w, self.l\n",
    "        ybar, xbar = self.ybar, self.xbar\n",
    "        a, b = self.a, self.b\n",
    "        \n",
    "        y = (w.T@x).item()\n",
    "        ybar = ybar + (1/t)*(y-ybar)\n",
    "        yhat = y - ybar\n",
    "        \n",
    "        xbar = xbar +(1/t)*(x-xbar)\n",
    "        a = a + (1/t)*(r-a)\n",
    "        b = b + (1/t)*(s-b)\n",
    "    \n",
    "        \n",
    "        r_a = r/a if a != 0 else 0\n",
    "        s_b = s/b if b != 0 else 0\n",
    "        \n",
    "        e_step = self.eta(t)\n",
    "        g_step = self.gamma(t)\n",
    "        \n",
    "    \n",
    "        w =  w + e_step*(r_a-s_b-l*yhat)*x + e_step*(l*yhat*xbar)\n",
    "        \n",
    "        \n",
    "        l = l + g_step*(yhat*yhat-1)\n",
    "        \n",
    "        \n",
    "        \n",
    "        self.ybar = ybar\n",
    "        self.xbar = xbar\n",
    "        self.a = a\n",
    "        self.b = b\n",
    "        self.w = w\n",
    "        self.l = l\n",
    "        self.t += 1\n",
    "        "
   ]
  },
  {
   "cell_type": "code",
   "execution_count": 202,
   "metadata": {},
   "outputs": [],
   "source": [
    "from sklearn.datasets import make_classification\n",
    "\n",
    "# other options are also available\n",
    "X, y = make_classification(n_samples=10000, n_features=500,class_sep=2, n_clusters_per_class=1, n_classes=2)\n",
    "\n",
    "X1 = X[y == 0]\n",
    "X2 = X[y == 1]\n",
    "mean1 = X1.mean(0)\n",
    "mean2 = X2.mean(0)\n",
    "mean_diff = np.atleast_1d(mean1 - mean2)\n",
    "cov1 = calculate_covariance_matrix(X1)\n",
    "cov2 = calculate_covariance_matrix(X2)\n",
    "cov_tot = cov1 + cov2\n",
    "\n",
    "\n",
    "SW = cov_tot"
   ]
  },
  {
   "cell_type": "code",
   "execution_count": 203,
   "metadata": {},
   "outputs": [
    {
     "data": {
      "image/png": "[encoded data removed]",
      "text/plain": [
       "<Figure size 432x288 with 1 Axes>"
      ]
     },
     "metadata": {
      "needs_background": "light"
     },
     "output_type": "display_data"
    }
   ],
   "source": [
    "from sklearn.discriminant_analysis import LinearDiscriminantAnalysis\n",
    "clf = LinearDiscriminantAnalysis()\n",
    "clf.fit(X,y)\n",
    "y_ = clf.transform(X)\n",
    "plt.scatter( y_,np.zeros(y_.shape), c = y)\n",
    "plt.show()\n",
    "true_lda_score = max((np.sum(y_[y == 1] > 0) + np.sum(y_[y == 0] < 0)), (np.sum(y_[y == 0] > 0) + np.sum(y_[y == 1] < 0)) )/10000"
   ]
  },
  {
   "cell_type": "code",
   "execution_count": 409,
   "metadata": {},
   "outputs": [],
   "source": [
    "def eta(t):\n",
    "    \"\"\"\n",
    "    Parameters:\n",
    "    ====================\n",
    "    t -- time at which learning rate is to be evaluated\n",
    "    Output:\n",
    "    ====================\n",
    "    step -- learning rate at time t\n",
    "    \"\"\"\n",
    "\n",
    "    return 5e-6\n",
    "\n",
    "def gamma(t):\n",
    "    \"\"\"\n",
    "    Parameters:\n",
    "    ====================\n",
    "    t -- time at which learning rate is to be evaluated\n",
    "    Output:\n",
    "    ====================\n",
    "    step -- learning rate at time t\n",
    "    \"\"\"\n",
    "\n",
    "    return 5e-6"
   ]
  },
  {
   "cell_type": "code",
   "execution_count": 416,
   "metadata": {},
   "outputs": [
    {
     "data": {
      "image/png": "[encoded data removed]",
      "text/plain": [
       "<Figure size 432x288 with 1 Axes>"
      ]
     },
     "metadata": {
      "needs_background": "light"
     },
     "output_type": "display_data"
    },
    {
     "data": {
      "image/png": "[encoded data removed]",
      "text/plain": [
       "<Figure size 432x288 with 1 Axes>"
      ]
     },
     "metadata": {
      "needs_background": "light"
     },
     "output_type": "display_data"
    },
    {
     "name": "stdout",
     "output_type": "stream",
     "text": [
      "0.03170000000000006\n"
     ]
    }
   ],
   "source": [
    "from sklearn.datasets import make_classification\n",
    "\n",
    "errs = []\n",
    "\n",
    "LDAs = []\n",
    "for i in range(1):\n",
    "    \n",
    "    X, y = make_classification(n_samples=10000, n_features=500,class_sep=10, n_clusters_per_class=1, n_classes=2)\n",
    "\n",
    "    X1 = X[y == 0]\n",
    "    X2 = X[y == 1]\n",
    "    mean1 = X1.mean(0)\n",
    "    mean2 = X2.mean(0)\n",
    "    mean_diff = np.atleast_1d(mean1 - mean2)\n",
    "    cov1 = calculate_covariance_matrix(X1)\n",
    "    cov2 = calculate_covariance_matrix(X2)\n",
    "    cov_tot = cov1 + cov2\n",
    "\n",
    "    \"\"\"\n",
    "    mean1 =  np.zeros(500)\n",
    "    #cov1 = sklearn.datasets.make_spd_matrix(500)\n",
    "    X1 = np.random.multivariate_normal(mean1, cov1, 5000)\n",
    "    mean2 =  np.zeros(500) + 0.5\n",
    "    #cov2 = sklearn.datasets.make_spd_matrix(500)\n",
    "    X2 = np.random.multivariate_normal(mean2, cov2, 5000)\n",
    "    \n",
    "\n",
    "    X = np.concatenate((X1,X2))\n",
    "    y = np.zeros(10000)\n",
    "    y[5000:] = 1\n",
    "\n",
    "    idx = np.random.permutation(len(X))\n",
    "    X, y  = X[idx], y[idx]\n",
    "\n",
    "    \"\"\"\n",
    "    \n",
    "    from sklearn.decomposition import PCA\n",
    "\n",
    "    pca = PCA(n_components=2)\n",
    "    PCA_X = pca.fit_transform(X)\n",
    "    plt.scatter(PCA_X[:,0], PCA_X[:,1], c = y)\n",
    "    plt.show()\n",
    "\n",
    "    pca = PCA(n_components=1)\n",
    "    PCA_1X = pca.fit_transform(X)\n",
    "    plt.scatter(PCA_1X, np.zeros(PCA_1X.shape), c = y)\n",
    "    plt.show()\n",
    "    \n",
    "    clf = LinearDiscriminantAnalysis()\n",
    "    clf.fit(X,y)\n",
    "    y_ = clf.transform(X)\n",
    "    true_lda_score = max((np.sum(y_[y == 1] > 0) + np.sum(y_[y == 0] < 0)), (np.sum(y_[y == 0] > 0) + np.sum(y_[y == 1] < 0)) )/10000\n",
    "    \n",
    "    LDA = Online_LDA(1, 500)\n",
    "\n",
    "    n_epoch = 25\n",
    "    err = []\n",
    "\n",
    "    for n_e in range(n_epoch):\n",
    "        for count, x in enumerate(X):\n",
    "            if y[count] == 0:\n",
    "                r = 1\n",
    "                s = 0\n",
    "            else:\n",
    "                r = 0\n",
    "                s = 1\n",
    "            LDA.fit_next(x, r, s)\n",
    "        Y = LDA.w.T.dot(X.T)\n",
    "        err.append(true_lda_score - max((np.sum(Y[y == 1] > 0) + np.sum(Y[y == 0] < 0)), (np.sum(Y[y == 0] > 0) + np.sum(Y[y == 1] < 0)) )/10000)\n",
    "    \n",
    "    print(err[-1])\n",
    "    errs.append(err[-1])\n",
    "    LDAs.append(LDA)"
   ]
  },
  {
   "cell_type": "code",
   "execution_count": 417,
   "metadata": {},
   "outputs": [
    {
     "data": {
      "image/png": "[encoded data removed]",
      "text/plain": [
       "<Figure size 432x288 with 1 Axes>"
      ]
     },
     "metadata": {
      "needs_background": "light"
     },
     "output_type": "display_data"
    }
   ],
   "source": [
    "plt.plot(err)\n",
    "plt.show()"
   ]
  },
  {
   "cell_type": "code",
   "execution_count": 418,
   "metadata": {},
   "outputs": [
    {
     "data": {
      "text/plain": [
       "0.9638"
      ]
     },
     "execution_count": 418,
     "metadata": {},
     "output_type": "execute_result"
    }
   ],
   "source": [
    "Y = LDA.w.T.dot(X.T)\n",
    "max((np.sum(Y[y == 1] > 0) + np.sum(Y[y == 0] < 0)), (np.sum(Y[y == 0] > 0) + np.sum(Y[y == 1] < 0)) )/10000"
   ]
  },
  {
   "cell_type": "code",
   "execution_count": 419,
   "metadata": {},
   "outputs": [
    {
     "data": {
      "text/plain": [
       "0.9955"
      ]
     },
     "execution_count": 419,
     "metadata": {},
     "output_type": "execute_result"
    }
   ],
   "source": [
    "true_lda_score"
   ]
  },
  {
   "cell_type": "code",
   "execution_count": 422,
   "metadata": {},
   "outputs": [
    {
     "data": {
      "image/png": "[encoded data removed]",
      "text/plain": [
       "<Figure size 432x288 with 1 Axes>"
      ]
     },
     "metadata": {
      "needs_background": "light"
     },
     "output_type": "display_data"
    }
   ],
   "source": [
    "plt.scatter(Y,np.zeros(Y.shape), c = y)\n",
    "plt.show()"
   ]
  },
  {
   "cell_type": "code",
   "execution_count": 423,
   "metadata": {},
   "outputs": [
    {
     "data": {
      "image/png": "[encoded data removed]",
      "text/plain": [
       "<Figure size 432x288 with 1 Axes>"
      ]
     },
     "metadata": {
      "needs_background": "light"
     },
     "output_type": "display_data"
    }
   ],
   "source": [
    "plt.scatter( y_,np.zeros(y_.shape), c = y)\n",
    "plt.show()"
   ]
  },
  {
   "cell_type": "code",
   "execution_count": null,
   "metadata": {},
   "outputs": [],
   "source": []
  }
 ],
 "metadata": {
  "kernelspec": {
   "display_name": "Python 3",
   "language": "python",
   "name": "python3"
  },
  "language_info": {
   "codemirror_mode": {
    "name": "ipython",
    "version": 3
   },
   "file_extension": ".py",
   "mimetype": "text/x-python",
   "name": "python",
   "nbconvert_exporter": "python",
   "pygments_lexer": "ipython3",
   "version": "3.8.5"
  }
 },
 "nbformat": 4,
 "nbformat_minor": 4
}
